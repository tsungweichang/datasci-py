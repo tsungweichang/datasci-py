{
 "cells": [
  {
   "cell_type": "markdown",
   "metadata": {},
   "source": [
    "# Problem 2: Power Law\n",
    "https://arxiv.org/abs/cond-mat/0412004\n",
    "Implement Figure 3 in this paper. This involves reading the first part of Section 2 (from footnote 3 on page 3 to the end of page 4). Note that to find the power law cdf, just search for how to make a cdf on stackoverflow (https://stackoverflow.com/questions/10640759/how-to-get-the-cumulative-distribution-function-with-numpy, second answer that doesn't do histogram binning)\n",
    "\n",
    "It is fine to make one figure for each subfigure in Figure 3 (we will learn subfigures next week). Save your figures in the ```images``` folder and submit them with your homework."
   ]
  },
  {
   "cell_type": "code",
   "execution_count": 1,
   "metadata": {},
   "outputs": [],
   "source": [
    "%load_ext autoreload\n",
    "%autoreload 2\n",
    "\n",
    "import numpy as np\n",
    "import matplotlib as mpl\n",
    "import matplotlib.pyplot as plt"
   ]
  }
 ],
 "metadata": {
  "kernelspec": {
   "display_name": "Python 3",
   "language": "python",
   "name": "python3"
  },
  "language_info": {
   "codemirror_mode": {
    "name": "ipython",
    "version": 3
   },
   "file_extension": ".py",
   "mimetype": "text/x-python",
   "name": "python",
   "nbconvert_exporter": "python",
   "pygments_lexer": "ipython3",
   "version": "3.6.5"
  }
 },
 "nbformat": 4,
 "nbformat_minor": 2
}

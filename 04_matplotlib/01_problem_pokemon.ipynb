{
 "cells": [
  {
   "cell_type": "markdown",
   "metadata": {},
   "source": [
    "# Problem 1: Pokemon statistics\n",
    "This notebook uses the Kaggle Dataset [Pokemon with stats](https://www.kaggle.com/abcsds/pokemon/data). Download and move the csv into ```04_matplotlib/csvs```.\n",
    "\n",
    "For this notebook, I have defined a set of util functions for working with our Pokemon data. You can simply load the following two code blocks to see how the data is formatted. I would also suggest reading the ```pokemon_util.py``` file and checking the original ```csv``` for its format."
   ]
  },
  {
   "cell_type": "code",
   "execution_count": 1,
   "metadata": {},
   "outputs": [],
   "source": [
    "# the following code guarantees you'll properly reload any modules that you custom-defined in your environment.\n",
    "# you don't need to understand it.\n",
    "# just run this once at the beginning.\n",
    "# for auto-reloading extenrnal modules\n",
    "# see http://stackoverflow.com/questions/1907993/autoreload-of-modules-in-ipython\n",
    "%load_ext autoreload\n",
    "%autoreload 2\n",
    "import os\n",
    "import sys\n",
    "import numpy as np\n",
    "import csv\n",
    "import matplotlib as mpl\n",
    "import matplotlib.pyplot as plt"
   ]
  },
  {
   "cell_type": "code",
   "execution_count": 2,
   "metadata": {},
   "outputs": [],
   "source": [
    "# load the pokemon dataset in\n",
    "from pokemon_util import *\n",
    "pokemon_fpath = os.path.join('csvs', 'pokemon.csv')\n",
    "poke_headers, poke_types, poke_dict = load_pokemon(pokemon_fpath) # get the dictionary\n",
    "poke_array, poke_np_lookup = poke_array(poke_dict, poke_types) # convert into numpy array"
   ]
  },
  {
   "cell_type": "code",
   "execution_count": 3,
   "metadata": {},
   "outputs": [
    {
     "name": "stdout",
     "output_type": "stream",
     "text": [
      "['#', 'Mega', 'Type 1', 'Type 2', 'Generation', 'Legendary', 'Total', 'HP', 'Attack', 'Defense', 'Sp. Atk', 'Sp. Def', 'Speed']\n",
      "['Bug', 'Dark', 'Dragon', 'Electric', 'Fairy', 'Fighting', 'Fire', 'Flying', 'Ghost', 'Grass', 'Ground', 'Ice', 'Normal', 'Poison', 'Psychic', 'Rock', 'Steel', 'Water']\n",
      "[1, False, 'Grass', 'Poison', 1, False, 318, 45, 49, 49, 65, 65, 45]\n",
      "Bulbasaur [  1   0   9  13   1   0 318  45  49  49  65  65  45]\n"
     ]
    }
   ],
   "source": [
    "print(poke_headers)\n",
    "print(poke_types) # pokemon types, sorted\n",
    "print(poke_dict['Bulbasaur']) # dictionary format\n",
    "print(poke_np_lookup[0], poke_array[0,:]) # np array format"
   ]
  },
  {
   "cell_type": "markdown",
   "metadata": {},
   "source": [
    "## Exercise 1: Warmup histogram\n",
    "\n",
    "Plot the distribution of the Pokemon speed stat.\n",
    "\n",
    "**Note**: You can outline the bars by passing in ```edgecolor=<named color>``` to your plotting command. A list of named colors in Matplotlib is [here](https://matplotlib.org/2.0.0/examples/color/named_colors.html)."
   ]
  },
  {
   "cell_type": "code",
   "execution_count": 4,
   "metadata": {},
   "outputs": [
    {
     "data": {
      "image/png": "[encoded data removed]",
      "text/plain": [
       "<Figure size 432x288 with 1 Axes>"
      ]
     },
     "metadata": {},
     "output_type": "display_data"
    },
    {
     "name": "stdout",
     "output_type": "stream",
     "text": [
      "counts [ 30.  97. 183. 168. 144. 108.  50.  11.   8.   1.]\n",
      "bins [  5.   22.5  40.   57.5  75.   92.5 110.  127.5 145.  162.5 180. ]\n"
     ]
    }
   ],
   "source": [
    "# your code here\n",
    "speed_stat = poke_array[:,SPD]\n",
    "counts, bins, _ = plt.hist(speed_stat) # ignore patches\n",
    "plt.title('Speed stats of all Pokemon')\n",
    "plt.show()\n",
    "print('counts', counts)\n",
    "print('bins', bins)"
   ]
  },
  {
   "cell_type": "markdown",
   "metadata": {},
   "source": [
    "## Exercise 2: Grouped histograms\n",
    "\n",
    "### 2(a): Pokemon per generation\n",
    "\n",
    "Plot a histogram of the number of Pokemon per generation.\n",
    "\n",
    "!['2a_soln.png'](images/01_ex02a_soln.png)\n",
    "\n",
    "**Hints**\n",
    "* You can accomplish this task by either constructing the correct data and then calling ```bar``` or by a single call to ```hist```.\n",
    "* The data you should be plotting should simply be the column of Pokemon generations from ```poke_array```. \n",
    "* If you are using ```hist```:\n",
    "    * You will need to pass in a correct ```bin``` parameter in order to get what you want.\n",
    "    * Recall that if you specify ```bins``` as a list, then you must specify the right-most boundary as well. In other words, if you want 6 bars (one for each generation), you will need 7 elements in your ```bins``` variable.\n",
    "* If you are a stickler for having the generation label in the middle of your each bar, consider setting your xticks to be in the middle of each bar, and then setting your xticklabels as the generation numbers themselves.\n",
    "    * ```ax.set_xticks(<locations that you want your tickmarks>)```\n",
    "    * ```ax.set_xticklabels(<labels at your tickmarks>)```\n",
    "    * If you are not using ```ax``` and instead using ```plt```, this can be accomplished in a single call to ```plt.xticks(<locations>, <labels>)```."
   ]
  },
  {
   "cell_type": "code",
   "execution_count": 18,
   "metadata": {},
   "outputs": [
    {
     "data": {
      "image/png": "[encoded data removed]",
      "text/plain": [
       "<Figure size 432x288 with 1 Axes>"
      ]
     },
     "metadata": {},
     "output_type": "display_data"
    }
   ],
   "source": [
    "# your code here\n",
    "\n",
    "pokemon_generation = poke_array[:,GEN]\n",
    "fig = plt.figure()\n",
    "ax = plt.gca()\n",
    "x_axis = np.arange(1,np.amax(pokemon_generation)+2)\n",
    "ax.hist(pokemon_generation, bins=x_axis, width=0.8)\n",
    "\n",
    "ax.set_xlabel('Pokemon generation')\n",
    "ax.set_ylabel('Number of Pokemon')\n",
    "ax.set_title('Pokemon by generation')\n",
    "ax.set_xticks(x_axis+0.4)\n",
    "ax.set_xticklabels(x_gens[:-1])\n",
    "\n",
    "fig.savefig(os.path.join('images', '01_ex02a_soln.png'))"
   ]
  },
  {
   "cell_type": "markdown",
   "metadata": {},
   "source": [
    "### 2(b): Pokemon generation with dual typing\n",
    "Plot a clustered bar graph of Pokemon generations, where one group is single-typed Pokemon and the other is dual-typed Pokemon. For an example on how to plot clustered bar graphs, take a look at the ```barchart_demo.py``` example on the [Matplotlib website](https://matplotlib.org/examples/api/barchart_demo.html).\n",
    "\n",
    "Your plot should look like the following one:\n",
    "\n",
    "!['image'](images/01_ex2b_soln.png)\n",
    "\n",
    "**Hints:**\n",
    "* You might need to make explicit calls to ```np.histogram()``` and then call ```ax.bar()``` for each data series. This is because if you look at the ```barchart_demo``` example in Matplotlib, the clustered bar graph is created by playing around with the offsets of your bars. This is best done through ```ax.bar()```, since ```ax.hist()``` auto-decides your bar offsets and then provides very little flexibility afterwards.\n",
    "* If a pokemon is only single-typed, its TYPE2 field is -1.\n",
    "* You can get only the generation counts of single-typed Pokemon (and similarly dual-typed Pokemon) by using boolean indexing. Keep in mind that the generation column and the type 2 column is the same length, so you can boolean index by ```gen_col[some boolean for checking type 2 doesn't exist]``` which will return an array whose values are the generations of only the pokemon for which the boolean array evaluated to true.\n",
    "* You should make sure that the bins that you use for both data series are consistent.\n",
    "* You should make sure that the bins that you use for both data series cover the entire range of both single- and dual-type Pokemon.\n",
    "* Keep in mind the x-location parameter to ```ax.bar()``` must be the same length as the y-location parameter. This is different from ```np.histogram()``` and ```ax.hist()```, where bins must be one element longer than your desired number of bars.\n",
    "* The default alignment for ```ax.bar()``` is ```align='center'```, where the x-location parameter is the center of your bar. To have the x-locations be the leftmost edge, set ```align='edge'```.\n",
    "* To show a legend that floats outside of the plot area, call ```fig.legend()``` (as opposed to ```ax.legend()```).\n",
    "\n",
    "Save your plot as ```images/01_ex02b.pdf```."
   ]
  },
  {
   "cell_type": "code",
   "execution_count": 53,
   "metadata": {},
   "outputs": [
    {
     "data": {
      "image/png": "[encoded data removed]",
      "text/plain": [
       "<Figure size 432x288 with 1 Axes>"
      ]
     },
     "metadata": {},
     "output_type": "display_data"
    }
   ],
   "source": [
    "# your code here\n",
    "pokemon_generation = poke_array[:,GEN]\n",
    "pokemon_type2 = poke_array[:,TYPE2]\n",
    "single_type = pokemon_generation[pokemon_type2 == -1]\n",
    "dual_type = pokemon_generation[pokemon_type2 != -1]\n",
    "graph_one_type, _ = np.histogram(single_type, bins=x_gens)\n",
    "graph_two_type, _ = np.histogram(dual_type, bins=x_gens)\n",
    "\n",
    "fig = plt.figure()\n",
    "ax = plt.gca()\n",
    "ax.bar(x_axis[:-1]-0.4, graph_one_type, width=0.4, align = 'edge', label = 'Single-typed')\n",
    "ax.bar(x_axis[:-1], graph_two_type, width=0.4, align = 'edge', label = 'Dual-typed')\n",
    "ax.set_xlabel('Pokemon by generation')\n",
    "ax.set_ylabel('Number of Pokemon')\n",
    "ax.set_title('Pokemon by generation')\n",
    "\n",
    "leg = plt.legend( loc = 'upper right')\n",
    "bb = leg.get_bbox_to_anchor().inverse_transformed(ax.transAxes)\n",
    "xOffset = -0.34\n",
    "yOffset = -0.7\n",
    "bb.x0 += xOffset\n",
    "bb.x1 += xOffset\n",
    "bb.y0 += yOffset\n",
    "bb.y1 += yOffset\n",
    "leg.set_bbox_to_anchor(bb, transform = ax.transAxes)\n",
    "fig.savefig(os.path.join('images', '01_ex2b_soln.png'))"
   ]
  },
  {
   "cell_type": "markdown",
   "metadata": {},
   "source": [
    "## Exercise 3: The line plot\n",
    "\n",
    "### 3(a): Line plot of all six stats (HP, Attack, Defense, Special Attack, Special Defense, and Speed) over generations.\n",
    "\n",
    "Your image should look like this.\n",
    "\n",
    "![01_ex03a_soln.png](images/01_ex03a_soln.png)\n",
    "\n",
    "**Hints**:\n",
    "* Consider looping over the data once for constructing the means and standard deviations for all statistics over generations and saving them into arrays. And then you can use those arrays to plot both this exercise and the next exercises.\n",
    "* You can set a legend below the plot with the ```set_legend()``` function defined below.\n",
    "\n",
    "Save your plot as ```images/01_ex03a.pdf```."
   ]
  },
  {
   "cell_type": "code",
   "execution_count": 50,
   "metadata": {},
   "outputs": [],
   "source": [
    "def set_legend(ax, labels):\n",
    "    # Shrink current axis's height by 10% on the bottom\n",
    "    box = ax.get_position()\n",
    "    ax.set_position([box.x0, box.y0 + box.height * 0.1,\n",
    "                 box.width, box.height * 0.9])\n",
    "\n",
    "    # Put a legend below current axis\n",
    "    ax.legend(labels, loc='upper center', bbox_to_anchor=(0.5, -0.05),\n",
    "          fancybox=True, shadow=True, ncol=len(labels))"
   ]
  },
  {
   "cell_type": "code",
   "execution_count": null,
   "metadata": {},
   "outputs": [],
   "source": [
    "# your code here"
   ]
  },
  {
   "cell_type": "code",
   "execution_count": null,
   "metadata": {},
   "outputs": [],
   "source": [
    "# your code here"
   ]
  },
  {
   "cell_type": "markdown",
   "metadata": {},
   "source": [
    "### 3(b): Error Bars\n",
    "Recreate the following image, which plots the mean (with standard deviation error bars) of total stats over generations.\n",
    "\n",
    "!['asdf'](images/01_ex3b_soln.png)\n",
    "\n",
    "**Hints**\n",
    "* ```capsize``` sets the size of the caps of the errorbars.\n",
    "* An example of how to draw errorbars is here: https://matplotlib.org/1.2.1/examples/pylab_examples/errorbar_demo.html\n",
    "\n",
    "Save your image as ```images/01_ex03b.pdf```."
   ]
  },
  {
   "cell_type": "markdown",
   "metadata": {},
   "source": [
    "\n",
    "!['asdf'](images/01_ex3b_soln.png)\n"
   ]
  },
  {
   "cell_type": "code",
   "execution_count": null,
   "metadata": {},
   "outputs": [],
   "source": [
    "# your code here"
   ]
  },
  {
   "cell_type": "markdown",
   "metadata": {},
   "source": [
    "## Exercise 4: The boxplot\n",
    "\n",
    "Plot a series of boxplots, one per type, that depict a stat of your choosing for all non-legendary Pokemon of that type. Then, plot the legendary Pokemon of that type as single points using ```ax.scatter```. Note that you can mix any combination of plotting series in Matplotlib; we'll get more into this next time.\n",
    "\n",
    "Your plot should look like the following one:\n",
    "\n",
    "![01_ex4_soln.png](images/01_ex4_soln.png)\n",
    "\n",
    "\n",
    "**Hints**\n",
    "* Like during lecture, you can count a Pokemon as a type if that type is its primary or secondary type. So the total number of points will be more than the actual Pokemon.\n",
    "* ```ax.scatter()``` requires ```x``` and ```y``` to be the same size. You might want to plot these as you are iterating through the different Pokemon types.\n",
    "* You can set the figure size when you create the figure with ```plt.figure(figsize=(8,10))```.\n",
    "\n",
    "Save your image as ```images/01_ex04.pdf```."
   ]
  },
  {
   "cell_type": "code",
   "execution_count": 10,
   "metadata": {},
   "outputs": [
    {
     "name": "stdout",
     "output_type": "stream",
     "text": [
      "(6, 800)\n",
      "(800,)\n"
     ]
    },
    {
     "ename": "NameError",
     "evalue": "name 'multiple_boxplots' is not defined",
     "output_type": "error",
     "traceback": [
      "\u001b[1;31m---------------------------------------------------------------------------\u001b[0m",
      "\u001b[1;31mNameError\u001b[0m                                 Traceback (most recent call last)",
      "\u001b[1;32m<ipython-input-10-939773b9bdc1>\u001b[0m in \u001b[0;36m<module>\u001b[1;34m()\u001b[0m\n\u001b[0;32m      7\u001b[0m \u001b[0mnorm_stats2\u001b[0m \u001b[1;33m=\u001b[0m \u001b[0mall_stats\u001b[0m\u001b[1;33m.\u001b[0m\u001b[0mT\u001b[0m\u001b[1;33m/\u001b[0m\u001b[0mtotal_stats\u001b[0m\u001b[1;33m\u001b[0m\u001b[0m\n\u001b[0;32m      8\u001b[0m \u001b[0mnorm_stats2\u001b[0m \u001b[1;33m=\u001b[0m \u001b[0mnorm_stats2\u001b[0m\u001b[1;33m.\u001b[0m\u001b[0mT\u001b[0m\u001b[1;33m\u001b[0m\u001b[0m\n\u001b[1;32m----> 9\u001b[1;33m \u001b[0mmultiple_boxplots\u001b[0m\u001b[1;33m(\u001b[0m\u001b[0mnorm_stats2\u001b[0m\u001b[1;33m,\u001b[0m \u001b[0mstat_labels\u001b[0m\u001b[1;33m,\u001b[0m \u001b[0mxlabel\u001b[0m\u001b[1;33m=\u001b[0m\u001b[1;34m'Stat points'\u001b[0m\u001b[1;33m,\u001b[0m \u001b[0mtitle\u001b[0m\u001b[1;33m=\u001b[0m\u001b[1;34m'Normalized stat spread of all Pokemon'\u001b[0m\u001b[1;33m)\u001b[0m\u001b[1;33m\u001b[0m\u001b[0m\n\u001b[0m",
      "\u001b[1;31mNameError\u001b[0m: name 'multiple_boxplots' is not defined"
     ]
    }
   ],
   "source": []
  },
  {
   "cell_type": "markdown",
   "metadata": {},
   "source": [
    "## Submission\n",
    "\n",
    "Save and upload all of your pdfs in addition to your code."
   ]
  }
 ],
 "metadata": {
  "kernelspec": {
   "display_name": "Python 3",
   "language": "python",
   "name": "python3"
  },
  "language_info": {
   "codemirror_mode": {
    "name": "ipython",
    "version": 3
   },
   "file_extension": ".py",
   "mimetype": "text/x-python",
   "name": "python",
   "nbconvert_exporter": "python",
   "pygments_lexer": "ipython3",
   "version": "3.6.4"
  }
 },
 "nbformat": 4,
 "nbformat_minor": 2
}

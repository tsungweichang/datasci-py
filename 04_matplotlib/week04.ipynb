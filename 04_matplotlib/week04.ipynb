{
 "cells": [
  {
   "cell_type": "markdown",
   "metadata": {},
   "source": [
    "# Week 04: Matplotlib\n",
    "\n",
    "This week's learning goals are as follows:\n",
    "\n",
    "1. Understand Matplotlib's graphing paradigm.\n",
    "1. Advanced labeling.\n",
    "1. Use ```boxplot```\n",
    "1. Analyze data using Matplotlib's ```bar``` and NumPy's ```histogram``` commands\n"
   ]
  },
  {
   "cell_type": "code",
   "execution_count": null,
   "metadata": {},
   "outputs": [],
   "source": [
    "# the following code guarantees you'll properly reload any modules that you custom-defined in your environment.\n",
    "# you don't need to understand it.\n",
    "# just run this once at the beginning.\n",
    "# for auto-reloading extenrnal modules\n",
    "# see http://stackoverflow.com/questions/1907993/autoreload-of-modules-in-ipython\n",
    "%load_ext autoreload\n",
    "%autoreload 2\n",
    "import os\n",
    "import sys\n",
    "import numpy as np\n",
    "import csv\n",
    "import matplotlib as mpl\n",
    "import matplotlib.pyplot as plt"
   ]
  },
  {
   "cell_type": "markdown",
   "metadata": {},
   "source": [
    "This notebook uses the Kaggle Dataset [Pokemon with stats](https://www.kaggle.com/abcsds/pokemon/data). Download and move the csv into ```04_matplotlib/csvs```.\n",
    "\n",
    "For this notebook, I have defined a set of util functions for working with our Pokemon data. You can simply load the following two code blocks to see how the data is formatted:"
   ]
  },
  {
   "cell_type": "code",
   "execution_count": null,
   "metadata": {},
   "outputs": [],
   "source": [
    "# load the pokemon dataset in\n",
    "from pokemon_util import *\n",
    "pokemon_fpath = os.path.join('csvs', 'pokemon.csv')\n",
    "poke_headers, poke_types, poke_dict = load_pokemon(pokemon_fpath) # get the dictionary\n",
    "poke_array, poke_np_lookup = poke_array(poke_dict, poke_types) # convert into numpy array"
   ]
  },
  {
   "cell_type": "code",
   "execution_count": null,
   "metadata": {},
   "outputs": [],
   "source": [
    "print(poke_headers)\n",
    "print(poke_types) # pokemon types, sorted\n",
    "print(poke_dict['Bulbasaur']) # dictionary format\n",
    "print(poke_np_lookup[0], poke_array[0,:]) # np array format"
   ]
  },
  {
   "cell_type": "markdown",
   "metadata": {},
   "source": [
    "## 1. Matplotlib's graphing paradigm\n",
    "\n",
    "Matplotlib takes all of the plotting features from Matlab and throws them into Python so that you can interface with NumPy.\n",
    "\n",
    "```pyplot``` is the main interface to the matplotlib library. Instead of calling it directly, the convention is to import is as ```plt```:\n",
    "\n",
    "    import matplotlib.pyplot as plt\n",
    "    \n",
    "In Jupyter Notebook, ```plt``` defaults to plot one figure per cell block. You do not have to create the figure; as soon as you start plotting, ```plt``` will handle the figure creation.\n",
    "\n",
    "This first block shows the most common function, ```plot(x_args, y_args)``` which plots a line graph. Notice how each call to ```plot``` plots a new series."
   ]
  },
  {
   "cell_type": "code",
   "execution_count": null,
   "metadata": {},
   "outputs": [],
   "source": [
    "X = np.linspace(-np.pi, np.pi, 80, endpoint=True)\n",
    "C,S = np.cos(X), np.sin(X)\n",
    "plt.plot(X,C)\n",
    "plt.plot(X,S)\n",
    "plt.show()"
   ]
  },
  {
   "cell_type": "code",
   "execution_count": null,
   "metadata": {},
   "outputs": [],
   "source": [
    "# also notice how a separate block to plot does not plot anything\n",
    "plt.show()"
   ]
  },
  {
   "cell_type": "markdown",
   "metadata": {},
   "source": [
    "The second most common function is ```scatter```, which plots a scatter plot."
   ]
  },
  {
   "cell_type": "code",
   "execution_count": null,
   "metadata": {},
   "outputs": [],
   "source": [
    "plt.scatter(X, C)\n",
    "plt.scatter(X,S)\n",
    "plt.show()"
   ]
  },
  {
   "cell_type": "markdown",
   "metadata": {},
   "source": [
    "For any plotting function that takes in two arguments ```xs``` and ```ys``` and plots each element of ```ys``` versus each element of ```xs```, it is essential that ```xs.shape == ys.shape```. That being said, you can plot multiple things at a time provided they are the same shape.\n",
    "\n",
    "The below code shows how you would plot both the sine and cosine waves with a single scatter plot. Notice that Matplotlib does not auto-change colors, as it still considers it a single series."
   ]
  },
  {
   "cell_type": "code",
   "execution_count": null,
   "metadata": {},
   "outputs": [],
   "source": [
    "#plt.scatter(X, [C,S]) # won't work because X is not the same size\n",
    "X_tile = np.tile(np.expand_dims(X, axis=0), (2,1))\n",
    "plt.scatter(X_tile, [C,S])\n",
    "plt.show()"
   ]
  },
  {
   "cell_type": "markdown",
   "metadata": {},
   "source": [
    "### Legends and labels"
   ]
  },
  {
   "cell_type": "markdown",
   "metadata": {},
   "source": [
    "Graphs are often meaningless without labels. The following code adds axis labels and a title to our sine and cosine graph:"
   ]
  },
  {
   "cell_type": "code",
   "execution_count": null,
   "metadata": {},
   "outputs": [],
   "source": [
    "def simple_plot():\n",
    "    X = np.linspace(-np.pi, np.pi, 80, endpoint=True)\n",
    "    C,S = np.cos(X), np.sin(X)\n",
    "    plt.plot(X,C)\n",
    "    plt.plot(X,S)\n",
    "    plt.xlabel('x values')\n",
    "    plt.ylabel('y values')\n",
    "    plt.title('sine and cosine graphs')\n",
    "    plt.show()\n",
    "simple_plot()"
   ]
  },
  {
   "cell_type": "markdown",
   "metadata": {},
   "source": [
    "We can also add a legend in two ways:"
   ]
  },
  {
   "cell_type": "code",
   "execution_count": null,
   "metadata": {},
   "outputs": [],
   "source": [
    "plt.plot(X,C)\n",
    "plt.plot(X,S)\n",
    "plt.legend(['cosine', 'sine']) # in order of how we plotted them\n",
    "plt.show()"
   ]
  },
  {
   "cell_type": "code",
   "execution_count": null,
   "metadata": {},
   "outputs": [],
   "source": [
    "plt.plot(X,C, label='cosine')\n",
    "plt.plot(X,S, label='sine')\n",
    "plt.legend()\n",
    "plt.show()"
   ]
  },
  {
   "cell_type": "markdown",
   "metadata": {},
   "source": [
    "### ```fig``` and ```ax```\n",
    "\n",
    "What ```plt.plot``` and ```plt.scatter``` do is two things:\n",
    "* Create a figure object (usually called ```fig```) which refers to the entire plot window\n",
    "* Create an axis object (usually called ```ax```) which is used to plot and add new things\n",
    "\n",
    "So we can split up the ```plot``` command into a few parts:\n",
    "1. ```plt.figure()``` create a new figure\n",
    "1. ```ax = plt.gca()``` get the current set of axes for the current figure that ```plt``` is focusing on\n",
    "1. ```ax.scatter(...)``` use the axis explicitly to plot\n",
    "\n",
    "When we use ax explicitly like this, our commands for labeling slightly change:\n",
    "* ```ax.set_xlabel('x values') # instead of plt.xlabel('x values')```\n",
    "* ```ax.set_ylabel('y values') # instead of plt.ylabel(...)```\n",
    "* ```ax.set_title('trig functions') # instead of plt.title(...)```\n"
   ]
  },
  {
   "cell_type": "code",
   "execution_count": null,
   "metadata": {},
   "outputs": [],
   "source": [
    "def fig_plot():\n",
    "    X = np.linspace(-np.pi, np.pi, 80, endpoint=True)\n",
    "    C,S = np.cos(X), np.sin(X)\n",
    "    fig = plt.figure()\n",
    "    ax = plt.gca()\n",
    "    ax.plot(X,C, label='cosine')\n",
    "    ax.plot(X,S, label='sine')\n",
    "    ax.set_xlabel('x values')\n",
    "    ax.set_ylabel('y values')\n",
    "    ax.set_title('sine and cosine graphs')\n",
    "    ax.legend()\n",
    "    fig.legend() # notice how it puts a legend in a different place, because its graphics area is different\n",
    "    plt.show()\n",
    "    return fig\n",
    "fig = fig_plot()"
   ]
  },
  {
   "cell_type": "markdown",
   "metadata": {},
   "source": [
    "And now notice that since we have a handle ```fig``` to the plot window, we can carry it across notebook cells."
   ]
  },
  {
   "cell_type": "code",
   "execution_count": null,
   "metadata": {},
   "outputs": [],
   "source": [
    "fig"
   ]
  },
  {
   "cell_type": "markdown",
   "metadata": {},
   "source": [
    "Having a directly handle to ```fig``` is very useful if we want to save figures."
   ]
  },
  {
   "cell_type": "code",
   "execution_count": null,
   "metadata": {},
   "outputs": [],
   "source": [
    "fig.savefig(os.path.join('images','waves.png'))"
   ]
  },
  {
   "cell_type": "markdown",
   "metadata": {},
   "source": [
    "#### Programming exercises\n",
    "\n",
    "Plot a Univariate Gaussian probability distribution\n",
    "\n",
    "* Use ```np.linspace``` to generate x values from 5 to -5 with 100 points.\n",
    "* Look at the [SciPy normal documentation](https://docs.scipy.org/doc/scipy/reference/generated/scipy.stats.norm.html) and use ```norm.pdf()``` with loc=0, scale=1 to produce the y array for your x values.\n",
    "* Make sure to label your axes and title your plot.\n",
    "    * x axis: x, or ```$x$``` for italics\n",
    "    * y axis: Gaussian(x), or ```Gaussian($x$)``` for italics\n",
    "    * title: Univariate gaussian probabilitry distribution (pdf)\n",
    "* Save your figure as ```images/gaussian.pdf```."
   ]
  },
  {
   "cell_type": "code",
   "execution_count": null,
   "metadata": {},
   "outputs": [],
   "source": [
    "from scipy.stats import norm\n",
    "\n",
    "def plot_norm():\n",
    "    fig = plt.figure()\n",
    "    ax = plt.gca()\n",
    "    # your code here\n",
    "    \n",
    "fig = plot_norm()"
   ]
  },
  {
   "cell_type": "markdown",
   "metadata": {},
   "source": [
    "## 2. Advanced labeling and customizations\n",
    "\n",
    "The rest of this week's lecture focuses on using the Pokemon dataset (from Kaggle) to help us show complex trends in our data. If you haven't already, download and load in the Pokemon dataset. I have written the utility function for you."
   ]
  },
  {
   "cell_type": "code",
   "execution_count": null,
   "metadata": {},
   "outputs": [],
   "source": [
    "# load the pokemon dataset in\n",
    "from pokemon_util import *\n",
    "pokemon_fpath = os.path.join('csvs', 'pokemon.csv')\n",
    "poke_headers, poke_types, poke_dict = load_pokemon(pokemon_fpath) # get the dictionary\n",
    "poke_array, poke_np_lookup = poke_array(poke_dict, poke_types) # convert into numpy array"
   ]
  },
  {
   "cell_type": "code",
   "execution_count": null,
   "metadata": {},
   "outputs": [],
   "source": [
    "print(poke_headers)\n",
    "print(poke_types) # pokemon types, sorted\n",
    "print(poke_dict['Bulbasaur']) # dictionary format\n",
    "print(poke_np_lookup[0], poke_array[0,:]) # np array format"
   ]
  },
  {
   "cell_type": "markdown",
   "metadata": {},
   "source": [
    "Suppose we want to plot the total stats versus the pokemon numbers. Just blindly plotting them produces a pretty messy graph:"
   ]
  },
  {
   "cell_type": "code",
   "execution_count": null,
   "metadata": {},
   "outputs": [],
   "source": [
    "total_stats = poke_array[:,TOTAL_STAT]\n",
    "poke_nums = poke_array[:,POKENUM]\n",
    "plt.scatter(poke_nums, total_stats)\n",
    "plt.xlabel('Pokedex #')\n",
    "plt.ylabel('Total stats')\n",
    "plt.title('Pokemon statistics')\n",
    "plt.show()"
   ]
  },
  {
   "cell_type": "markdown",
   "metadata": {},
   "source": [
    "There are a few ways we can fix this. The first is to customize our scatter points to add more information about the size, shape, and transparency of our points:\n",
    "* ```alpha``` indicates opacity. 1.0 means 100% opaque (by default), 0.0 means 100% transparency.\n",
    "* ```c``` is color. ```'k'``` would be black, ```'o'``` would be orange, and so on. There are lots of colors that can be specified by name, which you can find on the [Matplotlib documentation page for named colors](https://matplotlib.org/2.0.0/examples/color/named_colors.html).\n",
    "* ```s``` is size. Numbers are exponential.\n",
    "* ```marker``` is marker shape (the shape of your point). Default is ```'o'``` or a filled in circle. More info is on the [Matplotlib documentation page for markers](https://matplotlib.org/api/markers_api.html#module-matplotlib.markers).\n",
    "* ```facecolors``` is the face color of your marker. If you do not want your markers filled in, set this to ```'none'``` (the string). Otherwise it can be set to a color.\n",
    "* ```edgecolors``` is the edge color of your marker. If you do not want edge outlines, set this to ```'none'``` (the string)."
   ]
  },
  {
   "cell_type": "code",
   "execution_count": null,
   "metadata": {},
   "outputs": [],
   "source": [
    "plt.scatter(poke_nums, total_stats, alpha=0.4, marker='^') # you must replot\n",
    "plt.xlabel('Pokedex #')\n",
    "plt.ylabel('Total stats')\n",
    "plt.title('Pokemon statistics')\n",
    "plt.show()"
   ]
  },
  {
   "cell_type": "markdown",
   "metadata": {},
   "source": [
    "Alas, we probably would prefer to differentiate these Pokemon by their type. So here I've tried it out, still plotting by Pokedex number."
   ]
  },
  {
   "cell_type": "code",
   "execution_count": null,
   "metadata": {},
   "outputs": [],
   "source": [
    "fig = plt.figure()\n",
    "ax = plt.gca()\n",
    "for i, poke_type in enumerate(poke_types):\n",
    "    total_stats_type = poke_array[poke_array[:,TYPE1] == i, TOTAL_STAT]\n",
    "    poke_nums_type = poke_array[poke_array[:,TYPE1] == i, POKENUM]\n",
    "    ax.scatter(poke_nums_type, total_stats_type, label=poke_type, marker='^', alpha=0.4)\n",
    "ax.set_xlabel('Pokedex #')\n",
    "ax.set_ylabel('Total stats')\n",
    "ax.set_title('Pokemon statistics')\n",
    "plt.show()"
   ]
  },
  {
   "cell_type": "markdown",
   "metadata": {},
   "source": [
    "### Setting axis limits\n",
    "\n",
    "Suppose I want to adjust my axis boundaries.\n",
    "* ```ax.set_xlim((min_value, max_value))```(note the internal tuple). The analogous function for the y axis is ```ax.set_ylim((min_value, max_value))```.\n",
    "* ```ax.get_xlim()``` returns two values, the minimum and maximum of your axis."
   ]
  },
  {
   "cell_type": "code",
   "execution_count": null,
   "metadata": {},
   "outputs": [],
   "source": [
    "curr_xmin, curr_xmax = ax.get_xlim()\n",
    "ax.set_xlim((0, curr_xmax))\n",
    "ax.set_ylim((0, 1000))\n",
    "fig"
   ]
  },
  {
   "cell_type": "markdown",
   "metadata": {},
   "source": [
    "### Making custom axis labels\n",
    "\n",
    "Sometimes you may not always have numeric axis labels. For example, suppose I wanted to plot the spread of stats by Pokemon type, instead of Pokedex number. Then I would need to adjust the x axis labels. The key function we use is ```plt.xticks(<list of intercepts>, <list of labels>)``` or ```ax.set_xticks(<list of intercepts>)``` followed by ```ax.set_xticklabels(<list of labels>)```.\n",
    "\n",
    "You can also add ```rotation``` to the labels. I've done so for legibility.\n"
   ]
  },
  {
   "cell_type": "code",
   "execution_count": null,
   "metadata": {},
   "outputs": [],
   "source": [
    "fig = plt.figure()\n",
    "ax = plt.gca()\n",
    "\n",
    "for i, poke_type in enumerate(poke_types):\n",
    "    combo_type = np.logical_or(poke_array[:,TYPE1] == i, poke_array[:,TYPE2] == i)\n",
    "    #combo_type = poke_array[:,TYPE1] == i\n",
    "    total_stats_type = poke_array[combo_type, TOTAL_STAT]\n",
    "    # note that you cannot set facecolor=None in this loop. This is because matplotlib is auto-setting\n",
    "    # the color of your series for you.\n",
    "    ax.scatter(i*np.ones(total_stats_type.shape), total_stats_type, label=poke_type, alpha=0.2)\n",
    "ax.set_xlabel('Pokemon type')\n",
    "ax.set_ylabel('Total stats')\n",
    "ax.set_xticks(range(len(poke_types)))\n",
    "ax.set_xticklabels(poke_types,rotation=90)\n",
    "ax.set_title('Total stats by Pokemon type')\n",
    "plt.show()"
   ]
  },
  {
   "cell_type": "markdown",
   "metadata": {},
   "source": [
    "#### Programming exercises\n",
    "\n",
    "Plot a horizontal version of the previous graph. To make your figure a different size, call ```plt.figure((width, height))``` when you create the figure object."
   ]
  },
  {
   "cell_type": "code",
   "execution_count": null,
   "metadata": {},
   "outputs": [],
   "source": [
    "# your code here"
   ]
  },
  {
   "cell_type": "markdown",
   "metadata": {},
   "source": [
    "## 3. Boxplots"
   ]
  },
  {
   "cell_type": "markdown",
   "metadata": {},
   "source": [
    "Other than scatter and line graphs, Matplotlib can also plot a variety of other standard graphs, like boxplots and histograms. We'll first discuss the easier of the two, the boxplot.\n",
    "\n",
    "The Matplotlib documentation website has detailed information about each function (like the [boxplot](https://matplotlib.org/api/_as_gen/matplotlib.pyplot.boxplot.html) one), but the best resource for graphing is their extensive examples library. This [boxplot demo](https://matplotlib.org/2.0.1/examples/pylab_examples/boxplot_demo.html) page has a lot of examples of how to plot boxplots.\n",
    "\n",
    "For example, let's graph the total pokemon stats as a boxplot."
   ]
  },
  {
   "cell_type": "code",
   "execution_count": null,
   "metadata": {},
   "outputs": [],
   "source": [
    "total_stats = poke_array[:,TOTAL_STAT]\n",
    "plt.boxplot(total_stats)\n",
    "plt.title('Total stats of all Pokemon')\n",
    "plt.show()"
   ]
  },
  {
   "cell_type": "markdown",
   "metadata": {},
   "source": [
    "Want a horizontal graph? You can check up on the boxplot documentation, but here you go. I've also adjusted the whiskers from their default 1.5 IQR (interquartile range) to show some outliers, and I've labeled the axis."
   ]
  },
  {
   "cell_type": "code",
   "execution_count": null,
   "metadata": {},
   "outputs": [],
   "source": [
    "plt.boxplot(total_stats, vert=False, whis=1.0)\n",
    "ax = plt.gca()\n",
    "ax.set_yticklabels(['total stats'])\n",
    "ax.set_xlabel('Stat points')\n",
    "ax.set_title('Spread of total stats of all Pokemon')\n",
    "plt.show()"
   ]
  },
  {
   "cell_type": "markdown",
   "metadata": {},
   "source": [
    "We can also plot multiple boxplots on the same graph. However, note that every call to ```boxplot``` resets the location at which to graph the boxplot, and therefore repeated calls to boxplot will actually graph overlapping boxplots, as below. "
   ]
  },
  {
   "cell_type": "code",
   "execution_count": null,
   "metadata": {},
   "outputs": [],
   "source": [
    "fig = plt.figure()\n",
    "ax = plt.gca()\n",
    "stat_inds = [HP, ATK, DEF, SPATK, SPDEF, SPD]\n",
    "for stat_ind in stat_inds:\n",
    "    dim_stats = poke_array[:,stat_ind]\n",
    "    ax.boxplot(dim_stats, vert=False, whis=1.5)\n",
    "ax.set_title('Spread of each Pokemon stat')\n",
    "plt.show()"
   ]
  },
  {
   "cell_type": "markdown",
   "metadata": {},
   "source": [
    "Instead, we should plot all of the boxplots at once in a single call to ```boxplot``` by creating a 2-D array of all of the information that we want plotted."
   ]
  },
  {
   "cell_type": "code",
   "execution_count": null,
   "metadata": {},
   "outputs": [],
   "source": [
    "all_stats = poke_array[:,stat_inds]\n",
    "stat_labels = [poke_headers[ind] for ind in stat_inds]\n",
    "print('all stats dim', all_stats.shape)\n",
    "def multiple_boxplots(arr, labels, xlabel=None, title=None):\n",
    "    fig = plt.figure()\n",
    "    ax = plt.gca()\n",
    "    ax.boxplot(arr, vert=False, whis=1.5, labels=labels) # note `labels` keyword, not `label`\n",
    "    if xlabel is not None: ax.set_xlabel(xlabel)\n",
    "    if title is not None: ax.set_title(title)\n",
    "    plt.show()\n",
    "multiple_boxplots(all_stats, stat_labels, xlabel='Stat points', title='Spread of stats of all Pokemon')"
   ]
  },
  {
   "cell_type": "markdown",
   "metadata": {},
   "source": [
    "But perhaps normalized stats would be better, as the range of each Pokemon stat is different. Below is the same plot with a normalized x-axis."
   ]
  },
  {
   "cell_type": "code",
   "execution_count": null,
   "metadata": {},
   "outputs": [],
   "source": [
    "norm_stats = all_stats/np.amax(all_stats, axis=0) # do you see how this normalizes across each dimension?\n",
    "multiple_boxplots(norm_stats, stat_labels, xlabel='Stat points', title='Normalized stat spread of all Pokemon')"
   ]
  },
  {
   "cell_type": "markdown",
   "metadata": {},
   "source": [
    "#### Programming exercises\n",
    "\n",
    "Plot the spread of stats of all Pokemon where any given stat is ```stat/total_stat```. In other words, instead of normalizing by the max of that particular stat---say, normalizing Bulbasaur's HP by the max HP seen across all Pokemon---now normalize Bulbasaur's HP by Bulbasaur's total stat statistic.\n",
    "\n",
    "A suggested implementation will work in two lines:\n",
    "* 1 line to normalize by total stats\n",
    "* 1 line to call ```multiple_boxplots()```"
   ]
  },
  {
   "cell_type": "code",
   "execution_count": null,
   "metadata": {},
   "outputs": [],
   "source": [
    "# your code here"
   ]
  },
  {
   "cell_type": "markdown",
   "metadata": {},
   "source": [
    "## 4. Matplotlib ```bar``` and ```hist``` and NumPy ```histogram```\n",
    "\n",
    "Now let's move on to plotting bar graphs and histograms in Matplotlib. Recall the difference between bar graphs and histograms:\n",
    "* **bar graph**: counts of items separated by categories. For example, the number of Pokemon of each type over all generations.\n",
    "* **histogram**: binned distribution count of an observed item population. For example, the distribution of the HP statistic over all Pokemon. Note that histograms provide a more informative view of a population than the boxplot, as it also portrays the shape of the distribution.\n",
    "\n",
    "### Matplotlib ```ax.bar()```\n",
    "\n",
    "Matplotlib has a ```bar``` command that works as you would expect.\n",
    "\n",
    "```ax.bar(xs, height_ys, width)```\n",
    "* ```xs```: a list of starting coordinates of each of your bars. This is either the center coordinate (by default) or the leftmost coordinate, which is specified by the ```align``` keyword.\n",
    "* ```height_ys```: a list of heights for each of your bars.\n",
    "* ```width``` (optional): a scalar specifying the width of all of your bars. Default is 0.8.\n",
    "* ```align``` (optional: 'center' or 'edge'. Determines whether your ```xs``` are the center or left coordinates of each bar. Default is 'center'.\n",
    "\n",
    "Let's plot the bar graph of Pokemon per type. Note that if a Pokemon has dual typing, we count it twice. So the number of Pokemon you see might be more than the number of Pokemon per generation."
   ]
  },
  {
   "cell_type": "code",
   "execution_count": null,
   "metadata": {},
   "outputs": [],
   "source": [
    "fig = plt.figure()\n",
    "ax = plt.gca()\n",
    "pokemon_counts = []\n",
    "for i, poke_type in enumerate(poke_types):\n",
    "    combo_type = np.logical_or(poke_array[:,TYPE1] == i, poke_array[:,TYPE2] == i)\n",
    "    pokemon_counts.append(np.count_nonzero(combo_type))\n",
    "ax.bar(range(len(poke_types)), pokemon_counts)\n",
    "ax.set_xticks(range(len(poke_types)))\n",
    "ax.set_xticklabels(poke_types, rotation=90)\n",
    "ax.set_xlabel('Pokemon types')\n",
    "ax.set_ylabel('Number of Pokemon')\n",
    "ax.set_title('Pokemon types')\n",
    "plt.show()"
   ]
  },
  {
   "cell_type": "markdown",
   "metadata": {},
   "source": [
    "Since ```ax.bar()``` allows us to specify the x-coordinates of our bars, it is simple to make a clustered bar graph. Below I have plotted the number of Pokemon per type for Generation 1 and Generation 7."
   ]
  },
  {
   "cell_type": "code",
   "execution_count": null,
   "metadata": {},
   "outputs": [],
   "source": [
    "fig = plt.figure()\n",
    "ax = plt.gca()\n",
    "pokemon_counts_gen1 = []\n",
    "pokemon_counts_gen2 = []\n",
    "for i, poke_type in enumerate(poke_types):\n",
    "    combo_type = np.logical_or(poke_array[:,TYPE1] == i, poke_array[:,TYPE2] == i)\n",
    "    combo_type_gen1 = np.logical_and(combo_type, poke_array[:,GEN] == 1)\n",
    "    combo_type_gen2 = np.logical_and(combo_type, poke_array[:,GEN] == 2)\n",
    "    pokemon_counts_gen1.append(np.count_nonzero(combo_type_gen1))\n",
    "    pokemon_counts_gen2.append(np.count_nonzero(combo_type_gen2))\n",
    "x_gen1 = np.arange(0, len(poke_types)*3, 3)\n",
    "x_gen2 = np.arange(1, len(poke_types)*3, 3)\n",
    "bar_width = 1\n",
    "ax.bar(x_gen1, pokemon_counts_gen1, width=bar_width, label='Gen 1')\n",
    "ax.bar(x_gen2, pokemon_counts_gen2, width=bar_width, label='Gen 2')\n",
    "ax.set_xticks(x_gen2)\n",
    "ax.set_xticklabels(poke_types, rotation=90)\n",
    "ax.set_xlabel('Pokemon types')\n",
    "ax.set_ylabel('Number of Pokemon')\n",
    "ax.legend()\n",
    "ax.set_title('Pokemon types')\n",
    "plt.show()"
   ]
  },
  {
   "cell_type": "markdown",
   "metadata": {},
   "source": [
    "#### Programming exercise\n",
    "\n",
    "Note that the above bar chart doesn't tell us too much because the number of Pokemon introduced in Gen 1 and in Gen 2 are different. Plot the above bar chart with normalized values; that is, where the y-axis becomes the fraction of Pokemon in that particular generation that are of a particular type."
   ]
  },
  {
   "cell_type": "code",
   "execution_count": null,
   "metadata": {},
   "outputs": [],
   "source": [
    "# your code here\n",
    "\n"
   ]
  },
  {
   "cell_type": "markdown",
   "metadata": {},
   "source": [
    "### Matplotlib ```hist``` and NumPy ```histogram```\n",
    "\n",
    "Next we'll do histograms. \n",
    "* Examples: [Matplotlib histogram demo](https://matplotlib.org/1.2.1/examples/pylab_examples/histogram_demo.html)\n",
    "* [Matplotlib basic tutorial](https://matplotlib.org/gallery/statistics/hist.html)\n",
    "* Documentation of ```plt.hist(x, bins, range, density, cumulative)``` [Matplotlib documentation](https://matplotlib.org/api/_as_gen/matplotlib.pyplot.hist.html)\n",
    "    * ```x```:\n",
    "    * ```bins``` (optional): an int or list. If an int, specifies to create that number of bins for the data. If a list, specifies the left-hand edges + the last right-hand edge for your bins. In other words, if bins is a list, len(bins) = len(x) + 1. If not specified, defaults to bins=10.\n",
    "    * ```range``` (optional): if bins is an integer, you can use this to specify the range=(min_val, max_val) that you want.\n",
    "    * ```density``` (optional): If True, the first element of the return tuple will be the counts normalized to form a probability density, i.e., the area (or integral) under the histogram will sum to 1. This is achieved by dividing the count by the number of observations times the bin width and not dividing by the total number of observations. If stacked is also True, the sum of the histograms is normalized to 1.\n",
    "    * ```cumulative``` (optional): if true, computes a cdf instead of a pmf.\n",
    "    * ```width``` (optional): bar width. Default is width of each bin.\n",
    "    \n",
    "Below is a simple histogram. Note that the number of bins is 10, and the bars are flush against each other (as opposed to in ```ax.bar()```). Also notice the range is already decided for you."
   ]
  },
  {
   "cell_type": "code",
   "execution_count": null,
   "metadata": {},
   "outputs": [],
   "source": [
    "total_stats = poke_array[:,TOTAL_STAT]\n",
    "plt.hist(total_stats)\n",
    "plt.title('Distribution of total stats of all Pokemon')\n",
    "plt.show()"
   ]
  },
  {
   "cell_type": "markdown",
   "metadata": {},
   "source": [
    "```plt.hist``` also returns values for you:\n",
    "* ```n```: the values of the histogram bins in a list.\n",
    "* ```bins```: the edges of the bins. Note len(bins) = n+1, like in the parameter.\n",
    "* ```patches```: the actual rectangular objects (one per bin) for the plot, in case you want to manipulate these as well"
   ]
  },
  {
   "cell_type": "code",
   "execution_count": null,
   "metadata": {},
   "outputs": [],
   "source": [
    "total_stats = poke_array[:,TOTAL_STAT]\n",
    "counts, bins, _ = plt.hist(total_stats) # ignore patches\n",
    "plt.title('Total stats of all Pokemon')\n",
    "plt.show()\n",
    "print('counts', counts)\n",
    "print('bins', bins)"
   ]
  },
  {
   "cell_type": "markdown",
   "metadata": {},
   "source": [
    "#### ```density=True``` and ```np.histogram()```\n",
    "But what if you just wanted the bin counts and the bins? Then NumPy has the function for you: **```np.histogram()```**. It does the same thing as ```ax.hist()``` in Matplotlib, but just does not graph it."
   ]
  },
  {
   "cell_type": "code",
   "execution_count": null,
   "metadata": {},
   "outputs": [],
   "source": [
    "speed_stats = poke_array[:,SPD]\n",
    "counts, bins = np.histogram(speed_stats)\n",
    "print('counts', counts)\n",
    "print('bins', bins)\n",
    "print('Total number of Pokemon', np.sum(counts))"
   ]
  },
  {
   "cell_type": "markdown",
   "metadata": {},
   "source": [
    "It's useful to know how to call ```np.histogram()``` explicitly because the ```density``` option in ```ax.hist()``` (and subsequently ```np.histogram()``` does not do exactly what you would expect."
   ]
  },
  {
   "cell_type": "code",
   "execution_count": null,
   "metadata": {},
   "outputs": [],
   "source": [
    "speed_stats = poke_array[:,SPD]\n",
    "fracs, bins, _ = plt.hist(speed_stats, density=True)\n",
    "plt.title('Speed stat of all Pokemon')\n",
    "plt.show()"
   ]
  },
  {
   "cell_type": "markdown",
   "metadata": {},
   "source": [
    "In the graph above, it is clear that for the tallest bar, 0.0040 != 198/800 (800 total Pokemon). So what is the ```density=True``` option giving? It is giving us the idea that if you took the integral over the area of the histogram, it would be 1:"
   ]
  },
  {
   "cell_type": "code",
   "execution_count": null,
   "metadata": {},
   "outputs": [],
   "source": [
    "bin_width = bins[1] - bins[0]\n",
    "np.sum(fracs*bin_width)"
   ]
  },
  {
   "cell_type": "markdown",
   "metadata": {},
   "source": [
    "However, suppose we wanted the percentage of Pokemon as a distribution. Then we can explicitly call ```np.histogram()``` and combine it with an ```ax.bar()``` call to create the correctly normalized plot, as below.\n",
    "\n",
    "**Notes**:\n",
    "* ```ax.bar()``` takes in only the one coordinate of each bar, so we must set that coordinate to be 'edge' aligned.\n",
    "* We must must also specify the width since the default width is just 0.8.\n",
    "* It's also useful to have your xtick marks be where your actual bin edges are, so let us specify that too. I cast the numpy array of bins to integers to avoid the floating point printout on the graph."
   ]
  },
  {
   "cell_type": "code",
   "execution_count": null,
   "metadata": {},
   "outputs": [],
   "source": [
    "counts, bins = np.histogram(speed_stats)\n",
    "total_pokemon = np.sum(counts)\n",
    "percentages = counts/total_pokemon * 100\n",
    "bin_width = bins[1] - bins[0]\n",
    "plt.bar(bins[:-1], percentages, width=bin_width, align='edge')\n",
    "plt.ylabel('% of Pokemon')\n",
    "plt.xlabel('Speed stat')\n",
    "print('default xticks', plt.xticks())\n",
    "plt.xticks(bins.astype(int)) # without this line, you would have default xticks\n",
    "print('new xticks', bins.astype(int))\n",
    "plt.title('Distribution of speed stats')"
   ]
  },
  {
   "cell_type": "markdown",
   "metadata": {},
   "source": [
    "#### Programming Exercises\n",
    "\n",
    "1. Fill in the below code to plot a bar graph of the number of Pokemon per generation."
   ]
  },
  {
   "cell_type": "code",
   "execution_count": null,
   "metadata": {},
   "outputs": [],
   "source": [
    "fig = plt.figure()\n",
    "ax = plt.gca()\n",
    "pokemon_counts = []\n",
    "max_gen = np.amax(poke_array[:,GEN])\n",
    "for i in range(1, max_gen+1):\n",
    "    # your code here\n",
    "    # populate the pokemon_counts array\n",
    "    pass\n",
    "# your code here to ```ax.bar()```\n",
    "\n",
    "# set labels here\n",
    "plt.show()"
   ]
  },
  {
   "cell_type": "markdown",
   "metadata": {},
   "source": [
    "2 Plot a histogram of the distribution of the HP stat by % of Pokemon, not count of Pokemon."
   ]
  },
  {
   "cell_type": "code",
   "execution_count": null,
   "metadata": {},
   "outputs": [],
   "source": [
    "# your code here"
   ]
  },
  {
   "cell_type": "markdown",
   "metadata": {},
   "source": [
    "## 5. Conclusion and Homework\n",
    "\n",
    "This week's Matplotlib covered the basics of how to plot what you want. Next week we'll look at more advanced customizations --- how to specify heatmaps, make subplots, use dual axes, and so on.\n",
    "\n",
    "* 01_problem.ipynb\n",
    "* 02_problem_power_law.ipynb"
   ]
  }
 ],
 "metadata": {
  "kernelspec": {
   "display_name": "Python 3",
   "language": "python",
   "name": "python3"
  },
  "language_info": {
   "codemirror_mode": {
    "name": "ipython",
    "version": 3
   },
   "file_extension": ".py",
   "mimetype": "text/x-python",
   "name": "python",
   "nbconvert_exporter": "python",
   "pygments_lexer": "ipython3",
   "version": "3.6.5"
  }
 },
 "nbformat": 4,
 "nbformat_minor": 2
}

{
 "cells": [
  {
   "cell_type": "markdown",
   "metadata": {},
   "source": [
    "# Problem 1: Statistics, part 1\n",
    "\n",
    "Below is a collection of exercises that you should now be able to complete after week  7.\n",
    "\n"
   ]
  },
  {
   "cell_type": "code",
   "execution_count": 1,
   "metadata": {},
   "outputs": [],
   "source": [
    "# the following code guarantees you'll properly reload any modules that you custom-defined in your environment.\n",
    "# you don't need to understand it.\n",
    "# just run this once at the beginning.\n",
    "# for auto-reloading extenrnal modules\n",
    "# see http://stackoverflow.com/questions/1907993/autoreload-of-modules-in-ipython\n",
    "%load_ext autoreload\n",
    "%autoreload 2\n",
    "import os\n",
    "import sys\n",
    "import numpy as np\n",
    "import csv\n",
    "import matplotlib as mpl\n",
    "import matplotlib.pyplot as plt"
   ]
  },
  {
   "cell_type": "code",
   "execution_count": 2,
   "metadata": {},
   "outputs": [
    {
     "name": "stdout",
     "output_type": "stream",
     "text": [
      "['Anime ID', 'Season', 'Episodes', 'Studio', 'Source', 'Score', '# Ratings', '# Favorites']\n",
      "studios: 301 ['10Gauge', '33 Collective', '3xCube', '8bit', 'A-1 Pictures', 'A-Real', 'A.C.G.T.', 'ACC Production', 'AIC', 'AIC A.S.T.A.']\n",
      "['4-koma manga', 'Book', 'Card game', 'Digital manga', 'Game', 'Light novel', 'Manga', 'Music', 'Novel', 'Original', 'Other', 'Picture book', 'Radio', 'Unknown', 'Visual novel', 'Web manga']\n",
      "example entry for Houseki no Kuni [35557, 2017, 3, 12, 'Orange', '', 'Manga', 8.48, 51444, 127924]\n",
      "Cowboy Bebop [     1.     1998.        1.       26.      248.       -1.        9.\n",
      "      8.81 363889.   704490.  ]\n"
     ]
    }
   ],
   "source": [
    "from mal_util import *\n",
    "mal_fpath = os.path.join('csvs', 'myAnimeListDataset [07-05-2018].csv')\n",
    "anime_headers, anime_studios, anime_sources, anime_dict = load_mal(mal_fpath)\n",
    "anime_arr, anime_np_lookup = anime_array(anime_dict,  anime_studios, anime_sources) # convert into numpy array\n",
    "\n",
    "print(anime_headers) # things\n",
    "print('studios:', len(anime_studios), anime_studios[:10])\n",
    "print(anime_sources)\n",
    "print('example entry for Houseki no Kuni', anime_dict['Houseki no Kuni']) # ditionary format\n",
    "np.set_printoptions(suppress=True) # remove scientific notation view\n",
    "print(anime_np_lookup[0], anime_arr[0,:]) # np array format"
   ]
  },
  {
   "cell_type": "markdown",
   "metadata": {},
   "source": [
    "## Exercise 1: Graphing sample means\n",
    "\n",
    "Graph the distribution of 5000 sample means (sample size = 10) of the MAL ratings from a season of your choice."
   ]
  },
  {
   "cell_type": "code",
   "execution_count": 39,
   "metadata": {},
   "outputs": [
    {
     "data": {
      "text/plain": [
       "Text(0.5,1,'Sample means of Winter 2016')"
      ]
     },
     "execution_count": 39,
     "metadata": {},
     "output_type": "execute_result"
    },
    {
     "data": {
      "image/png": "[encoded data removed]",
      "text/plain": [
       "<Figure size 432x288 with 1 Axes>"
      ]
     },
     "metadata": {},
     "output_type": "display_data"
    }
   ],
   "source": [
    "# your code here\n",
    "\n",
    "# print(np.shape(anime_arr))\n",
    "# year = 2016\n",
    "# choice_year = anime_arr[:,YEAR] == year\n",
    "# choice_season = anime_arr[:,SEASON] == 1\n",
    "# anime_season = anime_arr[choice_season & choice_year]\n",
    "# print(anime_season)\n",
    "\n",
    "def anime_seasonal_rating_sampler(sample_size, num_samples, year, season):\n",
    "    choice_year = anime_arr[:,YEAR] == year\n",
    "    choice_season = anime_arr[:,SEASON] == season\n",
    "    anime_season = anime_arr[choice_season & choice_year]\n",
    "    sample_array = np.zeros((num_samples, 1))\n",
    "    number_elements = anime_season.shape[0]\n",
    "    for i in range(num_samples):\n",
    "        inds = np.random.randint(number_elements, size = sample_size)\n",
    "        sample = anime_season[inds,SCORE]\n",
    "        sample_array[i,:] = (np.average(sample))\n",
    "    return np.array(sample_array)\n",
    "\n",
    "sample_size, num_samples, year, season = 10, 5000, 2016, 1\n",
    "#season = ('Winter 2018')\n",
    "sample_array = anime_seasonal_rating_sampler(sample_size, num_samples, year, season)\n",
    "\n",
    "fig = plt.figure()\n",
    "ax = plt.gca()\n",
    "ax.hist(sample_array[:,0], bins = 20, alpha = 0.9)\n",
    "ax.set_title('Sample means of Winter 2016')"
   ]
  },
  {
   "cell_type": "markdown",
   "metadata": {},
   "source": [
    "## Exercise 2: Plotting histograms\n",
    "\n",
    "Choose three different studios and sample 10 anime from each. Graph a histogram of the average score per studio and include error bars."
   ]
  },
  {
   "cell_type": "code",
   "execution_count": 21,
   "metadata": {},
   "outputs": [
    {
     "name": "stdout",
     "output_type": "stream",
     "text": [
      "((6.581999999999999, 2.225141793234759, 0.7417139310782531), (6.767, 1.004848744836754, 0.3349495816122513), (6.9030000000000005, 1.2922310164982111, 0.43074367216607035))\n"
     ]
    },
    {
     "data": {
      "text/plain": [
       "Text(0.5,1,'Average score with error bars')"
      ]
     },
     "execution_count": 21,
     "metadata": {},
     "output_type": "execute_result"
    },
    {
     "data": {
      "image/png": "[encoded data removed]",
      "text/plain": [
       "<Figure size 432x288 with 1 Axes>"
      ]
     },
     "metadata": {},
     "output_type": "display_data"
    }
   ],
   "source": [
    "# your code here\n",
    "from scipy import stats\n",
    "\n",
    "studio1, studio2, studio3 = 'A-1 Pictures', 'Polygon Pictures', \"Studio Deen\"\n",
    "num_studios = 3\n",
    "studio1_anime = anime_arr[anime_arr[:,STUDIO] == anime_studios.index(studio1),:]\n",
    "studio2_anime = anime_arr[anime_arr[:,STUDIO] == anime_studios.index(studio2),:]\n",
    "studio3_anime = anime_arr[anime_arr[:,STUDIO] == anime_studios.index(studio3),:]\n",
    "\n",
    "sample_size = 10\n",
    "sample1_inds = np.random.randint(studio1_anime.shape[0], size=sample_size)\n",
    "sample2_inds = np.random.randint(studio2_anime.shape[0], size=sample_size)\n",
    "sample3_inds = np.random.randint(studio3_anime.shape[0], size=sample_size)\n",
    "\n",
    "scores1 = studio1_anime[sample1_inds, SCORE]\n",
    "scores2 = studio2_anime[sample2_inds, SCORE]\n",
    "scores3 = studio3_anime[sample3_inds, SCORE]\n",
    "\n",
    "studio_array = ((np.average(scores1), np.std(scores1), stats.sem(scores1)), (np.average(scores2), np.std(scores2), stats.sem(scores2)), (np.average(scores3), np.std(scores3), stats.sem(scores3)))\n",
    "print(studio_array)\n",
    "    \n",
    "fig = plt.figure()\n",
    "ax = plt.gca()\n",
    "studio_array = np.array(studio_array)\n",
    "bincenters = np.linspace(0.5, num_studios+0.5, num_studios)\n",
    "\n",
    "ax.bar(bincenters, studio_array[:,0], width=0.8, alpha=0.8, yerr=studio_array[:,2],capsize=3)\n",
    "ax.set_xticks(bincenters)\n",
    "ax.set_xticklabels([studio1, studio2, studio3])\n",
    "ax.set_ylabel('Average score')\n",
    "ax.set_title('Average score with error bars')"
   ]
  },
  {
   "cell_type": "markdown",
   "metadata": {},
   "source": [
    "## Exercise 3: t-test\n",
    "\n",
    "For two different seasons of anime, report via results of the two-sided t-test if two anime seasons are significantly different in average MAL score."
   ]
  },
  {
   "cell_type": "code",
   "execution_count": 4,
   "metadata": {},
   "outputs": [
    {
     "name": "stdout",
     "output_type": "stream",
     "text": [
      "0.08225955895643486\n"
     ]
    },
    {
     "data": {
      "image/png": "[encoded data removed]",
      "text/plain": [
       "<Figure size 720x288 with 2 Axes>"
      ]
     },
     "metadata": {},
     "output_type": "display_data"
    }
   ],
   "source": [
    "# your code here\n",
    "from scipy import stats\n",
    "\n",
    "studio1, studio2 = 'Studio Deen', 'Shaft'\n",
    "studio1_anime = anime_arr[anime_arr[:,STUDIO] == anime_studios.index(studio1),:]\n",
    "studio2_anime = anime_arr[anime_arr[:,STUDIO] == anime_studios.index(studio2),:]\n",
    "sample_size = 25\n",
    "sample1_inds = np.random.randint(studio1_anime.shape[0], size=sample_size)\n",
    "sample2_inds = np.random.randint(studio2_anime.shape[0], size=sample_size)\n",
    "\n",
    "scores1 = studio1_anime[sample1_inds, SCORE]\n",
    "scores2 = studio2_anime[sample2_inds, SCORE]\n",
    "t, p = stats.ttest_ind(scores1, scores2, equal_var=False)\n",
    "print(p)\n",
    "\n",
    "fig, axs = plt.subplots(1,2, figsize=(10,4))\n",
    "axs[0].hist(studio1_anime[:,SCORE],bins=50)\n",
    "axs[0].set_title('Studio 1')\n",
    "axs[1].hist(studio2_anime[:,SCORE], bins=50)\n",
    "axs[1].set_title('Studio 2')\n",
    "plt.show()"
   ]
  }
 ],
 "metadata": {
  "kernelspec": {
   "display_name": "Python 3",
   "language": "python",
   "name": "python3"
  },
  "language_info": {
   "codemirror_mode": {
    "name": "ipython",
    "version": 3
   },
   "file_extension": ".py",
   "mimetype": "text/x-python",
   "name": "python",
   "nbconvert_exporter": "python",
   "pygments_lexer": "ipython3",
   "version": "3.6.4"
  }
 },
 "nbformat": 4,
 "nbformat_minor": 2
}

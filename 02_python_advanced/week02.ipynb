{
 "cells": [
  {
   "cell_type": "markdown",
   "metadata": {},
   "source": [
    "# Week 02: More Python\n",
    "\n",
    "This week's learning goals are as follows:\n",
    "\n",
    "1. Manipulate strings.\n",
    "1. Read and write regular files and Comma-Separated Value files (CSVs).\n",
    "1. Understand tuples and sets.\n",
    "1. Be able to create and use dictionaries.\n",
    "1. Use NumPy for very simple statistics.\n",
    "\n",
    "For reference: [Reading different OS newlines](https://stackoverflow.com/questions/2536545/how-to-write-unix-end-of-line-characters-in-windows-using-python/23434608#23434608)\n",
    "\n",
    "This notebook uses data from [Folger Digital Texts](http://www.folgerdigitaltexts.org/?chapter=5&play=Oth). The verison of Othello by William Shakespeare from Folger is saved for student convenience at ```txts/othello.txt```."
   ]
  },
  {
   "cell_type": "code",
   "execution_count": 89,
   "metadata": {},
   "outputs": [
    {
     "name": "stdout",
     "output_type": "stream",
     "text": [
      "The autoreload extension is already loaded. To reload it, use:\n",
      "  %reload_ext autoreload\n"
     ]
    }
   ],
   "source": [
    "# the following code guarantees you'll properly reload any modules that you custom-defined in your environment.\n",
    "# you don't need to understand it.\n",
    "# just run this once at the beginning.\n",
    "# for auto-reloading extenrnal modules\n",
    "# see http://stackoverflow.com/questions/1907993/autoreload-of-modules-in-ipython\n",
    "%load_ext autoreload\n",
    "%autoreload 2\n",
    "import os\n",
    "import sys"
   ]
  },
  {
   "cell_type": "markdown",
   "metadata": {},
   "source": [
    "## 1. Strings\n",
    "\n",
    "Most of the material is based off of the [Google for Education Python course](https://developers.google.com/edu/python/strings).\n",
    "\n",
    "We saw strings last week, but this week we're going to get into more of how we can manipulate strings. Strings are the means with which we can interact with file data on our computers."
   ]
  },
  {
   "cell_type": "code",
   "execution_count": 6,
   "metadata": {},
   "outputs": [
    {
     "name": "stdout",
     "output_type": "stream",
     "text": [
      "i\n",
      "2\n",
      "hi there\n",
      "hihihihi\n"
     ]
    }
   ],
   "source": [
    "s = 'hi'\n",
    "print(s[1])          ## i\n",
    "print(len(s))        ## 2\n",
    "print(s + ' there')  ## hi there\n",
    "print(s*4) ## multiplication works, but it's not super useful in general"
   ]
  },
  {
   "cell_type": "markdown",
   "metadata": {},
   "source": [
    "You can concatenate strings, but you can't concatenate strings to integers or floats, or to lists."
   ]
  },
  {
   "cell_type": "code",
   "execution_count": 7,
   "metadata": {},
   "outputs": [
    {
     "name": "stdout",
     "output_type": "stream",
     "text": [
      "The value of pi is 3.14\n"
     ]
    }
   ],
   "source": [
    "pi = 3.14\n",
    "#text = 'The value of pi is ' + pi      ## NO, does not work\n",
    "text = 'The value of pi is '  + str(pi)  ## yes\n",
    "print(text)"
   ]
  },
  {
   "cell_type": "markdown",
   "metadata": {},
   "source": [
    "**Special characters**\n",
    "\n",
    "There are two that we are concerned with: tab (```\\t```) and newline (```\\n```)."
   ]
  },
  {
   "cell_type": "code",
   "execution_count": 10,
   "metadata": {},
   "outputs": [
    {
     "name": "stdout",
     "output_type": "stream",
     "text": [
      "This line has\ta tab\n",
      "\n",
      "This line has\n",
      "a newline\n"
     ]
    }
   ],
   "source": [
    "tab_text = 'This line has\\ta tab'\n",
    "print(tab_text)\n",
    "print()\n",
    "newline_text = 'This line has\\na newline'\n",
    "print(newline_text)"
   ]
  },
  {
   "cell_type": "markdown",
   "metadata": {},
   "source": [
    "**Slicing strings**\n",
    "\n",
    "We can slice strings using the same type of list indexing that we did earlier."
   ]
  },
  {
   "cell_type": "code",
   "execution_count": 12,
   "metadata": {},
   "outputs": [
    {
     "name": "stdout",
     "output_type": "stream",
     "text": [
      "hello\n",
      "oooooooooo world\n",
      "ooooo\n"
     ]
    }
   ],
   "source": [
    "text = 'hellooooooooooo world'\n",
    "print(text[:5])\n",
    "print(text[5:])\n",
    "print(text[5:10])"
   ]
  },
  {
   "cell_type": "markdown",
   "metadata": {},
   "source": [
    "### String functions\n",
    "\n",
    "There are plenty of functions that are exclusive to strings that will really help us work with files. The bolded ones are the most important.\n",
    "\n",
    "- ```s.lower()```, ```s.upper()``` -- returns the lowercase or uppercase version of the string\n",
    "- ```s.strip()``` -- returns a string with whitespace removed from the start and end\n",
    "- ```s.isalpha()/s.isdigit()/s.isspace()...``` -- tests if all the string chars are in the various character classes\n",
    "- **```s.startswith('other'), s.endswith('other')```** -- tests if the string starts or ends with the given other string\n",
    "- ```s.find('other')``` -- searches for the given other string (not a regular expression) within s, and returns the first index where it begins or -1 if not found\n",
    "- ```s.replace('old', 'new')``` -- returns a string where all occurrences of 'old' have been replaced by 'new'\n",
    "- **```s.split('delim')```** -- returns a list of substrings separated by the given delimiter. The delimiter is not a regular expression, it's just text. ```'aaa,bbb,ccc'.split(',')``` -> ```['aaa', 'bbb', 'ccc']```. As a convenient special case ```s.split()``` (with no arguments) splits on all whitespace chars.\n",
    "- **```s.join(list)```** -- opposite of ```split()```, joins the elements in the given list together using the string as the delimiter. e.g. '---'.join(['aaa', 'bbb', 'ccc']) -> ```aaa---bbb---ccc```"
   ]
  },
  {
   "cell_type": "markdown",
   "metadata": {},
   "source": [
    "Let's first go through the not-so useful ones."
   ]
  },
  {
   "cell_type": "code",
   "execution_count": 20,
   "metadata": {},
   "outputs": [
    {
     "name": "stdout",
     "output_type": "stream",
     "text": [
      "The Quick Brown Fox Jumps over the Lazy Dog.\n",
      "the quick brown fox jumps over the lazy dog.\n",
      "THE QUICK BROWN FOX JUMPS OVER THE LAZY DOG.\n"
     ]
    }
   ],
   "source": [
    "sentence_ex = \"The Quick Brown Fox Jumps over the Lazy Dog.\"\n",
    "print(sentence_ex)\n",
    "\n",
    "sentence_lower = sentence_ex.lower()\n",
    "print(sentence_lower)\n",
    "\n",
    "sentence_upper = sentence_ex.upper()\n",
    "print(sentence_upper)"
   ]
  },
  {
   "cell_type": "code",
   "execution_count": 23,
   "metadata": {},
   "outputs": [
    {
     "name": "stdout",
     "output_type": "stream",
     "text": [
      "  \t\t\t The Quick Brown Fox Jumps over the Lazy Dog.    \n",
      " \t\t\n",
      "\n",
      "stripped version:***The Quick Brown Fox Jumps over the Lazy Dog.***end stripped version\n"
     ]
    }
   ],
   "source": [
    "sentence_whitespace = \"  \\t\\t\\t \" + sentence_ex + \"    \\n \\t\\t\\n\"\n",
    "print(sentence_whitespace)\n",
    "print('stripped version:***' + sentence_whitespace.strip()  + \"***end stripped version\")"
   ]
  },
  {
   "cell_type": "code",
   "execution_count": 19,
   "metadata": {},
   "outputs": [
    {
     "name": "stdout",
     "output_type": "stream",
     "text": [
      "asdf/.,//.,&\n",
      "asdf\n"
     ]
    }
   ],
   "source": [
    "sentence_punctuation = \"/.,/.,asdf/.,//.,&\"\n",
    "print(sentence_punctuation.strip('/.,')) # the right version doesn't work\n",
    "print(sentence_punctuation.strip('/.,&'))"
   ]
  },
  {
   "cell_type": "code",
   "execution_count": 27,
   "metadata": {},
   "outputs": [
    {
     "name": "stdout",
     "output_type": "stream",
     "text": [
      "First instance of the: 0\n",
      "a quick brown fox jumps over a lazy dog.\n"
     ]
    }
   ],
   "source": [
    "s = sentence_ex.lower()\n",
    "print('First instance of the:', s.find('the'))\n",
    "print(s.replace('the', 'a'))"
   ]
  },
  {
   "cell_type": "markdown",
   "metadata": {},
   "source": [
    "Now here are the most important ones:\n",
    "\n",
    "**split** converts a string into a list of strings by separating on a given element."
   ]
  },
  {
   "cell_type": "code",
   "execution_count": 28,
   "metadata": {},
   "outputs": [
    {
     "data": {
      "text/plain": [
       "['the', 'quick', 'brown', 'fox', 'jumps', 'over', 'the', 'lazy', 'dog.']"
      ]
     },
     "execution_count": 28,
     "metadata": {},
     "output_type": "execute_result"
    }
   ],
   "source": [
    "s.split(' ')"
   ]
  },
  {
   "cell_type": "markdown",
   "metadata": {},
   "source": [
    "**join** converts a list of strings into a string by joining on a given element."
   ]
  },
  {
   "cell_type": "code",
   "execution_count": 29,
   "metadata": {},
   "outputs": [
    {
     "name": "stdout",
     "output_type": "stream",
     "text": [
      "sdf&sdf&sdf&sdf&sdf\n"
     ]
    }
   ],
   "source": [
    "arr = ['sdf']*5\n",
    "print('&'.join(arr))"
   ]
  },
  {
   "cell_type": "code",
   "execution_count": 34,
   "metadata": {},
   "outputs": [
    {
     "name": "stdout",
     "output_type": "stream",
     "text": [
      "original:\tthe quick brown fox jumps over the lazy dog.\n",
      "with commas:\tthe,quick,brown,fox,jumps,over,the,lazy,dog.\n",
      "with tabs:\tthe\tquick\tbrown\tfox\tjumps\tover\tthe\tlazy\tdog.\n"
     ]
    }
   ],
   "source": [
    "print('original:\\t' + s)\n",
    "print('with commas:\\t' + ','.join(s.split(' ')))\n",
    "print('with tabs:\\t' + '\\t'.join(s.split(' ')))"
   ]
  },
  {
   "cell_type": "markdown",
   "metadata": {},
   "source": [
    "### Formatting strings\n",
    "\n",
    "There are a few ways to format strings so that you can include numerical output with strings. \n",
    "\n",
    "The easiest way is to use the plus sign with type-casting (meaning that you explicitly convert non-strings to strings):"
   ]
  },
  {
   "cell_type": "code",
   "execution_count": 66,
   "metadata": {},
   "outputs": [
    {
     "name": "stdout",
     "output_type": "stream",
     "text": [
      "this is the simplest 2347.0 thing but it's annoying\n"
     ]
    }
   ],
   "source": [
    "print(\"this is the simplest \" + str(2347.0) + \" thing but it's annoying\")"
   ]
  },
  {
   "cell_type": "markdown",
   "metadata": {},
   "source": [
    "The second way is to use explicitly set the formatting of each string:"
   ]
  },
  {
   "cell_type": "code",
   "execution_count": 73,
   "metadata": {},
   "outputs": [
    {
     "name": "stdout",
     "output_type": "stream",
     "text": [
      "This is a little more fancy 2347, 2347, 2347.0, 2347.000000, 2347.00, 2347.000\n",
      "...but it requires you to know formatting tricks\n"
     ]
    }
   ],
   "source": [
    "print(\"This is a little more fancy %03d, %d, %s, %f, %.2f, %.3f\" % \\\n",
    "      (2347.0, 2347.0, 2347.0, 2347.0, 2347.0, 2347.0))\n",
    "print(\"...but it requires you to know formatting tricks\")"
   ]
  },
  {
   "cell_type": "markdown",
   "metadata": {},
   "source": [
    "Finally, the more common ways nowadays is to let Python strings do the formatting automatically for you as follows:"
   ]
  },
  {
   "cell_type": "code",
   "execution_count": 77,
   "metadata": {},
   "outputs": [
    {
     "name": "stdout",
     "output_type": "stream",
     "text": [
      "This is the convention now: 2347.0\n",
      "We let Python decide the best display: 37.0304 27 0.345\n"
     ]
    }
   ],
   "source": [
    "print(\"This is the convention now: {}\".format(2347.0))\n",
    "print(\"We let Python decide the best display: {} {} {}\".format(37.0304, 27, 00.345))"
   ]
  },
  {
   "cell_type": "markdown",
   "metadata": {},
   "source": [
    "#### Programming exercises\n",
    "\n",
    "Run the following block to get a string."
   ]
  },
  {
   "cell_type": "code",
   "execution_count": 114,
   "metadata": {},
   "outputs": [],
   "source": [
    "ubw_string = \"\"\"I am the bone of my sword\n",
    "Steel is my body and fire is my blood\n",
    "I have created over a thousand blades\n",
    "Unknown to Death, Nor known to Life\n",
    "Have withstood pain to create many weapons\n",
    "Yet, those hands will never hold anything\n",
    "So as I pray, Unlimited Blade Works.\"\"\""
   ]
  },
  {
   "cell_type": "markdown",
   "metadata": {},
   "source": [
    "Print a lower-case version of this string."
   ]
  },
  {
   "cell_type": "code",
   "execution_count": 115,
   "metadata": {},
   "outputs": [],
   "source": [
    "# lowercase version"
   ]
  },
  {
   "cell_type": "markdown",
   "metadata": {},
   "source": [
    "Print an upper-case version of this string."
   ]
  },
  {
   "cell_type": "code",
   "execution_count": 116,
   "metadata": {},
   "outputs": [],
   "source": [
    "# uppercase version"
   ]
  },
  {
   "cell_type": "markdown",
   "metadata": {},
   "source": [
    "Print a single-line version of this string. In other words, replace all the newline characters with spaces."
   ]
  },
  {
   "cell_type": "code",
   "execution_count": null,
   "metadata": {},
   "outputs": [],
   "source": [
    "# single-line version"
   ]
  },
  {
   "cell_type": "markdown",
   "metadata": {},
   "source": [
    "(10 minute exercise) Print out a version of this string where every word has its last character capitalized (and all other characters are lowercase).\n",
    "\n",
    "Hint: use a for loop to iterate over every word. Create a string variable that gets a new word concatenated to it for each iteration of the loop."
   ]
  },
  {
   "cell_type": "code",
   "execution_count": 117,
   "metadata": {},
   "outputs": [],
   "source": [
    "# your code here"
   ]
  },
  {
   "cell_type": "markdown",
   "metadata": {},
   "source": [
    "## 2. Files and CSVs\n",
    "\n",
    "Finally we are ready to read files!!! Python file-reading (and writing is a three-step process):\n",
    "1. Create the file object and open the file\n",
    "1. Read or write stuff from the file object\n",
    "1. Close the file object\n",
    "\n",
    "The convention is to let Python handling the file opening/closing for you. We do this as follows:\n",
    "\n",
    "```\n",
    "with open(filename.txt, read_or_write_mode) as f: # opens file f\n",
    "    # do file reading or writing by calling functions on f...\n",
    "# now after the indented block, the file f is now closed\n",
    "```\n",
    "\n",
    "Python files can only ever be opened in either read-mode (```'r'```) or write-mode (```'w'```); they can never be both.\n",
    "\n",
    "In general, we try to put everything related to reading the file in the ```with``` block. However once we have finished calling functions on the file object, we exit the ```with``` block as soon as possible and just work with the variables defined in memory. I'll try to show you how I do this through the rest of this section.\n",
    "\n",
    "For the first part of this section, we will be dealing with the folder ```02_python_advanced/txts```.\n",
    "\n",
    "Let's first deal with **write mode**."
   ]
  },
  {
   "cell_type": "code",
   "execution_count": 80,
   "metadata": {},
   "outputs": [],
   "source": [
    "# Using write mode\n",
    "with open(os.path.join('txts', 'hello_world.txt'), 'w') as f:\n",
    "    f.write('hello world')\n",
    "    # the write() function does not create newlines for you\n",
    "    f.write(' and real life\\n') # continues on same line then adds a newline\n",
    "    f.write('a different line')"
   ]
  },
  {
   "cell_type": "markdown",
   "metadata": {},
   "source": [
    "Now if you open the txt file in your text editor, you will see the file.\n",
    "\n",
    "If we open the file for writing again, it automatically starts from the beginning. So no information will be saved. But we could open in append (```'a'```) mode if we wanted to, which can add to the end of a file."
   ]
  },
  {
   "cell_type": "code",
   "execution_count": 81,
   "metadata": {},
   "outputs": [],
   "source": [
    "# Overwriting a file\n",
    "with open(os.path.join('txts', 'hello_world.txt'), 'w') as f:\n",
    "    f.write('hello world again')\n",
    "    \n",
    "with open(os.path.join('txts', 'hello_world.txt'), 'a') as f:\n",
    "    f.write('\\nthis is an appended line')"
   ]
  },
  {
   "cell_type": "markdown",
   "metadata": {},
   "source": [
    "In general, you'll find that it's easier to construct what you want to write line by line, and then at the end open and write a file with code that makes use of ***```'\\n'.join([list of lines])```***. This is easier to read and code up than opening a file and writing it to it bit by bit. An example is below."
   ]
  },
  {
   "cell_type": "code",
   "execution_count": 105,
   "metadata": {},
   "outputs": [],
   "source": [
    "# this code is harder to read\n",
    "with open(os.path.join('txts', 'example_write.txt'), 'w') as f:\n",
    "    for i in range(3):\n",
    "        f.write('line {}\\n'.format(i))\n",
    "            "
   ]
  },
  {
   "cell_type": "code",
   "execution_count": 106,
   "metadata": {},
   "outputs": [],
   "source": [
    "# this code is easier to read\n",
    "# ...and also more pythonic\n",
    "lines = ['line {}'.format(i) for i in range(3)]\n",
    "with open(os.path.join('txts', 'example_write.txt'), 'w') as f:\n",
    "    f.write('\\n'.join(lines))"
   ]
  },
  {
   "cell_type": "markdown",
   "metadata": {},
   "source": [
    "For **read mode**, there are a few different ways we can read in the information:"
   ]
  },
  {
   "cell_type": "code",
   "execution_count": 82,
   "metadata": {},
   "outputs": [],
   "source": [
    "# Using read mode\n",
    "othello_fpath = os.path.join('txts', 'othello.txt')"
   ]
  },
  {
   "cell_type": "markdown",
   "metadata": {},
   "source": [
    "We can read in the entire file at once with **```f.read()```**."
   ]
  },
  {
   "cell_type": "code",
   "execution_count": 83,
   "metadata": {},
   "outputs": [
    {
     "name": "stdout",
     "output_type": "stream",
     "text": [
      "number of characters in text file: 153671\n"
     ]
    }
   ],
   "source": [
    "# read in everything at once with read()\n",
    "with open(othello_fpath, 'r') as f:\n",
    "    contents = f.read()\n",
    "    print('number of characters in text file: {}'.format(len(contents)))"
   ]
  },
  {
   "cell_type": "markdown",
   "metadata": {},
   "source": [
    "Alternatively, we could read in the entire file line by line with **```f.readline()```**, where the file object automatically detects newlines. **Note that when a file object reads a line, it keeps the newline character at the end.** When the file object no longer has any lines to read, it will return an empty string ```''```, so the best way to use this function is inside a ```while``` loop, where you always read in the next line at the end of a loop iteration."
   ]
  },
  {
   "cell_type": "code",
   "execution_count": 99,
   "metadata": {},
   "outputs": [
    {
     "name": "stdout",
     "output_type": "stream",
     "text": [
      "num lines: 5730\n",
      "['last line:', '[They exit.]\\n']\n"
     ]
    }
   ],
   "source": [
    "# read in line by line\n",
    "with open(othello_fpath, 'r') as f:\n",
    "    num_lines = 0\n",
    "    line = f.readline()\n",
    "    last_line = None\n",
    "    while len(line) != 0: # alternatively, while len(line):\n",
    "        num_lines += 1\n",
    "        last_line = line # save the last line read  \n",
    "        line = f.readline() # read in a new line\n",
    "print('num lines:', num_lines)\n",
    "# here I've encapsulated it in a list just to show you there's a newline at the end\n",
    "print(['last line:', last_line]) "
   ]
  },
  {
   "cell_type": "markdown",
   "metadata": {},
   "source": [
    "A third way to do is by **f.readlines()**, which reads in the entire file, then splits on newlines. Again, it will keep the newline characters at the end."
   ]
  },
  {
   "cell_type": "code",
   "execution_count": 102,
   "metadata": {},
   "outputs": [
    {
     "name": "stdout",
     "output_type": "stream",
     "text": [
      "num lines: 5730\n",
      "['last line:', '[They exit.]\\n']\n"
     ]
    }
   ],
   "source": [
    "# read in everything with line breaks\n",
    "with open(othello_fpath, 'r') as f:\n",
    "    lines = f.readlines()\n",
    "    \n",
    "print('num lines:', len(lines))\n",
    "# here I've encapsulated it in a list just to show you there's a newline at the end\n",
    "print(['last line:', lines[-1]]) "
   ]
  },
  {
   "cell_type": "markdown",
   "metadata": {},
   "source": [
    "Finally, the last way to read in files is to simply use a for loop on the file object itself. Python detects that you want to read in line by line and will exit the loop when there are no longer any lines to read."
   ]
  },
  {
   "cell_type": "code",
   "execution_count": 104,
   "metadata": {},
   "outputs": [
    {
     "name": "stdout",
     "output_type": "stream",
     "text": [
      "num lines: 5730\n",
      "['last line:', '[They exit.]\\n']\n"
     ]
    }
   ],
   "source": [
    "# read in line by line with auto-exit\n",
    "with open(othello_fpath, 'r') as f:\n",
    "    num_lines = 0\n",
    "    for line in f:\n",
    "        num_lines +=1\n",
    "        last_line = line\n",
    "print('num lines:', num_lines)\n",
    "# here I've encapsulated it in a list just to show you there's a newline at the end\n",
    "print(['last line:', last_line]) "
   ]
  },
  {
   "cell_type": "markdown",
   "metadata": {},
   "source": [
    "Keep in mind that **when a file object is open, it can only be passed through once**. So if you want to reread a file, you need to close it, then open it again (```with ...``` syntax). "
   ]
  },
  {
   "cell_type": "code",
   "execution_count": 266,
   "metadata": {},
   "outputs": [
    {
     "name": "stdout",
     "output_type": "stream",
     "text": [
      ">>>line 2 by William Shakespeare\n",
      ">>>20 lines starting from third line:\n",
      "Edited by Barbara A. Mowat and Paul Werstine\n",
      "with Michael Poston and Rebecca Niles\n",
      "Folger Shakespeare Library\n",
      "http://www.folgerdigitaltexts.org/?chapter=5&play=Oth\n",
      "Created on Jul 31, 2015, from FDT version 0.9.2\n",
      "\n",
      "Characters in the Play\n",
      "======================\n",
      "OTHELLO, a Moorish general in the Venetian army\n",
      "DESDEMONA, a Venetian lady\n",
      "BRABANTIO, a Venetian senator, father to Desdemona\n",
      "IAGO, Othello's standard-bearer, or \"ancient\"\n",
      "EMILIA, Iago's wife and Desdemona's attendant\n",
      "CASSIO, Othello's second-in-command, or lieutenant\n",
      "RODERIGO, a Venetian gentleman\n",
      "Duke of Venice\n",
      "Venetian gentlemen, kinsmen to Brabantio:\n",
      "LODOVICO\n",
      "GRATIANO\n",
      "Venetian senators\n"
     ]
    }
   ],
   "source": [
    "with open(othello_fpath, 'r') as f:\n",
    "    f.readline() # the first line is read but isn't printed out\n",
    "    print(\">>>line 2\", f.readline().strip()) # now this is the second line\n",
    "    print(\">>>20 lines starting from third line:\")\n",
    "    for i, line in enumerate(f):\n",
    "        if i == 20: break\n",
    "        print(line.strip()) # starts from the third line onward"
   ]
  },
  {
   "cell_type": "markdown",
   "metadata": {},
   "source": [
    "The way you choose to read in a file depends on your use case. I tend to like using ```f.readlines()``` because I like using list comprehension functions on each string. However, sometimes it benefits you to use the last method if it's easier for you to think about a single line at a time; it's usually also a better use of memory. You can imagine that ```f.read()``` and ```f.readlines()``` requires you to load the entire file into memory first, whereas ```f.readline()``` and ```for line in f``` allow you to read the file piece by piece.\n",
    "\n",
    "Finally, note that we can remove all the whitespace and newline characters before/after a line by calling **line.strip()**."
   ]
  },
  {
   "cell_type": "code",
   "execution_count": 125,
   "metadata": {},
   "outputs": [
    {
     "name": "stdout",
     "output_type": "stream",
     "text": [
      "1 Othello\n",
      "2 by William Shakespeare\n",
      "3 Edited by Barbara A. Mowat and Paul Werstine\n",
      "4 with Michael Poston and Rebecca Niles\n",
      "5 Folger Shakespeare Library\n",
      "6 http://www.folgerdigitaltexts.org/?chapter=5&play=Oth\n",
      "7 Created on Jul 31, 2015, from FDT version 0.9.2\n",
      "8 \n",
      "9 Characters in the Play\n",
      "10 ======================\n"
     ]
    }
   ],
   "source": [
    "# read in line by line with auto-exit\n",
    "with open(othello_fpath, 'r') as f:\n",
    "    for i, line in enumerate(f):\n",
    "        if i == 10: break\n",
    "        print(i+1, line.strip()) # will not print the newline"
   ]
  },
  {
   "cell_type": "markdown",
   "metadata": {},
   "source": [
    "#### Programming Exercises\n",
    "\n",
    "In the first cell, write a multi-line file of your choice and save it into the ```txts``` folder.\n",
    "\n",
    "In the second cell, read your file and print it out with line numbers as shown:\n",
    "```\n",
    "line 1: This is my first line\n",
    "line 2: This is my second line\n",
    "```\n",
    "\n",
    "Hint: you might want to use string formatting, as follows:\n",
    "```\n",
    "print('line {}: {}'.format(some_arg1, some_arg2))\n",
    "```"
   ]
  },
  {
   "cell_type": "code",
   "execution_count": null,
   "metadata": {},
   "outputs": [],
   "source": [
    "# write your custom file here"
   ]
  },
  {
   "cell_type": "code",
   "execution_count": 108,
   "metadata": {},
   "outputs": [],
   "source": [
    "# read your custom file here"
   ]
  },
  {
   "cell_type": "markdown",
   "metadata": {},
   "source": [
    "In the following cell, print out the first fifty lines of ```txts/othello.txt``` with the following formatting:\n",
    "\n",
    "```\n",
    "line 1/5730: Othello\n",
    "line 2/5730: by William Shakespeare\n",
    "...\n",
    "line 50/5730: IAGO  Despise me\n",
    "```\n",
    "\n",
    "Hint: you might want to use ```f.readlines()``` for this, as follows:\n",
    "```\n",
    "lines = f.readlines()\n",
    "# some code to get the total number of lines here\n",
    "for i, line in f.readlines():\n",
    "    ...\n",
    "```"
   ]
  },
  {
   "cell_type": "markdown",
   "metadata": {},
   "source": [
    "### CSVs\n",
    "\n",
    "CSVs are a large class of files that use commas as the main separator. Such files are easy to load into Excel or another spreadsheet program, because the csv format also assumes that you can visualize the data as columns or as rows.\n",
    "\n",
    "The following section uses the folder ```02_python_advanced/csvs```.\n",
    "\n",
    "You can read csvs using conventional Python file reading functions:"
   ]
  },
  {
   "cell_type": "code",
   "execution_count": 127,
   "metadata": {},
   "outputs": [
    {
     "name": "stdout",
     "output_type": "stream",
     "text": [
      "Years,Per capita consumption of cheese (USA) in Pounds (USDA),Number of people who died by becoming tangled in their bedsheets in Deaths (US) (CDC)\n",
      "2000,29.8,327\n",
      "2001,30.1,456\n",
      "2002,30.5,509\n",
      "2003,30.6,497\n",
      "2004,31.3,596\n",
      "2005,31.7,573\n",
      "2006,32.6,661\n",
      "2007,33.1,741\n",
      "2008,32.7,809\n",
      "2009,32.8,717\n"
     ]
    }
   ],
   "source": [
    "cheese_bedsheets_fpath = os.path.join('csvs', 'cheese_bedsheets.csv')\n",
    "with open(cheese_bedsheets_fpath, 'r') as f:\n",
    "    for line in f:\n",
    "        print(line.strip()) # removes newline"
   ]
  },
  {
   "cell_type": "markdown",
   "metadata": {},
   "source": [
    "For CSVs, we want to (1) remove all whitespace and newlines, and (2) separate by commas. The following code does these two things in a single line:"
   ]
  },
  {
   "cell_type": "code",
   "execution_count": 131,
   "metadata": {},
   "outputs": [
    {
     "name": "stdout",
     "output_type": "stream",
     "text": [
      "['Years', 'Per capita consumption of cheese (USA) in Pounds (USDA)', 'Number of people who died by becoming tangled in their bedsheets in Deaths (US) (CDC)']\n",
      "['2000', '29.8', '327']\n",
      "['2001', '30.1', '456']\n",
      "['2002', '30.5', '509']\n",
      "['2003', '30.6', '497']\n",
      "['2004', '31.3', '596']\n",
      "['2005', '31.7', '573']\n",
      "['2006', '32.6', '661']\n",
      "['2007', '33.1', '741']\n",
      "['2008', '32.7', '809']\n",
      "['2009', '32.8', '717']\n"
     ]
    }
   ],
   "source": [
    "with open(cheese_bedsheets_fpath, 'r') as f:\n",
    "    lines = [line.strip().split(',') for line in f]\n",
    "for line in lines:\n",
    "    print(line)"
   ]
  },
  {
   "cell_type": "markdown",
   "metadata": {},
   "source": [
    "However, it's more useful for us to use the ```csv``` module since it automatically strips and splits all lines for us. As always, we make sure that we import the package before using it:\n",
    "\n",
    "**IMPORTANT NOTE:** The CSV reader (as we learn it) and even the normal file reader does NOT convert the strings into other types. So even if we have floats in our csv, ```csv.reader()``` returns strings. It is up to us to convert to the proper type when we want to do more with the data."
   ]
  },
  {
   "cell_type": "code",
   "execution_count": 132,
   "metadata": {},
   "outputs": [],
   "source": [
    "# remember, this only has to be done once per file\n",
    "import csv"
   ]
  },
  {
   "cell_type": "code",
   "execution_count": 133,
   "metadata": {},
   "outputs": [
    {
     "name": "stdout",
     "output_type": "stream",
     "text": [
      "['Years', 'Per capita consumption of cheese (USA) in Pounds (USDA)', 'Number of people who died by becoming tangled in their bedsheets in Deaths (US) (CDC)']\n",
      "['2000', '29.8', '327']\n",
      "['2001', '30.1', '456']\n",
      "['2002', '30.5', '509']\n",
      "['2003', '30.6', '497']\n",
      "['2004', '31.3', '596']\n",
      "['2005', '31.7', '573']\n",
      "['2006', '32.6', '661']\n",
      "['2007', '33.1', '741']\n",
      "['2008', '32.7', '809']\n",
      "['2009', '32.8', '717']\n"
     ]
    }
   ],
   "source": [
    "with open(cheese_bedsheets_fpath, 'r') as f:\n",
    "    for line in csv.reader(f):\n",
    "        print(line)"
   ]
  },
  {
   "cell_type": "markdown",
   "metadata": {},
   "source": [
    "The ```csv``` module is especially useful because sometimes your csv files has commas inside items. This happens when you have something saved in Excel, where you modify a cell to have commas in it, and the item appears as ```\"item, stuff\"``` with quotes around it. For example:"
   ]
  },
  {
   "cell_type": "code",
   "execution_count": 148,
   "metadata": {},
   "outputs": [
    {
     "name": "stdout",
     "output_type": "stream",
     "text": [
      "['Year', '\"Films (IMDB)', ' Cage', ' Nicholas\"', '\"Women (Harvard Crimson)', ' Female Editors', ' Harvard Law Review\"']\n",
      "['2005', '2', '9']\n",
      "['2006', '3', '14']\n",
      "['2007', '4', '19']\n",
      "['2008', '1', '12']\n",
      "['2009', '4', '19']\n"
     ]
    }
   ],
   "source": [
    "cage_harvard_fpath = os.path.join('csvs', 'cage_harvard.csv')\n",
    "\n",
    "# using simple string splitting will split across commas\n",
    "# inside a single item, too, which is not what we want\n",
    "with open(cage_harvard_fpath, 'r') as f:\n",
    "    lines = [line.strip().split(',') for line in f]\n",
    "for line in lines:\n",
    "    print(line)"
   ]
  },
  {
   "cell_type": "code",
   "execution_count": 146,
   "metadata": {},
   "outputs": [
    {
     "name": "stdout",
     "output_type": "stream",
     "text": [
      "['Year', '\"Films (IMDB)', ' Cage', ' Nicholas\"', '\"Women (Harvard Crimson)', ' Female Editors', ' Harvard Law Review\"']\n",
      "['2005', '2', '9']\n",
      "['2006', '3', '14']\n",
      "['2007', '4', '19']\n",
      "['2008', '1', '12']\n",
      "['2009', '4', '19']\n"
     ]
    }
   ],
   "source": [
    "# we add quotechars to specify the character that represents a whole item.\n",
    "# the other options aren't needed but they're good to keep in.\n",
    "with open(cage_harvard_fpath, 'r') as f:\n",
    "    for line in csv.reader(f, quotechar='\"', delimiter=',',\n",
    "                     quoting=csv.QUOTE_MINIMAL):\n",
    "        print(line)"
   ]
  },
  {
   "cell_type": "markdown",
   "metadata": {},
   "source": [
    "#### Programming exercises\n",
    "\n",
    "In ```util.py```, implement ```write_csv(fpath, tups)``` which takes in a filepath and a list of lists and saves a csv.\n",
    "\n",
    "You can test it using the following cells.\n",
    "1. Reimport your function by running the first cell whenever you change your util.py.\n",
    "1. Run a particular test case cell.\n",
    "1. Check the output of your csv by opening it in Notepad++ or by reading it through the notebook."
   ]
  },
  {
   "cell_type": "code",
   "execution_count": 194,
   "metadata": {},
   "outputs": [],
   "source": [
    "# run this every time you change your function\n",
    "from util import write_csv\n",
    "\n",
    "def read_csv(fpath):\n",
    "    # do you have a newline at the end of every line?\n",
    "    with open(fpath, 'r') as f:\n",
    "        print('list of lines:', f.readlines())\n",
    "    \n",
    "    with open(fpath, 'r') as f:\n",
    "        print('using the regular csv reader:')\n",
    "        for line in csv.reader(f, quotechar='\"', delimiter=',',\n",
    "                     quoting=csv.QUOTE_MINIMAL):\n",
    "            print(line)"
   ]
  },
  {
   "cell_type": "code",
   "execution_count": 168,
   "metadata": {},
   "outputs": [
    {
     "name": "stdout",
     "output_type": "stream",
     "text": [
      "list of lines: ['test,title,row\\n', 'only,strings,and\\n', 'equal,length,rows\\n']\n",
      "using the regular csv reader\n",
      "['test', 'title', 'row']\n",
      "['only', 'strings', 'and']\n",
      "['equal', 'length', 'rows']\n"
     ]
    }
   ],
   "source": [
    "def test_case1():\n",
    "    fpath = os.path.join('csvs', 'test1.csv')\n",
    "    tups = [ ('test', 'title', 'row'),\n",
    "              ['only','strings','and'],\n",
    "              ('equal', 'length', 'rows')]\n",
    "    write_csv(fpath, tups)\n",
    "test_case1()\n",
    "#read_csv(os.path.join('csvs', 'test1.csv')) # uncomment this if you want to use it"
   ]
  },
  {
   "cell_type": "code",
   "execution_count": 177,
   "metadata": {},
   "outputs": [
    {
     "name": "stdout",
     "output_type": "stream",
     "text": [
      "Wrote csv to csvs/test2.csv\n"
     ]
    }
   ],
   "source": [
    "def test_case2():\n",
    "    fpath = os.path.join('csvs', 'test2.csv')\n",
    "    tups = [ ('now', 'test', 130.0, 'non-string', 'elements', 'and single line')]\n",
    "    write_csv(fpath, tups)\n",
    "test_case2()\n",
    "# read_csv(os.path.join('csvs', 'test2.csv')) # uncomment this if you want to use it"
   ]
  },
  {
   "cell_type": "code",
   "execution_count": 179,
   "metadata": {},
   "outputs": [
    {
     "name": "stdout",
     "output_type": "stream",
     "text": [
      "Wrote csv to csvs/test3.csv\n"
     ]
    }
   ],
   "source": [
    "def test_case3():\n",
    "    fpath = os.path.join('csvs', 'test3.csv')\n",
    "    tups = [] # empty\n",
    "    write_csv(fpath, tups)\n",
    "test_case3()\n",
    "# read_csv(os.path.join('csvs', 'test3.csv')) # uncomment this if you want to use it"
   ]
  },
  {
   "cell_type": "code",
   "execution_count": 193,
   "metadata": {},
   "outputs": [
    {
     "name": "stdout",
     "output_type": "stream",
     "text": [
      "Wrote csv to csvs/test4.csv\n",
      "list of lines: ['\"finally, test\",things with,\"commas, or\"\\n', 'different length,sublists\\n', '\"but, single element should work too1!!\"\\n', '234,2348.0234,asfa,True,False,564\\n']\n",
      "using the regular csv reader:\n",
      "['finally, test', 'things with', 'commas, or']\n",
      "['different length', 'sublists']\n",
      "['but, single element should work too1!!']\n",
      "['234', '2348.0234', 'asfa', 'True', 'False', '564']\n"
     ]
    }
   ],
   "source": [
    "def test_case4():\n",
    "    fpath = os.path.join('csvs', 'test4.csv')\n",
    "    tups = [['finally, test', 'things with', 'commas, or'],\n",
    "            ['different length', 'sublists'],\n",
    "            ['but, single element should work too1!!'], \n",
    "            (234, 2348.0234, 'asfa', True, False, 0x234)]\n",
    "    write_csv(fpath, tups)\n",
    "test_case4()\n",
    "# read_csv(os.path.join('csvs', 'test4.csv')) # uncomment this if you want to use it"
   ]
  },
  {
   "cell_type": "markdown",
   "metadata": {},
   "source": [
    "We'll practice using CSVs more in the next few sections."
   ]
  },
  {
   "cell_type": "markdown",
   "metadata": {},
   "source": [
    "## 3. Tuples and sets\n",
    "Other than lists, there are some other data structures that you might come across in Python that have different purposes.\n",
    "\n",
    "A **tuple** is like a list, except that once you make a tuple, you can't modify the elements. This is useful when you want some read-only information, or when you want to make sure that the format of your data is absolutely fixed."
   ]
  },
  {
   "cell_type": "code",
   "execution_count": 40,
   "metadata": {},
   "outputs": [
    {
     "name": "stdout",
     "output_type": "stream",
     "text": [
      "(3, 4, 5) vs [6, 7, 8]\n"
     ]
    }
   ],
   "source": [
    "tup = (3,4,5)\n",
    "arr = [6,7,8]\n",
    "print(tup, \"vs\", arr) # note parentheses vs braces"
   ]
  },
  {
   "cell_type": "code",
   "execution_count": 39,
   "metadata": {},
   "outputs": [
    {
     "ename": "TypeError",
     "evalue": "'tuple' object does not support item assignment",
     "output_type": "error",
     "traceback": [
      "\u001b[0;31m---------------------------------------------------------------------------\u001b[0m",
      "\u001b[0;31mTypeError\u001b[0m                                 Traceback (most recent call last)",
      "\u001b[0;32m<ipython-input-39-d23a379de7a0>\u001b[0m in \u001b[0;36m<module>\u001b[0;34m()\u001b[0m\n\u001b[0;32m----> 1\u001b[0;31m \u001b[0mtup\u001b[0m\u001b[0;34m[\u001b[0m\u001b[0;36m0\u001b[0m\u001b[0;34m]\u001b[0m \u001b[0;34m=\u001b[0m \u001b[0;36m3\u001b[0m \u001b[0;31m# this won't work\u001b[0m\u001b[0;34m\u001b[0m\u001b[0m\n\u001b[0m",
      "\u001b[0;31mTypeError\u001b[0m: 'tuple' object does not support item assignment"
     ]
    }
   ],
   "source": [
    "tup[0] = 3 # this won't work"
   ]
  },
  {
   "cell_type": "code",
   "execution_count": 42,
   "metadata": {},
   "outputs": [
    {
     "name": "stdout",
     "output_type": "stream",
     "text": [
      "(3, 4, 5) converts to [3, 4, 5]\n",
      "[6, 7, 8] converts to (6, 7, 8)\n"
     ]
    }
   ],
   "source": [
    "# you can cast lists to tuples and vice versa\n",
    "print(tup, 'converts to', list(tup))\n",
    "print(arr, 'converts to', tuple(arr))"
   ]
  },
  {
   "cell_type": "markdown",
   "metadata": {},
   "source": [
    "A **set** is also like a list, except that it only contains one of each object. Furthermore, it is **not ordered**. This means that you can't index into it. However, its real benefit is that it's fast to check whether or not something exists in it, and in general it works faster than lists for checking membership."
   ]
  },
  {
   "cell_type": "code",
   "execution_count": 206,
   "metadata": {},
   "outputs": [
    {
     "name": "stdout",
     "output_type": "stream",
     "text": [
      "{'d', 'e', 'a', 'b'}\n"
     ]
    }
   ],
   "source": [
    "x_set = set(['a', 'b', 'd', 'e'])\n",
    "print(x_set)# note not sorted"
   ]
  },
  {
   "cell_type": "code",
   "execution_count": 44,
   "metadata": {},
   "outputs": [
    {
     "ename": "TypeError",
     "evalue": "'set' object does not support indexing",
     "output_type": "error",
     "traceback": [
      "\u001b[0;31m---------------------------------------------------------------------------\u001b[0m",
      "\u001b[0;31mTypeError\u001b[0m                                 Traceback (most recent call last)",
      "\u001b[0;32m<ipython-input-44-35130b53d1d6>\u001b[0m in \u001b[0;36m<module>\u001b[0;34m()\u001b[0m\n\u001b[0;32m----> 1\u001b[0;31m \u001b[0mx_set\u001b[0m\u001b[0;34m[\u001b[0m\u001b[0;36m0\u001b[0m\u001b[0;34m]\u001b[0m \u001b[0;31m# won't work\u001b[0m\u001b[0;34m\u001b[0m\u001b[0m\n\u001b[0m",
      "\u001b[0;31mTypeError\u001b[0m: 'set' object does not support indexing"
     ]
    }
   ],
   "source": [
    "x_set[0] # won't work"
   ]
  },
  {
   "cell_type": "code",
   "execution_count": 207,
   "metadata": {},
   "outputs": [
    {
     "name": "stdout",
     "output_type": "stream",
     "text": [
      "a True\n",
      "b True\n",
      "c False\n",
      "d True\n",
      "e True\n",
      "f False\n"
     ]
    }
   ],
   "source": [
    "for c in ['a', 'b', 'c', 'd', 'e', 'f']:\n",
    "    print(c, c in x_set)"
   ]
  },
  {
   "cell_type": "markdown",
   "metadata": {},
   "source": [
    "You can add and remove elements from sets."
   ]
  },
  {
   "cell_type": "code",
   "execution_count": 209,
   "metadata": {},
   "outputs": [
    {
     "name": "stdout",
     "output_type": "stream",
     "text": [
      "c in set {'c', 'b', 'd', 'a', 'e'}\n",
      "c sill in set {'c', 'b', 'd', 'a', 'e'}\n",
      "c no longer in set {'b', 'd', 'a', 'e'}\n"
     ]
    }
   ],
   "source": [
    "x_set.add('c')\n",
    "print('c in set', x_set)\n",
    "x_set.add('c') # add it again # doesn't do anything\n",
    "print('c sill in set', x_set)\n",
    "x_set.remove('c') \n",
    "print('c no longer in set', x_set)"
   ]
  },
  {
   "cell_type": "markdown",
   "metadata": {},
   "source": [
    "Finally, if you want to convert back into a list, you can simply do so as follows:"
   ]
  },
  {
   "cell_type": "code",
   "execution_count": 210,
   "metadata": {},
   "outputs": [
    {
     "name": "stdout",
     "output_type": "stream",
     "text": [
      "{'b', 'd', 'a', 'e'}\n",
      "['b', 'd', 'a', 'e']\n"
     ]
    }
   ],
   "source": [
    "print(x_set)\n",
    "x_list = list(x_set)\n",
    "print(x_list)"
   ]
  },
  {
   "cell_type": "markdown",
   "metadata": {},
   "source": [
    "It is useful to convert and sort the list in one line:"
   ]
  },
  {
   "cell_type": "code",
   "execution_count": 211,
   "metadata": {},
   "outputs": [
    {
     "name": "stdout",
     "output_type": "stream",
     "text": [
      "['a', 'b', 'd', 'e']\n"
     ]
    }
   ],
   "source": [
    "x_list_sorted = sorted(list(x_set))\n",
    "print(x_list_sorted)"
   ]
  },
  {
   "cell_type": "markdown",
   "metadata": {},
   "source": [
    "#### Programming exercise\n",
    "\n",
    "In the file ```csvs/cheese_everything.csv```:\n",
    "1. Print out the number of years of data.\n",
    "1. Print out a sorted list of the years.\n",
    "1. Print out the two different categories that are compared to cheese.\n",
    "\n",
    "Create two sets: one for years, and one for categories, and update them as you go through each line of the csv."
   ]
  },
  {
   "cell_type": "code",
   "execution_count": null,
   "metadata": {},
   "outputs": [],
   "source": [
    "cheese_fpath = os.path.join('csvs', 'cheese_everything.csv')\n",
    "# your code here"
   ]
  },
  {
   "cell_type": "markdown",
   "metadata": {},
   "source": [
    "## 4. Dictionaries\n",
    "Finally the most important data structure for us is a dictionary. A **dictionary** is a lookup table, that maps a unique key to a value.\n",
    "\n",
    "There are two ways to make a dictionary if you know what the values are ahead of time:\n",
    "1. ```d = {key1: value1, key2: value2}```\n",
    "1. ```d = dict([(key1, value1), (key2, value2)]) # tuple or list will work```"
   ]
  },
  {
   "cell_type": "code",
   "execution_count": 63,
   "metadata": {},
   "outputs": [
    {
     "name": "stdout",
     "output_type": "stream",
     "text": [
      "{'key1': 'value1', 'key2': 'value2'}\n"
     ]
    }
   ],
   "source": [
    "key1, value1 = 'key1', 'value1'\n",
    "key2, value2 = 'key2', 'value2'\n",
    "d = {key1: value1, key2: value2}\n",
    "print(d)"
   ]
  },
  {
   "cell_type": "code",
   "execution_count": 65,
   "metadata": {},
   "outputs": [
    {
     "name": "stdout",
     "output_type": "stream",
     "text": [
      "{'key1': 'value2', 'key2': 'value2'}\n"
     ]
    }
   ],
   "source": [
    "d = dict([(key1, value2), (key2, value2)])\n",
    "print(d)"
   ]
  },
  {
   "cell_type": "markdown",
   "metadata": {},
   "source": [
    "You can also manually set each value of a dictionary as follows:"
   ]
  },
  {
   "cell_type": "code",
   "execution_count": 220,
   "metadata": {},
   "outputs": [
    {
     "name": "stdout",
     "output_type": "stream",
     "text": [
      "{'key1': 'value1', 'key2': 'value2'}\n"
     ]
    }
   ],
   "source": [
    "d = {} # make an empty dictionary\n",
    "d[key1] = value1\n",
    "d[key2] = value2\n",
    "print(d)"
   ]
  },
  {
   "cell_type": "markdown",
   "metadata": {},
   "source": [
    "If you know a key, you can get the value by simply asking:"
   ]
  },
  {
   "cell_type": "code",
   "execution_count": 222,
   "metadata": {},
   "outputs": [
    {
     "name": "stdout",
     "output_type": "stream",
     "text": [
      "key1 maps to value1\n",
      "key2 maps to value2\n"
     ]
    },
    {
     "ename": "KeyError",
     "evalue": "'key3'",
     "output_type": "error",
     "traceback": [
      "\u001b[0;31m---------------------------------------------------------------------------\u001b[0m",
      "\u001b[0;31mKeyError\u001b[0m                                  Traceback (most recent call last)",
      "\u001b[0;32m<ipython-input-222-3771b56d0082>\u001b[0m in \u001b[0;36m<module>\u001b[0;34m()\u001b[0m\n\u001b[1;32m      1\u001b[0m \u001b[0mprint\u001b[0m\u001b[0;34m(\u001b[0m\u001b[0;34m'key1 maps to'\u001b[0m\u001b[0;34m,\u001b[0m \u001b[0md\u001b[0m\u001b[0;34m[\u001b[0m\u001b[0;34m'key1'\u001b[0m\u001b[0;34m]\u001b[0m\u001b[0;34m)\u001b[0m\u001b[0;34m\u001b[0m\u001b[0m\n\u001b[1;32m      2\u001b[0m \u001b[0mprint\u001b[0m\u001b[0;34m(\u001b[0m\u001b[0;34m'key2 maps to'\u001b[0m\u001b[0;34m,\u001b[0m \u001b[0md\u001b[0m\u001b[0;34m[\u001b[0m\u001b[0;34m'key2'\u001b[0m\u001b[0;34m]\u001b[0m\u001b[0;34m)\u001b[0m\u001b[0;34m\u001b[0m\u001b[0m\n\u001b[0;32m----> 3\u001b[0;31m \u001b[0mprint\u001b[0m\u001b[0;34m(\u001b[0m\u001b[0;34m'key3 maps to'\u001b[0m\u001b[0;34m,\u001b[0m \u001b[0md\u001b[0m\u001b[0;34m[\u001b[0m\u001b[0;34m'key3'\u001b[0m\u001b[0;34m]\u001b[0m\u001b[0;34m)\u001b[0m \u001b[0;31m# this won't work\u001b[0m\u001b[0;34m\u001b[0m\u001b[0m\n\u001b[0m",
      "\u001b[0;31mKeyError\u001b[0m: 'key3'"
     ]
    }
   ],
   "source": [
    "print('key1 maps to', d['key1'])\n",
    "print('key2 maps to', d['key2'])\n",
    "print('key3 maps to', d['key3']) # this won't work"
   ]
  },
  {
   "cell_type": "markdown",
   "metadata": {},
   "source": [
    "It's important to remember that **keys are unique**. In other words, only one value can be mapped to a key. However, values don't have to be unique, because they're just the result of a lookup."
   ]
  },
  {
   "cell_type": "code",
   "execution_count": 217,
   "metadata": {},
   "outputs": [
    {
     "name": "stdout",
     "output_type": "stream",
     "text": [
      "{'a': 'A', 'b': 1, 'c': 1}\n"
     ]
    }
   ],
   "source": [
    "d = dict([('a', 1), ('b', 1), ('a', 'A'), ('c', 1)])\n",
    "print(d) # 'a' will get mapped to the latest value"
   ]
  },
  {
   "cell_type": "markdown",
   "metadata": {},
   "source": [
    "We can grab all keys of a dictionary with ```d.keys()```. This returns an **unsorted** set of all of the keys of our dictionary."
   ]
  },
  {
   "cell_type": "code",
   "execution_count": 223,
   "metadata": {},
   "outputs": [
    {
     "name": "stdout",
     "output_type": "stream",
     "text": [
      "dict_keys(['key1', 'key2'])\n"
     ]
    }
   ],
   "source": [
    "print(d.keys())"
   ]
  },
  {
   "cell_type": "markdown",
   "metadata": {},
   "source": [
    "Also, we can iterate in a few ways over our dictionary."
   ]
  },
  {
   "cell_type": "code",
   "execution_count": 232,
   "metadata": {
    "collapsed": true
   },
   "outputs": [
    {
     "name": "stdout",
     "output_type": "stream",
     "text": [
      "a -> ascii -> 97\n",
      "b -> ascii -> 98\n",
      "c -> ascii -> 99\n",
      "d -> ascii -> 100\n",
      "e -> ascii -> 101\n",
      "f -> ascii -> 102\n",
      "g -> ascii -> 103\n",
      "h -> ascii -> 104\n",
      "i -> ascii -> 105\n",
      "j -> ascii -> 106\n",
      "k -> ascii -> 107\n",
      "l -> ascii -> 108\n",
      "m -> ascii -> 109\n",
      "n -> ascii -> 110\n",
      "o -> ascii -> 111\n",
      "p -> ascii -> 112\n",
      "q -> ascii -> 113\n",
      "r -> ascii -> 114\n",
      "s -> ascii -> 115\n",
      "t -> ascii -> 116\n",
      "u -> ascii -> 117\n",
      "v -> ascii -> 118\n",
      "w -> ascii -> 119\n",
      "x -> ascii -> 120\n",
      "y -> ascii -> 121\n",
      "z -> ascii -> 122\n"
     ]
    }
   ],
   "source": [
    "fancy_dict = dict([(chr(ord('a') + i), ord('a') + i) for i in range(26)])\n",
    "for k in fancy_dict: # automatically asks for the keys\n",
    "    print(k, '-> ascii ->', fancy_dict[k])"
   ]
  },
  {
   "cell_type": "code",
   "execution_count": 234,
   "metadata": {
    "collapsed": true
   },
   "outputs": [
    {
     "name": "stdout",
     "output_type": "stream",
     "text": [
      "a -> ascii -> 97\n",
      "b -> ascii -> 98\n",
      "c -> ascii -> 99\n",
      "d -> ascii -> 100\n",
      "e -> ascii -> 101\n",
      "f -> ascii -> 102\n",
      "g -> ascii -> 103\n",
      "h -> ascii -> 104\n",
      "i -> ascii -> 105\n",
      "j -> ascii -> 106\n",
      "k -> ascii -> 107\n",
      "l -> ascii -> 108\n",
      "m -> ascii -> 109\n",
      "n -> ascii -> 110\n",
      "o -> ascii -> 111\n",
      "p -> ascii -> 112\n",
      "q -> ascii -> 113\n",
      "r -> ascii -> 114\n",
      "s -> ascii -> 115\n",
      "t -> ascii -> 116\n",
      "u -> ascii -> 117\n",
      "v -> ascii -> 118\n",
      "w -> ascii -> 119\n",
      "x -> ascii -> 120\n",
      "y -> ascii -> 121\n",
      "z -> ascii -> 122\n"
     ]
    }
   ],
   "source": [
    "for k, v in fancy_dict.items():\n",
    "    print(k, '-> ascii ->', v) # keys and values"
   ]
  },
  {
   "cell_type": "code",
   "execution_count": 236,
   "metadata": {
    "collapsed": true
   },
   "outputs": [
    {
     "name": "stdout",
     "output_type": "stream",
     "text": [
      "a -> ascii -> 97\n",
      "b -> ascii -> 98\n",
      "c -> ascii -> 99\n",
      "d -> ascii -> 100\n",
      "e -> ascii -> 101\n",
      "f -> ascii -> 102\n",
      "g -> ascii -> 103\n",
      "h -> ascii -> 104\n",
      "i -> ascii -> 105\n",
      "j -> ascii -> 106\n",
      "k -> ascii -> 107\n",
      "l -> ascii -> 108\n",
      "m -> ascii -> 109\n",
      "n -> ascii -> 110\n",
      "o -> ascii -> 111\n",
      "p -> ascii -> 112\n",
      "q -> ascii -> 113\n",
      "r -> ascii -> 114\n",
      "s -> ascii -> 115\n",
      "t -> ascii -> 116\n",
      "u -> ascii -> 117\n",
      "v -> ascii -> 118\n",
      "w -> ascii -> 119\n",
      "x -> ascii -> 120\n",
      "y -> ascii -> 121\n",
      "z -> ascii -> 122\n"
     ]
    }
   ],
   "source": [
    "# makes sure that you have sorted keys in your loop\n",
    "for k in sorted(fancy_dict):\n",
    "    print(k, '-> ascii ->', fancy_dict[k])"
   ]
  },
  {
   "cell_type": "markdown",
   "metadata": {},
   "source": [
    "**Important tip**: When we add items to dictionaries, we can check if a key exists in a dictionary with ```key in fancy_dict``` or ```key not in fancy_dict```, and then do things as needed. For example:"
   ]
  },
  {
   "cell_type": "code",
   "execution_count": 270,
   "metadata": {},
   "outputs": [
    {
     "name": "stdout",
     "output_type": "stream",
     "text": [
      "{'a': 7, 'b': 4, 'd': 2, 'e': 3}\n"
     ]
    }
   ],
   "source": [
    "char_counts = ['a']*5 + ['b']*4 + ['a']*2 + ['d']*2 + ['e']*3\n",
    "char_dict = {}\n",
    "for char in char_counts:\n",
    "    if char not in char_dict:\n",
    "        # first add it in\n",
    "        char_dict[char] = 0 # no counts seen yet\n",
    "    char_dict[char] += 1 # we have definitely seen it once, so increment the count\n",
    "print(char_dict)"
   ]
  },
  {
   "cell_type": "markdown",
   "metadata": {},
   "source": [
    "Dictionaries are the most useful data structure for parsing CSV files because they allow us to create lookup tables and meaningful lists, instead of always just looking at a single column or a single row.\n",
    "\n",
    "**IMPORTANT NOTE:** Remember that whenever we read in CSV files, ```csv.reader()``` doesn't cast any strings to our correct type. When we are creating our dictionaries from CSV files, we should look at our csv to make sure that we cast to the correct type. That way we can use our dictionaries to do math, as we'll see in the next section."
   ]
  },
  {
   "cell_type": "code",
   "execution_count": 245,
   "metadata": {},
   "outputs": [
    {
     "name": "stdout",
     "output_type": "stream",
     "text": [
      "Years,Per capita consumption of cheese (USA) in Pounds (USDA),Number of people who died by becoming tangled in their bedsheets in Deaths (US) (CDC)\n",
      "\n",
      "2000 [29.8, 327]\n",
      "2001 [30.1, 456]\n",
      "2002 [30.5, 509]\n",
      "2003 [30.6, 497]\n",
      "2004 [31.3, 596]\n",
      "2005 [31.7, 573]\n",
      "2006 [32.6, 661]\n",
      "2007 [33.1, 741]\n",
      "2008 [32.7, 809]\n",
      "2009 [32.8, 717]\n"
     ]
    }
   ],
   "source": [
    "cheese_bed_dict = {}\n",
    "with open(cheese_bedsheets_fpath, 'r') as f:\n",
    "    header = f.readline() # skip the first row/title header\n",
    "    print(header)\n",
    "    for line in csv.reader(f):\n",
    "        year_str, cheese_str, bed_str = line\n",
    "        cheese_bed_dict[int(year_str)] = [float(cheese_str), int(bed_str)]\n",
    "for k, v in cheese_bed_dict.items():\n",
    "    print(k, v)"
   ]
  },
  {
   "cell_type": "markdown",
   "metadata": {},
   "source": [
    "**Tip** After you create your dictionary, it's good to define some integer constants so that referencing into your dictionary makes sense. So instead of having to remember that the pounds of cheese is the first element and the bedsheet deaths is the second element, you can simply reference meaningful variable names. For example:"
   ]
  },
  {
   "cell_type": "code",
   "execution_count": 247,
   "metadata": {},
   "outputs": [],
   "source": [
    "# define some useful constants\n",
    "CHEESE_LBS, BEDSHEET_DEATHS = 0, 1\n",
    "\n",
    "# this also does the same thing -- can you see why?\n",
    "CHEESE_LBS, BEDSHEET_DEATHS = range(2)\n",
    "\n",
    "\"\"\"\n",
    "The following list is useful in case we need to print out headers.\n",
    "If we need the cheese header, then we can just reference\n",
    "CHEESE_BED_STRS[CHEESE_LBS] which will return 'cheese in pounds'.\n",
    "This is useful when we plot axes and stuff later on.\n",
    "\"\"\"\n",
    "CHEESE_BED_STRS = ['cheese in pounds', 'bedsheet deaths']"
   ]
  },
  {
   "cell_type": "markdown",
   "metadata": {},
   "source": [
    "#### Programming exercises\n",
    "\n",
    "In the file ```csvs/cheese_everything.csv```, create a dictionary called ```cheese_dict``` that maps:\n",
    "    year -> [cheese_in_pounds, golf_revenue, civil_eng_doctorates]\n",
    "    \n",
    "In other words, your keys should be integer years, and your values should be lists of three floats as specified above."
   ]
  },
  {
   "cell_type": "code",
   "execution_count": 243,
   "metadata": {},
   "outputs": [],
   "source": [
    "# your code here"
   ]
  },
  {
   "cell_type": "code",
   "execution_count": 244,
   "metadata": {},
   "outputs": [],
   "source": [
    "# print out your dictionary to make sure it looks alright"
   ]
  },
  {
   "cell_type": "markdown",
   "metadata": {},
   "source": [
    "## 5. Basic NumPy\n",
    "\n",
    "For the last section of this week, we are going to go over basics of NumPy, which stands for Numerical Python. This is a math library that has a whole bunch of really useful mathematical functions, and is mainly built on arrays and matrices. However, for this week, we are just going to focus on the easy statistics that NumPy gives us.\n",
    "\n",
    "First, let's import ```numpy```. The following line means that instead of typing ```numpy.<sthg>``` every time you want to call something from the ```numpy``` library, instead you can just type ```np.<sthg>```."
   ]
  },
  {
   "cell_type": "code",
   "execution_count": 241,
   "metadata": {},
   "outputs": [],
   "source": [
    "import numpy as np"
   ]
  },
  {
   "cell_type": "markdown",
   "metadata": {},
   "source": [
    "Recall what our ```cheese_bed_dict``` looked like. Let's use the constants to help us out."
   ]
  },
  {
   "cell_type": "code",
   "execution_count": 250,
   "metadata": {},
   "outputs": [
    {
     "name": "stdout",
     "output_type": "stream",
     "text": [
      "year -> [cheese in pounds, bedsheet deaths]\n",
      "2000 -> [29.8, 327]\n",
      "2001 -> [30.1, 456]\n",
      "2002 -> [30.5, 509]\n",
      "2003 -> [30.6, 497]\n",
      "2004 -> [31.3, 596]\n",
      "2005 -> [31.7, 573]\n",
      "2006 -> [32.6, 661]\n",
      "2007 -> [33.1, 741]\n",
      "2008 -> [32.7, 809]\n",
      "2009 -> [32.8, 717]\n"
     ]
    }
   ],
   "source": [
    "print('year -> [{}, {}]'.format(\n",
    "        CHEESE_BED_STRS[CHEESE_LBS],\n",
    "        CHEESE_BED_STRS[BEDSHEET_DEATHS]))\n",
    "for k, v in cheese_bed_dict.items():\n",
    "    # converted all to floats and ints\n",
    "    print('{} -> [{}, {}]'.format(\n",
    "         k,\n",
    "         v[CHEESE_LBS],\n",
    "         v[BEDSHEET_DEATHS]))"
   ]
  },
  {
   "cell_type": "markdown",
   "metadata": {},
   "source": [
    "Then the following code returns us a list containing all of our values of cheese."
   ]
  },
  {
   "cell_type": "code",
   "execution_count": 254,
   "metadata": {},
   "outputs": [
    {
     "name": "stdout",
     "output_type": "stream",
     "text": [
      "[29.8, 30.1, 30.5, 30.6, 31.3, 31.7, 32.6, 33.1, 32.7, 32.8]\n"
     ]
    }
   ],
   "source": [
    "cheese_values = [v[CHEESE_LBS] for k, v in cheese_bed_dict.items()]\n",
    "print(cheese_values) # might not be sorted"
   ]
  },
  {
   "cell_type": "markdown",
   "metadata": {},
   "source": [
    "We can also do this via a normal for loop. Let's do this for the bedsheet_deaths:"
   ]
  },
  {
   "cell_type": "code",
   "execution_count": 256,
   "metadata": {},
   "outputs": [
    {
     "name": "stdout",
     "output_type": "stream",
     "text": [
      "[327, 456, 509, 497, 596, 573, 661, 741, 809, 717]\n"
     ]
    }
   ],
   "source": [
    "bedsheet_values = []\n",
    "for k, v in cheese_bed_dict.items():\n",
    "    bedsheet_values.append(v[BEDSHEET_DEATHS])\n",
    "print(bedsheet_values) # might not be sorted"
   ]
  },
  {
   "cell_type": "markdown",
   "metadata": {},
   "source": [
    "Okay, now we're done with our list setup, now we can use NumPy to get some basic statistics on these two lists.\n",
    "* ```np.mean(arr)``` # returns the mean of the list arr\n",
    "* ```np.median(arr)``` # returns the median of the list arr\n",
    "* ```np.std(arr)``` # returns standard deviation of the list arr\n",
    "* ```np.amin(arr)``` # returns min of list arr. Same as min(arr)\n",
    "* ```np.amax(arr)``` # returns max of list arr. Same as max(arr)\n",
    "* ```np.argmax(arr)``` # returns the index of the maximum element of list arr. If there are multiple maximums, returns the lowest index.\n",
    "* ```np.argmin(arr)``` # returns the index of the maximum element of list arr. If there are multiple maximums, returns the lowest index.\n",
    "\n",
    "NumPy has an extensive documentation online that you will most likely use several times during this course. For example, here is the ```np.std()``` documentation [page](https://docs.scipy.org/doc/numpy/reference/generated/numpy.std.html)."
   ]
  },
  {
   "cell_type": "code",
   "execution_count": 257,
   "metadata": {},
   "outputs": [
    {
     "name": "stdout",
     "output_type": "stream",
     "text": [
      "max cheese 33.1 min cheese 29.8\n"
     ]
    }
   ],
   "source": [
    "print(CHEESE_BED_STRS[CHEESE_LBS],\n",
    "       'max', np.amax(cheese_values),\n",
    "      'min', np.amin(cheese_values))"
   ]
  },
  {
   "cell_type": "code",
   "execution_count": 260,
   "metadata": {},
   "outputs": [
    {
     "name": "stdout",
     "output_type": "stream",
     "text": [
      "bedsheet deaths statistics: mean 588.6 (stdev 139.48921105232478), median 584.5\n"
     ]
    }
   ],
   "source": [
    "print('{} statistics: mean {} (stdev {}), median {}'.format(\n",
    "    CHEESE_BED_STRS[BEDSHEET_DEATHS],\n",
    "    np.mean(bedsheet_values),\n",
    "    np.std(bedsheet_values),\n",
    "    np.median(bedsheet_values)))"
   ]
  },
  {
   "cell_type": "code",
   "execution_count": 269,
   "metadata": {},
   "outputs": [
    {
     "name": "stdout",
     "output_type": "stream",
     "text": [
      "maximal year was 2007 with cheese amount 33.1\n",
      "minimal year was 2000 with cheese amount 29.8\n",
      "verifying with original dictionary {2000: [29.8, 327], 2001: [30.1, 456], 2002: [30.5, 509], 2003: [30.6, 497], 2004: [31.3, 596], 2005: [31.7, 573], 2006: [32.6, 661], 2007: [33.1, 741], 2008: [32.7, 809], 2009: [32.8, 717]}\n"
     ]
    }
   ],
   "source": [
    "# argmax and argmin\n",
    "year_keys = [k for k,v in cheese_bed_dict.items()]\n",
    "max_ind = np.argmax(cheese_values)\n",
    "maximal_year = year_keys[max_ind]\n",
    "print('maximal year was {} with cheese amount {}'.format(\n",
    "    maximal_year, cheese_bed_dict[maximal_year][CHEESE_LBS]))\n",
    "min_ind = np.argmin(cheese_values)\n",
    "print('minimal year was {} with cheese amount {}'.format(\n",
    "    year_keys[min_ind] ,cheese_bed_dict[year_keys[min_ind]][CHEESE_LBS]))\n",
    "print('verifying with original dictionary', cheese_bed_dict)"
   ]
  },
  {
   "cell_type": "markdown",
   "metadata": {},
   "source": [
    "## 6. Homework\n",
    "\n",
    "* Problem 1:\n",
    "    * ```problem_01.ipynb``` - contains problem descriptions and test cases\n",
    "    * ```problem_01_fn.py``` - where you write your code\n",
    "* Problem 2: \n",
    "    * ```problem_02.ipynb``` - contains problem descriptions and test cases\n",
    "    * ```problem_02_fn.py``` - where you write your code\n",
    "    "
   ]
  },
  {
   "cell_type": "code",
   "execution_count": null,
   "metadata": {},
   "outputs": [],
   "source": []
  }
 ],
 "metadata": {
  "kernelspec": {
   "display_name": "Python 3",
   "language": "python",
   "name": "python3"
  },
  "language_info": {
   "codemirror_mode": {
    "name": "ipython",
    "version": 3
   },
   "file_extension": ".py",
   "mimetype": "text/x-python",
   "name": "python",
   "nbconvert_exporter": "python",
   "pygments_lexer": "ipython3",
   "version": "3.6.5"
  }
 },
 "nbformat": 4,
 "nbformat_minor": 2
}

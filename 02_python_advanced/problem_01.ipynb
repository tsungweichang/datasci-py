{
 "cells": [
  {
   "cell_type": "markdown",
   "metadata": {},
   "source": [
    "# Problem 1: College Salaries\n",
    "\n",
    "The following problem uses the Kaggle Dataset [Where it Pays to Attend College](https://www.kaggle.com/wsj/college-salaries/data). We are going to load in a CSV, create a dictionary based on the file contents, and then do some analysis.\n",
    "\n",
    "The functions you write for this problem will be useful for future weeks when we do probability distributions in ```numpy``` and start graphing in ```matplotlib```. This is why we separate the problem descriptions (in this notebook) from your implementation details (in \n",
    "\n",
    "Unzip the Kaggle dataset and move the folder into ```02_python_advanced/csvs/<your folder name>```. You can rename the folder if you like. Take a look at the CSV file by opening it up in Excel to get an idea of what the file looks like. Alternatively, you can open it up in a text editor; it's just easier to visualize in a spreadsheet program.\n",
    "\n",
    "Now save the filepath in the block after you run the auto-reload block."
   ]
  },
  {
   "cell_type": "code",
   "execution_count": null,
   "metadata": {},
   "outputs": [],
   "source": [
    "# the following code guarantees you'll properly reload any modules that you custom-defined in your environment.\n",
    "# you don't need to understand it.\n",
    "# just run this once at the beginning.\n",
    "# for auto-reloading extenrnal modules\n",
    "# see http://stackoverflow.com/questions/1907993/autoreload-of-modules-in-ipython\n",
    "%load_ext autoreload\n",
    "%autoreload 2"
   ]
  },
  {
   "cell_type": "code",
   "execution_count": null,
   "metadata": {},
   "outputs": [],
   "source": [
    "college_dir = os.path.join('csvs', 'your_dirname_here') # edit this line\n",
    "degrees_fpath = os.path.join(college_dir, 'degrees-that-pay-back.csv')\n",
    "salaries_type_fpath = os.path.join(college_dir, 'salaries-by-college-type.csv')\n",
    "salaries_region_fpath = os.path.join(college_dir, 'salaries-by-region.csv')"
   ]
  },
  {
   "cell_type": "markdown",
   "metadata": {},
   "source": [
    "**Reload block**: Run the below block every time you modify a function in ```problem_01_fn.py``` and want to test it in the notebook."
   ]
  },
  {
   "cell_type": "code",
   "execution_count": null,
   "metadata": {},
   "outputs": [],
   "source": [
    "from problem_01_fn import *"
   ]
  },
  {
   "cell_type": "markdown",
   "metadata": {},
   "source": [
    "## Load the data\n",
    "\n",
    "Before we analyze anything, we need to read in the CSVs and load them into dictionaries."
   ]
  },
  {
   "cell_type": "markdown",
   "metadata": {},
   "source": [
    "### 1. Degrees dictionary\n",
    "\n",
    "Implement the function ```load_degrees(degree_fpath)``` which should read in the CSV file argument ```degree_fpath``` and return two things:\n",
    "\n",
    "* a list of strings correponding to the header strings for your values (in other words, everything from \"Starting Median Salary\" onward)\n",
    "* a dictionary which has the following format:\n",
    "    ```\n",
    "    key: major, a string\n",
    "    value: a list of floats corresponding to the numbers in each row **minus** the percent change from Starting to Mid-Career Salary\n",
    "    ```\n",
    "\n",
    "I've defined a few constants for you in the ```problem_01_fn.py``` file such that they correspond to what the nth element of the values in your dictionary should be. As a result, once you're done defining your ```load_degrees(degree_fpath)```, you should be able to run the following test blocks without issue.\n",
    "\n",
    "Recall that every time you edit and save a function inside ```problem_01_fn.py```, you must run the reload block."
   ]
  },
  {
   "cell_type": "code",
   "execution_count": null,
   "metadata": {},
   "outputs": [],
   "source": [
    "# create the dictionary\n",
    "salary_headers, degree_dict = load_degrees(degrees_fpath)"
   ]
  },
  {
   "cell_type": "code",
   "execution_count": null,
   "metadata": {},
   "outputs": [],
   "source": [
    "print(salary_headers) # ['Starting Median Salary', 'Mid-Career Median Salary', ...]\n",
    "print(len(salary_headers)) # 6\n",
    "print(degree_dict['Spanish']) # [34000.0, 53100.0, 56.2, ...]\n",
    "print('Undergraduate Major' not in degree_dict)"
   ]
  },
  {
   "cell_type": "markdown",
   "metadata": {},
   "source": [
    "### 2. College dictionaries\n",
    "\n",
    "Implement the function ```load_colleges(salaries_type_fpath, salaries_region_fpath)``` which should read in the two CSV file arguments and return three dictionaries:\n",
    "* a dictionary which has a similar format to our ```degree_dict```:\n",
    "    ```\n",
    "    key: college, a string\n",
    "    value: a list of floats corresponding to the numbers in each row\n",
    "    ```\n",
    "* a dictionary mapping a school type to a list of colleges:\n",
    "    ```\n",
    "    key: school type, a string, like 'Engineering' or 'Party'\n",
    "    value: a list of schools under that school type\n",
    "    ```\n",
    "* a dictionary mapping a region to a list of colleges:\n",
    "    ```\n",
    "    key: region, a string, like 'Southern' or 'Northeastern'\n",
    "    value: a list of schools in that region\n",
    "    ```\n",
    "    \n",
    "Note that some schools appear in both CSVs, but their salary values are the same in both sheets. However, you should make sure you still parse those lines as they will contain information about the school region or type.\n",
    "\n",
    "Once you implement your function, you should be able to run the following test blocks without issue."
   ]
  },
  {
   "cell_type": "code",
   "execution_count": null,
   "metadata": {},
   "outputs": [],
   "source": [
    "college_dict, type_to_colleges, region_to_colleges = load_colleges(salaries_type_fpath, salaries_region_fpath)"
   ]
  },
  {
   "cell_type": "code",
   "execution_count": null,
   "metadata": {},
   "outputs": [],
   "source": [
    "print(college_dict['Polytechnic University of New York, Brooklyn'])\n",
    "print(college_dict['Cooper Union']) # should have -1 in place of N/A\n",
    "print(college_dict['Massachusetts Institute of Technology (MIT)'])\n",
    "print('School Name' not in college_dict)"
   ]
  },
  {
   "cell_type": "code",
   "execution_count": null,
   "metadata": {},
   "outputs": [],
   "source": [
    "print(len(type_to_colleges['Party'])) # should be 20\n",
    "print(len(type_to_colleges['Engineering'])) # should be 19\n",
    "print('School Type' not in type_to_colleges)"
   ]
  },
  {
   "cell_type": "code",
   "execution_count": null,
   "metadata": {},
   "outputs": [],
   "source": [
    "print(len(region_to_colleges['California'])) # should be 28\n",
    "print(sorted((region_to_colleges['California']))) # ['Cal Poly San Luis Obispo', ..., 'University of Southern California (USC)']"
   ]
  },
  {
   "cell_type": "code",
   "execution_count": null,
   "metadata": {},
   "outputs": [],
   "source": [
    "had_errors = []\n",
    "for college_type, colleges in type_to_colleges.items():\n",
    "    had_errors += [college for college in colleges if college not in college_dict]\n",
    "for region, colleges in region_to_colleges.items():\n",
    "    had_errors += [college for college in colleges if college not in college_dict]\n",
    "print('had errors? {}'.format(len(had_errors) != 0))\n",
    "if len(had_errors):\n",
    "    print('errors:', had_errors)\n",
    "    "
   ]
  },
  {
   "cell_type": "markdown",
   "metadata": {},
   "source": [
    "### 3. Statistics\n",
    "Answer the following questions about the data. You can keep your work in this notebook; you don't have to implement additional functions in ```problem_01_fn.py``` if you don't want to.\n",
    "\n",
    "**A. Basic questions**"
   ]
  },
  {
   "cell_type": "markdown",
   "metadata": {},
   "source": [
    "What is the average starting median salary across all degrees? What is the min/max salary?"
   ]
  },
  {
   "cell_type": "code",
   "execution_count": null,
   "metadata": {},
   "outputs": [],
   "source": []
  },
  {
   "cell_type": "markdown",
   "metadata": {},
   "source": [
    "Which degree has the lowest starting median salary? The highest starting median salary? Which degree has a startingm median salary closest to the average median starting salary across all degrees?"
   ]
  },
  {
   "cell_type": "code",
   "execution_count": null,
   "metadata": {},
   "outputs": [],
   "source": []
  },
  {
   "cell_type": "markdown",
   "metadata": {},
   "source": [
    "What school has the lowest mid-career median salary? The highest mid-career median salary? What are the average/min/max median mid-career median salaries?"
   ]
  },
  {
   "cell_type": "code",
   "execution_count": null,
   "metadata": {},
   "outputs": [],
   "source": []
  },
  {
   "cell_type": "markdown",
   "metadata": {},
   "source": [
    "**B. More advanced questions**\n",
    "\n",
    "Compute the Percent change from Starting to Mid-Career Salary for different schools. Which school has the largest percent change in salary?"
   ]
  },
  {
   "cell_type": "code",
   "execution_count": null,
   "metadata": {},
   "outputs": [],
   "source": []
  },
  {
   "cell_type": "markdown",
   "metadata": {},
   "source": [
    "Which school has the largest spread (in $, not percentage) in mid-career salaries? Take the difference of 90th percentile salary and 10th percentile salary."
   ]
  },
  {
   "cell_type": "code",
   "execution_count": null,
   "metadata": {},
   "outputs": [],
   "source": []
  },
  {
   "cell_type": "markdown",
   "metadata": {},
   "source": [
    "Which type of college has the highest mid-career median starting salary? The lowest?"
   ]
  },
  {
   "cell_type": "code",
   "execution_count": null,
   "metadata": {},
   "outputs": [],
   "source": []
  },
  {
   "cell_type": "markdown",
   "metadata": {},
   "source": [
    "Which region of the US has the highest mid-career median starting salary? The lowest?"
   ]
  },
  {
   "cell_type": "code",
   "execution_count": null,
   "metadata": {},
   "outputs": [],
   "source": []
  },
  {
   "cell_type": "markdown",
   "metadata": {},
   "source": [
    "### 4. Write a new csv\n",
    "\n",
    "Implement ```write_colleges(college_fpath, salary_headers, college_dict, type_to_colleges, region_to_colleges)```, which writes an aggregate CSV to ```college_fpath``` that contains the region AND type of the college.\n",
    "\n",
    "**This CSV should be sorted by the name of the college.**\n",
    "\n",
    "Some example rows of this csv might look like:\n",
    "\n",
    "```\n",
    "Tennessee Technological University,Southern,Engineering,46200.0,80000.0,42100.0,62600.0,99500.0,121000.0\n",
    "Stanford University,California,N/A,70400.0,129000.0,68400.0,93100.0,184000.0,257000.0\n",
    "Davidson College,Southern,Liberal Arts,46100.0,104000.0,-1,70500.0,146000.0,-1\n",
    "\"University of Maryland, College Park\",Southern,Party,52000.0,95000.0,50400.0,68300.0,126000.0,166000.0\n",
    "```\n",
    "\n",
    "**Note** You must have the correct header as the first row of your CSV."
   ]
  },
  {
   "cell_type": "code",
   "execution_count": null,
   "metadata": {},
   "outputs": [],
   "source": [
    "college_fpath = os.path.join(college_dir, 'salaries-by-college.csv')"
   ]
  },
  {
   "cell_type": "code",
   "execution_count": null,
   "metadata": {},
   "outputs": [],
   "source": [
    "write_colleges(college_fpath, salary_headers, college_dict, type_to_colleges, region_to_colleges)"
   ]
  },
  {
   "cell_type": "code",
   "execution_count": null,
   "metadata": {},
   "outputs": [],
   "source": []
  }
 ],
 "metadata": {
  "kernelspec": {
   "display_name": "Python 3",
   "language": "python",
   "name": "python3"
  },
  "language_info": {
   "codemirror_mode": {
    "name": "ipython",
    "version": 3
   },
   "file_extension": ".py",
   "mimetype": "text/x-python",
   "name": "python",
   "nbconvert_exporter": "python",
   "pygments_lexer": "ipython3",
   "version": "3.6.5"
  }
 },
 "nbformat": 4,
 "nbformat_minor": 2
}

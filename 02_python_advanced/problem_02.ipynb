{
 "cells": [
  {
   "cell_type": "markdown",
   "metadata": {},
   "source": [
    "# Problem 2: Hurricanes and Typhoons\n",
    "\n",
    "The following problem uses the Kaggle Dataset [Hurricanes and Typhoons, 1851-2014](https://www.kaggle.com/noaa/hurricane-database). We are going to load in a CSV, create a dictionary based on the file contents, and then do some analysis.\n",
    "\n",
    "The functions you write for this problem will be useful for future weeks when we start graphing in ```matplotlib```. This is why we separate the problem descriptions (in this notebook) from your implementation details (in \n",
    "\n",
    "Unzip the Kaggle dataset and move the folder into ```02_python_advanced/csvs/<your folder name>```."
   ]
  },
  {
   "cell_type": "code",
   "execution_count": 1,
   "metadata": {},
   "outputs": [],
   "source": [
    "# the following code guarantees you'll properly reload any modules that you custom-defined in your environment.\n",
    "# you don't need to understand it.\n",
    "# just run this once at the beginning.\n",
    "# for auto-reloading extenrnal modules\n",
    "# see http://stackoverflow.com/questions/1907993/autoreload-of-modules-in-ipython\n",
    "%load_ext autoreload\n",
    "%autoreload 2"
   ]
  },
  {
   "cell_type": "code",
   "execution_count": null,
   "metadata": {},
   "outputs": [],
   "source": [
    "hurricane_dir = os.path.join('csvs', 'your_dirname_here') # edit this line\n",
    "atlantic_fpath = os.path.join(hurricane_dir, 'atlantic.csv')\n",
    "pacific_fpath = os.path.join(pacific_dir, 'pacific.csv')"
   ]
  },
  {
   "cell_type": "markdown",
   "metadata": {},
   "source": [
    "This problem is a little less structured than the previous problem, because I want you to decide what data to store in order to answer the questions. However, you should still define functions in ```problem_02_fn.py``` for reading in the CSVs, for example, and use this notebook for computing statistics.\n",
    "\n",
    "The Kaggle zip includes documentation (in PDFs) of the code. For example, Status of System tells you whether something is a hurricane (HU), tropical storm (TS), tropical depression (TD), etc.\n",
    "\n",
    "**Hints and suggestions**\n",
    "\n",
    "It would be useful to create (at least) two dictionaries: one for pacific information, and one for atlantic information. Some possible formats:\n",
    "\n",
    "    key: name of storm\n",
    "    value: list, sorted by date and time.\n",
    "    \n",
    "    key: highest status of system (HU, TD, TS, etc.)\n",
    "    value: a dictionary\n",
    "            key: name of storm\n",
    "            value: list, sorted by date and time\n",
    "    \n",
    "    key: ID\n",
    "    value: a list\n",
    "    \n",
    "It might also be good to keep a separate dictionary of all the UNNAMED hurricanes.\n",
    "\n",
    "Personally I think the second dictionary format is the easiest one to answer all the questions below. It might take about 30 minutes to construct the function that creates your dictionary.\n",
    "\n",
    "It would be good to define functions that can compare statuses of storms. For example:\n",
    "  \n",
    "I'm no weather expert, but based on various webpages [abc7](http://abc7news.com/weather/what-makes-a-storm-tropical/760591/), [NOAA glossary](https://www.nhc.noaa.gov/aboutgloss.shtml) I think all subtropical systems should be ranked lower than their tropical system counterparts, but otherwise they are somewhat uncomparable.\n",
    "    compare_status(orig, compare):\n",
    "        return 1 if orig > compare (e.g., compare_status('HU', 'TS') = 1)\n",
    "        return -1 if orig < compare (e.g., compare_status('TD', 'TS') = -1, compare+status('SD', 'TD') = -1\n",
    "        return 0 if orig == compare (e.g., compare_status('TD', 'TD') = -1\n",
    "\n",
    "    max_status(items):\n",
    "        return the system status based on the highest status. For example,\n",
    "        a system that reaches 65 knots at some point would return HU. A system\n",
    "        that reaches SS and then later maxes out at TS would return TS.\n",
    "\n",
    "**Useful string functions**\n",
    "\n",
    "    s.strip() # removes leading and trailing whitespace\n",
    "    year, month, day = s[:4], s[4:6], s[6:]"
   ]
  },
  {
   "cell_type": "code",
   "execution_count": null,
   "metadata": {},
   "outputs": [],
   "source": []
  },
  {
   "cell_type": "markdown",
   "metadata": {},
   "source": [
    "## Questions"
   ]
  },
  {
   "cell_type": "markdown",
   "metadata": {},
   "source": [
    "**Simpler questions**\n",
    "\n",
    "How many named hurricanes (with highest status HU) have there been in the Pacific and Atlantic, respectively?"
   ]
  },
  {
   "cell_type": "code",
   "execution_count": null,
   "metadata": {},
   "outputs": [],
   "source": []
  },
  {
   "cell_type": "markdown",
   "metadata": {},
   "source": [
    "For the calendar year 2012, list out all the named storms in the Pacific and Atlantic. For example:\n",
    "\n",
    "    Atlantic: ALBERTO, BERYL, ..., SANDY, TONY\n",
    "    Pacific: ALETTA, BUD, ..., PAUL, ROSA"
   ]
  },
  {
   "cell_type": "code",
   "execution_count": null,
   "metadata": {},
   "outputs": [],
   "source": []
  },
  {
   "cell_type": "markdown",
   "metadata": {},
   "source": [
    "Calculate the duration of each named storm (define it as the last timestep minus the first timestep). It's fine to keep it in hours.\n",
    "\n",
    "It might be worth defining a function that takes in two rows (or however you've define your sublists) and returns the time difference in hours between those two rows.\n",
    "\n",
    "What are the average/median/min/max/stdev of hurricane durations?"
   ]
  },
  {
   "cell_type": "code",
   "execution_count": null,
   "metadata": {},
   "outputs": [],
   "source": []
  },
  {
   "cell_type": "markdown",
   "metadata": {},
   "source": [
    "**Harder questions**\n",
    "\n",
    "What was the hurricane with the longest duration? And what was its average maximum sustained wind as a hurricane (i.e., over the rows that are classified as HU)? How long did it spend as a depression (TD or SD)? Do this once for Atlantic hurricanes and once for Pacific hurricanes."
   ]
  },
  {
   "cell_type": "code",
   "execution_count": null,
   "metadata": {},
   "outputs": [],
   "source": []
  },
  {
   "cell_type": "markdown",
   "metadata": {},
   "source": [
    "Find the hurricanes (one for Atlantic, one for Pacific) with the maximum sustained wind speed. What was the name, when did it occur, how long did they last, and what was the maximum sustained wind?"
   ]
  },
  {
   "cell_type": "code",
   "execution_count": null,
   "metadata": {},
   "outputs": [],
   "source": []
  },
  {
   "cell_type": "markdown",
   "metadata": {},
   "source": [
    "Find all named storms and their years (other than non-developing tropical depressions like \"TEN\" or \"TWO\"). What year reached the furthest named storm in the alphabet for Atlantic storms? For Pacific storms?"
   ]
  },
  {
   "cell_type": "code",
   "execution_count": null,
   "metadata": {},
   "outputs": [],
   "source": []
  },
  {
   "cell_type": "markdown",
   "metadata": {},
   "source": [
    "### Write a CSV\n",
    "\n",
    "(this part might take a while, but I'll try to describe it)\n",
    "\n",
    "For each named storm (so not \"TEN\" or \"TWO\" or \"UNNAMED\"), record:\n",
    "- the start date/time\n",
    "- the end date/time\n",
    "- the max system status\n",
    "- the max sustained wind\n",
    "- the max pressure\n",
    "- for each category (TD, HU, EX, etc.):\n",
    "    - the hours they spent in this category.\n",
    "    - Note that since records are taken every six hours, it's easy to approximate the number of hours spent as 6 * <number of entries of this storm in this category>\n",
    "    \n",
    "Don't forget to include a header row describing each category."
   ]
  }
 ],
 "metadata": {
  "kernelspec": {
   "display_name": "Python 3",
   "language": "python",
   "name": "python3"
  },
  "language_info": {
   "codemirror_mode": {
    "name": "ipython",
    "version": 3
   },
   "file_extension": ".py",
   "mimetype": "text/x-python",
   "name": "python",
   "nbconvert_exporter": "python",
   "pygments_lexer": "ipython3",
   "version": "3.6.5"
  }
 },
 "nbformat": 4,
 "nbformat_minor": 2
}

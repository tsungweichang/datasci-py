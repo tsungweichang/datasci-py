{
 "cells": [
  {
   "cell_type": "markdown",
   "metadata": {},
   "source": [
    "# Problem 1: Advanced Matplotlib\n",
    "\n",
    "Below is a collection of exercises that will get you familiar with how to Google the answers to all of your Matplotlib woes!!"
   ]
  },
  {
   "cell_type": "code",
   "execution_count": 1,
   "metadata": {},
   "outputs": [],
   "source": [
    "# the following code guarantees you'll properly reload any modules that you custom-defined in your environment.\n",
    "# you don't need to understand it.\n",
    "# just run this once at the beginning.\n",
    "# for auto-reloading extenrnal modules\n",
    "# see http://stackoverflow.com/questions/1907993/autoreload-of-modules-in-ipython\n",
    "%load_ext autoreload\n",
    "%autoreload 2\n",
    "import os\n",
    "import sys\n",
    "import numpy as np\n",
    "import csv\n",
    "import matplotlib as mpl\n",
    "import matplotlib.pyplot as plt"
   ]
  },
  {
   "cell_type": "code",
   "execution_count": 2,
   "metadata": {},
   "outputs": [
    {
     "name": "stdout",
     "output_type": "stream",
     "text": [
      "animeID,name,premiered,genre,type,episodes,producer,licensor,studio,source,scored,scoredBy,members\n",
      "\n",
      "['Anime ID', 'Season', 'Episodes', 'Studio', 'Source', 'Score', '# Ratings', '# Favorites']\n",
      "studios: 301 ['10Gauge', '33 Collective', '3xCube', '8bit', 'A-1 Pictures', 'A-Real', 'A.C.G.T.', 'ACC Production', 'AIC', 'AIC A.S.T.A.']\n",
      "['4-koma manga', 'Book', 'Card game', 'Digital manga', 'Game', 'Light novel', 'Manga', 'Music', 'Novel', 'Original', 'Other', 'Picture book', 'Radio', 'Unknown', 'Visual novel', 'Web manga']\n",
      "example entry for Houseki no Kuni [35557, 2017, 3, 12, 'Orange', '', 'Manga', 8.48, 51444, 127924]\n",
      "Cowboy Bebop [     1.     1998.        1.       26.      248.       -1.        9.\n",
      "      8.81 363889.   704490.  ]\n"
     ]
    }
   ],
   "source": [
    "from mal_util import *\n",
    "mal_fpath = os.path.join('csvs', 'myAnimeListDataset [07-05-2018].csv')\n",
    "anime_headers, anime_studios, anime_sources, anime_dict = load_mal(mal_fpath)\n",
    "anime_arr, anime_np_lookup = anime_array(anime_dict,  anime_studios, anime_sources) # convert into numpy array\n",
    "\n",
    "print(anime_headers) # things\n",
    "print('studios:', len(anime_studios), anime_studios[:10])\n",
    "print(anime_sources)\n",
    "print('example entry for Houseki no Kuni', anime_dict['Houseki no Kuni']) # ditionary format\n",
    "np.set_printoptions(suppress=True) # remove scientific notation view\n",
    "print(anime_np_lookup[0], anime_arr[0,:]) # np array format"
   ]
  },
  {
   "cell_type": "markdown",
   "metadata": {},
   "source": [
    "## Exercise 1: Dual axes with subplots\n",
    "\n",
    "Recall the cheese file we used back in Week 2, which reported per capita consumption of cheese in the US versus golf course revenue and civil engineering doctorates awarded. It's saved in this folder under ```05_matplotlib_advanced/csvs/cheese_everything.csv```.\n",
    "\n",
    "Plot the data on dual axes and subplots to produce the example figure below:\n",
    "\n",
    "\n",
    "!['images/01_ex01_soln.png'](images/01_ex01_soln.png)\n",
    "\n",
    "**Hints**:\n",
    "* Go back to Week 2 to remind yourself how to read in CSV files. Remember to call an extra ```f.readline()``` to get rid of headers before calling ```csv.reader(f)```.\n",
    "* It's probably best to create a single list of lists called ```tups``` from the file with four elements: the year, the cheese amount, ```<1 if it's a 'golf' or 0 if it's a 'civil'>```, and the corresponding amount. Then once you have this list of lists, convert it to an array with np.array(tups).\n",
    "* After your ```plt.subplot()``` call, you will have an ```axs``` array of two axis objects. For each of these axis objects, you will need to call ```ax.twinx()``` for each subplot's axis.\n",
    "* The line ```ax_golf, ax_civil = axs``` will define two separate variables, one for ecah subplot's axis.\n",
    "* The secondary axis ylabel might overlap if you just plot it directly. I customized it with ```ax_civil_civil.set_ylabel('Civil engineering doctorates awarded', color='b', rotation=-90, va='bottom')```, where ```ax_civil_civil``` was my secondary axis for ```ax_civil```.\n",
    "\n",
    "Save your plot image as ```05_matplotlib_advanced/images/01_ex01.png```."
   ]
  },
  {
   "cell_type": "code",
   "execution_count": 23,
   "metadata": {},
   "outputs": [
    {
     "name": "stdout",
     "output_type": "stream",
     "text": [
      "[('2000', '29.8', True, '16692'), ('2001', '30.1', True, '16862'), ('2002', '30.5', True, '17533'), ('2003', '30.6', True, '17291'), ('2004', '31.3', True, '18469'), ('2005', '31.7', True, '19356'), ('2006', '32.6', True, '20523'), ('2007', '33.1', True, '21195'), ('2008', '32.7', True, '21044'), ('2009', '32.8', True, '20326'), ('2000', '29.8', False, '480'), ('2001', '30.1', False, '501'), ('2002', '30.5', False, '540'), ('2003', '30.6', False, '552'), ('2004', '31.3', False, '547'), ('2005', '31.7', False, '622'), ('2006', '32.6', False, '655'), ('2007', '33.1', False, '701'), ('2008', '32.7', False, '712'), ('2009', '32.8', False, '708')]\n"
     ]
    },
    {
     "name": "stderr",
     "output_type": "stream",
     "text": [
      "C:\\MyPrograms\\Anaconda3\\lib\\site-packages\\ipykernel_launcher.py:20: FutureWarning: elementwise comparison failed; returning scalar instead, but in the future will perform elementwise comparison\n",
      "C:\\MyPrograms\\Anaconda3\\lib\\site-packages\\ipykernel_launcher.py:30: FutureWarning: elementwise comparison failed; returning scalar instead, but in the future will perform elementwise comparison\n"
     ]
    },
    {
     "data": {
      "image/png": "[encoded data removed]",
      "text/plain": [
       "<Figure size 864x288 with 4 Axes>"
      ]
     },
     "metadata": {},
     "output_type": "display_data"
    }
   ],
   "source": [
    "tups = []\n",
    "YEAR, CHEESE, GOLF_OR_CIVIL, AMOUNT = range(4)\n",
    "\n",
    "with open(os.path.join('csvs', 'cheese_everything.csv'), 'r') as f:\n",
    "    # your code here to read in the csv file\n",
    "    f.readline()\n",
    "    line_count = csv.reader(f)\n",
    "    for i in line_count:\n",
    "        year, cheese_amount, golf_or_civil, amount = i\n",
    "        tups.append((year, cheese_amount, bool(golf_or_civil == 'golf'), amount))\n",
    "    print(tups)\n",
    "\n",
    "arr = np.array(tups) # creates the numpy array\n",
    "fig, axs = plt.subplots(1, 2, figsize=(12,4))\n",
    "\n",
    "\n",
    "# your code here to plot all the things\n",
    "ax_golf, ax_civil = axs\n",
    "\n",
    "is_it_golf = arr[:,GOLF_OR_CIVIL] == 1\n",
    "ax_golf.plot(arr[is_it_golf,YEAR], arr[is_it_golf,CHEESE], 'o--', c='g', alpha=0.8)\n",
    "ax_golf_golf = ax_golf.twinx()\n",
    "ax_golf_golf.plot(arr[is_it_golf,YEAR], arr[is_it_golf,AMOUNT], '^-', c='b', alpha=0.8)\n",
    "ax_golf_golf.set_ylabel('Total revenue generated by golf courses (USA)', color='b', rotation=-90, va='bottom')\n",
    "ax_golf.tick_params(axis='y', labelcolor='g')\n",
    "ax_golf_golf.tick_params(axis='y', labelcolor='b')\n",
    "\n",
    "ax_golf.set_ylabel('Per capita consumption of cheese (lbs, USA)', color='g')\n",
    "\n",
    "is_it_civil = arr[:,GOLF_OR_CIVIL] == 0\n",
    "ax_civil.plot(arr[is_it_civil,YEAR], arr[is_it_civil,CHEESE], 'o--', c='g', alpha=0.8)\n",
    "ax_civil_civil = ax_civil.twinx()\n",
    "ax_civil_civil.plot(arr[is_it_civil,YEAR], arr[is_it_civil,AMOUNT], '^-', c='b', alpha=0.8)\n",
    "ax_civil_civil.set_ylabel('Civil engineering doctorates awarded', color='b', rotation=-90, va='bottom')\n",
    "ax_civil_civil.tick_params(axis='y', labelcolor='b')\n",
    "ax_civil.tick_params(axis='y', labelcolor='g')\n",
    "fig.savefig(os.path.join('images', '01_ex01_soln.png'))"
   ]
  },
  {
   "cell_type": "markdown",
   "metadata": {},
   "source": [
    "## Exercise 2: Studios over time\n",
    "\n",
    "Plot the average rating of a studio over years as a line plot, with circular markers, where the marker size corresponds to the number of anime produced by that studio for that year.\n",
    "\n",
    "\n",
    "!['images/01_ex02_soln.png'](images/01_ex02_soln.png)\n",
    "\n",
    "**Hints**:\n",
    "* You can check the valid studios by calling ```print(select_studios)```.\n",
    "* You will need to find the index of the studio. You can do this with ```studio_ind = anime_studios.index(studios)```, where ```anime_studios``` is the list of studio names. Then this ```studio_ind``` will be a valid entry in ```anime_arr[:,STUDIO]```.\n",
    "* I did this using a double for loop:\n",
    "\n",
    "        for studio, c in zip(select_studios, select_colors):\n",
    "            # set up things\n",
    "            for year in valid_years:\n",
    "                valid_scores = anime_arr[boolean_indexing array, SCORE]\n",
    "                # more things to compute average scores over valid scores\n",
    "            ax.plot(year_arr, average_scores, marker='o', s=size_based_on_number_of_anime)\n",
    "        \n",
    "* Recall that ```thing1, thing2 = zip(list1, list2)``` sets ```thing``` and ```thing2``` to the nth element in ```list``` and ```list2```, respectively.       \n",
    "* You can incorporate two pieces of information into your boolean indexing with ```np.logical_and(<bool arg1>, <bool arg2>```.\n",
    "* ```ax.legend(loc='lower right')``` sets the legend to the lower right.\n",
    "* Set the valid xticks to every other even year. For example, ```ax.set_xticks(valid_years[::2])```.\n",
    "\n",
    "Save your plot image as 05_matplotlib_advanced/images/01_ex02.png."
   ]
  },
  {
   "cell_type": "code",
   "execution_count": null,
   "metadata": {},
   "outputs": [],
   "source": [
    "select_studios = [] # fill this in\n",
    "select_colors = [] # fill this in with colors you decide. should be same length as studio list\n",
    "\n",
    "for studio, c in zip(select_studios, select_colors):\n",
    "    # score processing stuff here\n",
    "    pass\n",
    "\n",
    "fig = plt.figure()\n",
    "ax = plt.gca()\n",
    "# plotting here\n"
   ]
  },
  {
   "cell_type": "markdown",
   "metadata": {},
   "source": [
    "## Exercise 3: Average rating per season of studios\n",
    "\n",
    "We did a scatter plot of ratings per season for select studios during lecture, but it might make more sense to look at aggregate statistics.\n",
    "\n",
    "Show the average rating of a studio by season during the years 2000 to 2017 on a grid. An example is below.\n",
    "!['images/01_ex03_soln.png'](images/01_ex03_soln.png)\n",
    "\n",
    "**Hints:**\n",
    "* Check out this link: https://stackoverflow.com/questions/5821125/how-to-plot-confusion-matrix-with-string-axis-rather-than-integer-in-python\n",
    "* To set figure size, call ```plt.figure(figsize=(w,h))```, where ```w,h``` are in inches.\n",
    "* I used ```plt.get_cmap('YlOrRd')``` as my colormap. A list of colormaps is here: [Matplotlib colormaps reference](https://matplotlib.org/examples/color/colormaps_reference.html)\n",
    "* Colormaps automatically normalize by the range of input.\n",
    "* To change the color of the text, I added an argument ```color=color``` to the ```ax.annotate()``` function call. I decided the color based on whether it was greater than the average rating (in which case I set it to white), or less than or equal to (in which case it was black).\n",
    "* The season strings are located in ```SEASON_STRS```.\n",
    "* Make sure you re-adjust your layout at the end with ```fig.tight_layout()``` otherwise when you save the image, you might cut off the labels.\n",
    "* I called ```fig.colorbar(res, ax=ax)``` to put the colorbar legend once I was done with showing the image.\n",
    "\n",
    "**Note that this exercise will take significantly longer than the first two exercises.**\n",
    "\n",
    "Save your plot image as ```05_matplotlib_advanced/images/01_ex03.png.```"
   ]
  },
  {
   "cell_type": "code",
   "execution_count": null,
   "metadata": {},
   "outputs": [],
   "source": [
    "select_studios = [] # fill this in\n",
    "\n",
    "studio_arr = anime_arr[:,STUDIO]\n",
    "valid_years = np.arange(2000, 2018)\n",
    "bool_valid_years = np.array([year in valid_years for year in anime_arr[:,YEAR]])\n",
    "seasons = range(4)\n",
    "\n",
    "for studio in select_studios:\n",
    "    ## your code here\n",
    "    pass\n",
    "\n",
    "# imshow and plot code here\n",
    "fig = plt.figure()\n",
    "ax = plt.gca()"
   ]
  }
 ],
 "metadata": {
  "kernelspec": {
   "display_name": "Python 3",
   "language": "python",
   "name": "python3"
  },
  "language_info": {
   "codemirror_mode": {
    "name": "ipython",
    "version": 3
   },
   "file_extension": ".py",
   "mimetype": "text/x-python",
   "name": "python",
   "nbconvert_exporter": "python",
   "pygments_lexer": "ipython3",
   "version": "3.6.4"
  }
 },
 "nbformat": 4,
 "nbformat_minor": 2
}

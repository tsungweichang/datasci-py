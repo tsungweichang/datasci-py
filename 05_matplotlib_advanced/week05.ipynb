{
 "cells": [
  {
   "cell_type": "markdown",
   "metadata": {},
   "source": [
    "# Week 05: Advanced Matplotlib\n",
    "\n",
    "This week's learning goals are as follows:\n",
    "\n",
    "1. Learn how to use subplots.\n",
    "1. Use Matplotlib documentation to customize your graphs.\n",
    "1. Graph dual axes.\n",
    "1. Use colorbar to plot heat maps.\n",
    "\n",
    "This notebook uses the Kaggle Dataset Pokemon with stats. Download and move the csv into ```05_matplotlib_advanced/csvs```. For this notebook, I have defined a set of util functions for working with our Pokemon data. Please copy over the ```pokemon_util.py``` file from Week 4.\n",
    "\n",
    "This notebook also uses the MyAnimeList database, and I've defined util functions for that as well. Please download the csv from [this GitHub repo](https://github.com/Dibakarroy1997/myanimelist-data-set-creator), \"MyAnimeList Anime Dataset up to May 7 2018\" and save it in ```05_matplotlib_advanced/csvs```."
   ]
  },
  {
   "cell_type": "code",
   "execution_count": null,
   "metadata": {},
   "outputs": [],
   "source": [
    "# the following code guarantees you'll properly reload any modules that you custom-defined in your environment.\n",
    "# you don't need to understand it.\n",
    "# just run this once at the beginning.\n",
    "# for auto-reloading extenrnal modules\n",
    "# see http://stackoverflow.com/questions/1907993/autoreload-of-modules-in-ipython\n",
    "%load_ext autoreload\n",
    "%autoreload 2\n",
    "import os\n",
    "import sys\n",
    "import numpy as np\n",
    "import csv\n",
    "import matplotlib as mpl\n",
    "import matplotlib.pyplot as plt"
   ]
  },
  {
   "cell_type": "markdown",
   "metadata": {},
   "source": [
    "## 1. Subplots\n",
    "\n",
    "From last week's homework, we learned how to graph multiple series onto a single figure throuhg repeated calls to ```plot``` or ```scatter```. However, it's possible to even graph multiple plots onto a figure by creating subplots.\n",
    "\n",
    "The below function creates one figure and two axes objects that we can access for two separate plots."
   ]
  },
  {
   "cell_type": "code",
   "execution_count": null,
   "metadata": {},
   "outputs": [],
   "source": [
    "\"\"\"\n",
    "subplots(num_rows, num_cols, figsize=(10,6))\n",
    "returns:\n",
    "    fig: entire figure object\n",
    "    axs: list of axes\n",
    "\"\"\"\n",
    "fig, axs = plt.subplots(1, 2, figsize=(10,4))\n",
    "print(axs)"
   ]
  },
  {
   "cell_type": "markdown",
   "metadata": {},
   "source": [
    "When we plot on the two plots, now notice that they have separate color tracking. We also can separately label the subplots."
   ]
  },
  {
   "cell_type": "code",
   "execution_count": null,
   "metadata": {},
   "outputs": [],
   "source": [
    "x = np.linspace(-np.pi, np.pi, 80, endpoint=True)\n",
    "cos_y,sin_y = np.cos(x), np.sin(x)\n",
    "\n",
    "fig, axs = plt.subplots(1, 2, figsize=(10,4))\n",
    "axs[0].plot(x, cos_y, label='cos')\n",
    "axs[0].plot(x, sin_y, label='sin')\n",
    "axs[0].legend()\n",
    "axs[1].plot(x, sin_y)\n",
    "axs[1].set_xlabel('x values')\n",
    "axs[1].set_ylabel('y values')\n",
    "axs[1].set_xlim((-3, 3))\n",
    "plt.show()"
   ]
  },
  {
   "cell_type": "markdown",
   "metadata": {},
   "source": [
    "But the labels aren't well-positioned now, so we use this function to automatically resize the figures so we can see everything nicely. We generally keep this line as the last line to auto format."
   ]
  },
  {
   "cell_type": "code",
   "execution_count": null,
   "metadata": {},
   "outputs": [],
   "source": [
    "fig.tight_layout()\n",
    "fig # to show the figure in this cell"
   ]
  },
  {
   "cell_type": "markdown",
   "metadata": {},
   "source": [
    "Finally, we can set an overall title for this subplot figure. This one is also a bit hard to position (and doesn't play well with ```fig.tight_layout()```) so I usually just leave it out."
   ]
  },
  {
   "cell_type": "code",
   "execution_count": null,
   "metadata": {},
   "outputs": [],
   "source": [
    "fig.suptitle('Overall title')\n",
    "fig.tight_layout() # reformat again\n",
    "fig # to show the figure in this cell"
   ]
  },
  {
   "cell_type": "markdown",
   "metadata": {},
   "source": [
    "We can save the entire figure with the same call to ```savefig()``` as last time."
   ]
  },
  {
   "cell_type": "code",
   "execution_count": null,
   "metadata": {},
   "outputs": [],
   "source": [
    "fig.savefig(os.path.join('images', 'subplot_example.png'))"
   ]
  },
  {
   "cell_type": "markdown",
   "metadata": {},
   "source": [
    "### 2-D subplots\n",
    "\n",
    "In the above exercise, since our subplots were 1-D (in a single row), the ```axs``` object returned is a one-dimensional list. However, if we create a 2-D set of subplots (with multiple rows, multiple columns), the ```axs``` object returned is a numpy list indexed as ```axs[row_index,col_index]```."
   ]
  },
  {
   "cell_type": "code",
   "execution_count": null,
   "metadata": {},
   "outputs": [],
   "source": [
    "fig, axs = plt.subplots(3,3, figsize=(9,9))\n",
    "print('axs object', axs)\n",
    "print(axs.shape) # it's a numpy array\n",
    "for row_ind in range(axs.shape[0]):\n",
    "    for col_ind in range(axs.shape[1]):\n",
    "        axs[row_ind, col_ind].set_title('Subplot index ({}, {})'.format(row_ind, col_ind))\n",
    "\n",
    "fig.tight_layout()"
   ]
  },
  {
   "cell_type": "markdown",
   "metadata": {},
   "source": [
    "## Example\n",
    "Let's plot a subplot of all six of the Pokemon stats."
   ]
  },
  {
   "cell_type": "code",
   "execution_count": null,
   "metadata": {},
   "outputs": [],
   "source": [
    "# load the pokemon dataset in\n",
    "from pokemon_util import *\n",
    "pokemon_fpath = os.path.join('csvs', 'pokemon.csv')\n",
    "poke_headers, poke_types, poke_dict = load_pokemon(pokemon_fpath) # get the dictionary\n",
    "poke_arr, poke_np_lookup = poke_array(poke_dict, poke_types) # convert into numpy array"
   ]
  },
  {
   "cell_type": "code",
   "execution_count": null,
   "metadata": {},
   "outputs": [],
   "source": [
    "print(poke_headers)\n",
    "print(poke_types) # pokemon types, sorted\n",
    "print(poke_dict['Bulbasaur']) # dictionary format\n",
    "print(poke_np_lookup[0], poke_arr[0,:]) # np array format"
   ]
  },
  {
   "cell_type": "code",
   "execution_count": null,
   "metadata": {},
   "outputs": [],
   "source": [
    "fig, axs = plt.subplots(3, 2, figsize=(8,6))\n",
    "num_stats = 6\n",
    "num_rows, num_cols = axs.shape\n",
    "bin_range = np.linspace(0, 256, 12)\n",
    "for stat_ind in range(num_stats):\n",
    "    poke_ind = TOTAL_STAT+1+stat_ind\n",
    "    stat_col = poke_arr[:,poke_ind]\n",
    "    row_ind = stat_ind//num_cols # integer division\n",
    "    col_ind = stat_ind % num_cols # remainder\n",
    "    axs[row_ind, col_ind].hist(stat_col, bins=bin_range, edgecolor='w')\n",
    "    axs[row_ind, col_ind].set_title(poke_headers[poke_ind])\n",
    "\n",
    "# then label the x/y axes at the end\n",
    "for row_ind in range(num_rows):\n",
    "    axs[row_ind,0].set_ylabel('# of Pokemon')\n",
    "for col_ind in range(num_cols):\n",
    "    axs[-1, col_ind].set_xlabel('Stat points')\n",
    "fig.tight_layout()"
   ]
  },
  {
   "cell_type": "markdown",
   "metadata": {},
   "source": [
    "#### Programming exercises\n",
    "\n",
    "Plot the same Pokemon stat figure but using a nested loop instead.\n",
    "\n",
    "Notes:\n",
    "* First decide whether you want 3 rows x 2 columns or 2 rows x 3 columns. It's up to you.\n",
    "* Recall that you can make a histogram with ```ax.hist(x_values)``` if ```ax``` is a single object. You will probably have to call ```axs[i,j].hist(...)``` with what you want.\n",
    "* The ```STAT_START``` constant gives you the index into ```TOTAL_STAT```, followed by ```HP, ATK, DEF, SPATK, SPDEF, SPD```. So to get ```HP```, you can call ```STAT_START+1```.\n",
    "* It is easiest to accomplish this task in a nested double loop, where the outer loop indexes into the rows of ```axs```, and the inner loop indexes into the columns of ```axs```. You can then decide the stat index by doing ```STAT_START+1+<some value>```, where ```<some value>``` is a function of the row and column you're on, as well as the dimensions of your ```axs``` array."
   ]
  },
  {
   "cell_type": "code",
   "execution_count": null,
   "metadata": {},
   "outputs": [],
   "source": [
    "# Your code here\n"
   ]
  },
  {
   "cell_type": "markdown",
   "metadata": {},
   "source": [
    "## 2. Graph customization\n",
    "\n",
    "We are going to use the MyAnimeList dataset for the remainder of this notebook.\n",
    "\n",
    "Different size stuff (densities and sizes)\n",
    "- a circle plot?\n",
    "Color version of plot\n",
    "- a color plot? with colorbar\n",
    "- Custom bars and stuff\n",
    "- LaTeX/subscript/supersript in titles and text\n",
    "\n",
    "Fill between\n",
    "- https://matplotlib.org/users/recipes.html\n",
    "\n",
    "Legend placement, Textbox adding"
   ]
  },
  {
   "cell_type": "code",
   "execution_count": null,
   "metadata": {},
   "outputs": [],
   "source": [
    "from mal_util import *\n",
    "mal_fpath = os.path.join('csvs', 'myAnimeListDataset [07-05-2018].csv')\n",
    "anime_headers, anime_studios, anime_sources, anime_dict = load_mal(mal_fpath)\n",
    "anime_arr, anime_np_lookup = anime_array(anime_dict,  anime_studios, anime_sources) # convert into numpy array\n",
    "\n",
    "print(anime_headers) # things\n",
    "print('studios:', len(anime_studios), anime_studios[:10])\n",
    "print(anime_sources)\n",
    "print('example entry for Houseki no Kuni', anime_dict['Houseki no Kuni']) # ditionary format\n",
    "np.set_printoptions(suppress=True) # remove scientific notation view\n",
    "print(anime_np_lookup[0], anime_arr[0,:]) # np array format"
   ]
  },
  {
   "cell_type": "markdown",
   "metadata": {},
   "source": [
    "### Using an array for marker size\n",
    "If we plot all anime scores from 2017, we get a blob of information:"
   ]
  },
  {
   "cell_type": "code",
   "execution_count": null,
   "metadata": {},
   "outputs": [],
   "source": [
    "mal_scores = anime_arr[:,SCORE]\n",
    "bool_2017 = anime_arr[:,YEAR] == 2017\n",
    "def set_labels(ax, title):\n",
    "    ax.set_xticks(np.arange(4))\n",
    "    ax.set_xticklabels(SEASON_STRS)\n",
    "    ax.set_xlim((-0.5, 3.5))\n",
    "    ax.set_title(title)\n",
    "    ax.set_ylabel('MAL rating')\n",
    "\n",
    "\n",
    "fig = plt.figure()\n",
    "ax = plt.gca()\n",
    "x_vals = anime_arr[bool_2017,SEASON]\n",
    "y_vals = anime_arr[bool_2017,SCORE]\n",
    "ax.scatter(x_vals, y_vals,alpha=0.2,c='g')\n",
    "#plt.xlim((2000,2018))\n",
    "set_labels(ax, title='Anime from 2017')\n",
    "plt.show()"
   ]
  },
  {
   "cell_type": "markdown",
   "metadata": {},
   "source": [
    "One thing we can do is to randomize the x-offset to make each individual point more readable."
   ]
  },
  {
   "cell_type": "code",
   "execution_count": null,
   "metadata": {},
   "outputs": [],
   "source": [
    "offset_x_vals = x_vals + 0.05-np.random.random(x_vals.shape)*0.1\n",
    "fig = plt.figure()\n",
    "ax = plt.gca()\n",
    "ax.scatter(offset_x_vals, y_vals,alpha=0.2,c='g')\n",
    "set_labels(ax, title='Anime from 2017')"
   ]
  },
  {
   "cell_type": "markdown",
   "metadata": {},
   "source": [
    "Another thing we can do is set the size as an array, which is the same shape as our x and y arrays. However if we want our size to be the number of people who watched this anime, we actually get an unreadable graph, so instead we do the following:\n",
    "* Figure out automatic bins for the viewcount distribution\n",
    "* Use the ```np.digitize(values, bins)``` function to get the bin index of each view count, instead of the absolute viewcount\n",
    "* Use the bin indices as the size index itself\n",
    "\n",
    "We do some analysis on the distribution of our anime viewcounts to show why this works."
   ]
  },
  {
   "cell_type": "code",
   "execution_count": null,
   "metadata": {},
   "outputs": [],
   "source": [
    "ratings = anime_arr[:,NUM_RATINGS]\n",
    "counts, bins, _ = plt.hist(ratings, bins=40)\n",
    "plt.ylabel('Number of anime')\n",
    "plt.xlabel('Number of ratings')\n",
    "print('bins', bins.tolist())\n",
    "print('counts', counts.tolist())"
   ]
  },
  {
   "cell_type": "markdown",
   "metadata": {},
   "source": [
    "Now our below graph has much more information, since we can clearly see where the more popular anime lie in our chart."
   ]
  },
  {
   "cell_type": "code",
   "execution_count": null,
   "metadata": {},
   "outputs": [],
   "source": [
    "fig = plt.figure()\n",
    "ax = plt.gca()\n",
    "bin_inds = np.digitize(anime_arr[bool_2017,NUM_RATINGS], bins) # get the index of what viewcount bin each item is in\n",
    "print('example of bin indices from digitize call', bin_inds[:10])\n",
    "s_vals = (bin_inds+1)*20\n",
    "ax.scatter(offset_x_vals, y_vals, s=s_vals, alpha=0.3, c='g')\n",
    "set_labels(ax,title='Anime from 2017')"
   ]
  },
  {
   "cell_type": "markdown",
   "metadata": {},
   "source": [
    "### Using an array for colors and alpha  values\n",
    "Recall that we can set the ```alpha``` values, which set the shading. Unfortunately, ```alpha``` can only take in a scalar value or ```None```; it can't take in an array of alphas. The reason for this is because an alpha value is a shade, and it is closely tied with the RGBA representation of color, which is a tuple of 4 values: R,G,B,A (for alpha).\n",
    "\n",
    "So what we **can** do is specify an array of RGBA colors, where the RGB values are always the color we care about, but the alpha values vary. Note that all elements of RGBA must be scaled between 0 and 1.0, so a pure green which is (0,255,0) will actually be (0, 1.0, 0, 1) in RGBA land."
   ]
  },
  {
   "cell_type": "code",
   "execution_count": null,
   "metadata": {},
   "outputs": [],
   "source": [
    "rgba_vals = np.ones((y_vals.shape[0],4))\n",
    "rgba_vals[:,:3] = [0,1.0,0]\n",
    "rgba_vals[:,3] = (bin_inds)/np.max(bin_inds)\n",
    "fig = plt.figure()\n",
    "ax = plt.gca()\n",
    "ax.scatter(offset_x_vals, y_vals, s=s_vals, c=rgba_vals)\n",
    "set_labels(ax,title='Anime from 2017')"
   ]
  },
  {
   "cell_type": "markdown",
   "metadata": {},
   "source": [
    "#### Programming exercises\n",
    "\n",
    "Choose four studios out of the following list:"
   ]
  },
  {
   "cell_type": "code",
   "execution_count": null,
   "metadata": {},
   "outputs": [],
   "source": [
    "print(anime_studios)"
   ]
  },
  {
   "cell_type": "markdown",
   "metadata": {},
   "source": [
    "#### Exercise 1\n",
    "\n",
    "Plot the studio ratings by season, using a different color for each studio.\n",
    "\n",
    "Notes:\n",
    "* ```l.index(item)``` returns the first index of ```item``` in the list ```l```. You can use this to find the studio index from ```anime_studios``` (your list).\n",
    "* ```fig.legend()``` tries its best to plot a unobtrusive legend (this should show which studio belongs to which color)\n",
    "* ```set_labels(ax, title=title_str)``` automatically configures the axis object to display seasons, with the title being ```title_str```"
   ]
  },
  {
   "cell_type": "code",
   "execution_count": null,
   "metadata": {},
   "outputs": [],
   "source": [
    "select_studios = [] # fill this in\n",
    "select_colors = [] # fill this in with colors you decide. should be same length as studio list\n",
    "\n",
    "fig = plt.figure()\n",
    "ax = plt.gca()\n",
    "\n",
    "studio_arr = anime_arr[:,STUDIO]\n",
    "\n",
    "for studio, c in zip(select_studios, select_colors):\n",
    "    ## your code here\n",
    "    pass\n",
    "\n",
    "# labeling code here"
   ]
  },
  {
   "cell_type": "markdown",
   "metadata": {},
   "source": [
    "## 3. Dual axes"
   ]
  },
  {
   "cell_type": "markdown",
   "metadata": {},
   "source": [
    "What if we wanted to track average MAL rating with the number of people rating anime over time? The answer is probably dual axes. You can read this Matplotlib documentation for more information, but the following code is basically me applying the documentation to the MAL dataset.\n",
    "\n",
    "https://matplotlib.org/gallery/api/two_scales.html\n",
    "\n",
    "Notice that we are plotting *standard error*, not standard deviation. This is the estimated error of the average that we've plotted for that particular year, which is ```sigma/sqrt(n)```, where ```sigma``` is the standard deviation of the sample mean, and ```n``` is the number of samples we have."
   ]
  },
  {
   "cell_type": "code",
   "execution_count": null,
   "metadata": {},
   "outputs": [],
   "source": [
    "def get_statistics_by_year(arr):\n",
    "    year_col = arr[:,SEASON].astype(int)\n",
    "    years = sorted(list(set(year_col.tolist())))\n",
    "    mean_tups, std_tups, min_tups, max_tups, n_tups = [], [], [], [], []\n",
    "    for year in years:\n",
    "        year_arr = arr[year_col == year,:]\n",
    "        mean_tups.append(np.mean(year_arr,axis=0))\n",
    "        std_tups.append(np.std(year_arr, axis=0))\n",
    "        min_tups.append(np.amin(year_arr, axis=0))\n",
    "        max_tups.append(np.amax(year_arr, axis=0))\n",
    "        n_tups.append(np.count_nonzero(year_col == year))\n",
    "    return years, np.array(mean_tups), np.array(std_tups), np.array(min_tups), np.array(max_tups), np.array(n_tups)\n",
    "\n",
    "years, mean_by_year, std_by_year, min_by_year, max_by_year, n_by_year = get_statistics_by_year(anime_arr)\n",
    "stderr_by_year = (std_by_year.T/np.sqrt(n_by_year)).T\n",
    "\n",
    "fig = plt.figure()\n",
    "\n",
    "# plot the left axis\n",
    "ax1 = plt.gca()\n",
    "score_c = 'g'\n",
    "ax1.errorbar(years, mean_by_year[:,SCORE], yerr=stderr_by_year[:,SCORE], capsize=5, c=score_c)\n",
    "ax1.set_ylabel('Average MAL score ($\\pm$ 1 SE)', color=score_c)\n",
    "ax1.tick_params(axis='y', labelcolor=score_c)\n",
    "ax1.set_ylim((5, 8))\n",
    "\n",
    "# plot the right axis\n",
    "ax2 = ax1.twinx()\n",
    "rate_c = 'b'\n",
    "ax2.errorbar(years, mean_by_year[:,NUM_RATINGS], yerr=stderr_by_year[:,NUM_RATINGS], capsize=5, c=rate_c)\n",
    "ax2.set_ylabel('Average number of ratings ($\\pm$ 1 SE)', color=rate_c)\n",
    "ax2.tick_params(axis='y', labelcolor=rate_c)\n",
    "\n",
    "# set x labels\n",
    "ax1.set_xlim((1990, 2018))\n",
    "ax1.set_xlabel('Year')\n",
    "plt.show()\n",
    "\n",
    "print('Year with most ratings:', years[np.argmax(mean_by_year[:,NUM_RATINGS])])"
   ]
  },
  {
   "cell_type": "markdown",
   "metadata": {},
   "source": [
    "For context, the MAL listing feature was created in 2004, the MyAnimeList name was created in 2006, Fullmetal Alchemist: Brotherhood was released in 2010, Attack on Titan was released in 2013, and One Punch Man was released in 2015. Teekyuu was released in 2012 (the peak year for number of ratings; other anime series released in 2012 available on [wikipedia](https://en.wikipedia.org/wiki/List_of_animated_television_series_of_2012)).\n"
   ]
  },
  {
   "cell_type": "markdown",
   "metadata": {},
   "source": [
    "#### Programming exercise\n",
    "\n",
    "Plot the average number of people rating an anime with the average number of people favoriting anime over the number of years."
   ]
  },
  {
   "cell_type": "code",
   "execution_count": null,
   "metadata": {},
   "outputs": [],
   "source": []
  },
  {
   "cell_type": "markdown",
   "metadata": {},
   "source": [
    "## 4. Colorbar to plot heat maps\n",
    "\n",
    "Plotting colors is sometimes used to introduce a third dimension onto 2-D plots (as an alternative to size/alpha shading). Let's see how this works."
   ]
  },
  {
   "cell_type": "code",
   "execution_count": null,
   "metadata": {},
   "outputs": [],
   "source": [
    "fig = plt.figure()\n",
    "ax = plt.gca()\n",
    "num_ratings = anime_arr[:,NUM_RATINGS]\n",
    "num_faves = anime_arr[:,NUM_FAV]\n",
    "scores = anime_arr[:,SCORE]\n",
    "\n",
    "\n",
    "# Choose colormap\n",
    "cmap = plt.cm.jet\n",
    "my_cmap = cmap(np.arange(cmap.N)) # Get the colormap colors\n",
    "print('default RGB colors', my_cmap)\n",
    "print('possible colors', my_cmap.shape)\n",
    "my_cmap[:,-1] = 0.5\n",
    "my_cmap = mpl.colors.ListedColormap(my_cmap)\n",
    "print('color object', my_cmap)\n",
    "\n",
    "norm = mpl.colors.Normalize(vmin=0, vmax=10)\n",
    "scale_map = plt.cm.ScalarMappable(norm=norm, cmap=my_cmap)\n",
    "scale_cs = scale_map.to_rgba(scores)\n",
    "print('scaled color object', scale_map)\n",
    "print('output colors', scale_cs)\n",
    "\n",
    "ax.scatter(num_ratings, num_faves, c=scale_cs)\n",
    "ax.set_xlabel('Number of people who rated an anime')\n",
    "ax.set_ylabel('Number of people who favorited an anime')\n",
    "ax.set_yscale('log')\n",
    "plt.show()"
   ]
  }
 ],
 "metadata": {
  "kernelspec": {
   "display_name": "Python 3",
   "language": "python",
   "name": "python3"
  },
  "language_info": {
   "codemirror_mode": {
    "name": "ipython",
    "version": 3
   },
   "file_extension": ".py",
   "mimetype": "text/x-python",
   "name": "python",
   "nbconvert_exporter": "python",
   "pygments_lexer": "ipython3",
   "version": "3.6.5"
  }
 },
 "nbformat": 4,
 "nbformat_minor": 2
}

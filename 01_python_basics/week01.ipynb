{
 "cells": [
  {
   "cell_type": "markdown",
   "metadata": {},
   "source": [
    "# Week 01: Python basics\n",
    "\n",
    "This week's learning goals are as follows:\n",
    "\n",
    "1. Be able to use jupyter notebooks to run short snippets of code.\n",
    "1. Review basics of programming.\n",
    "1. Manipulate lists.\n",
    "1. Understand and program recursion.\n",
    "1. Import and use common packages.\n",
    "1. Understand the difference between python scripts and jupyter notebooks."
   ]
  },
  {
   "cell_type": "markdown",
   "metadata": {},
   "source": [
    "## 1. iPython overview\n",
    "\n",
    "Jupyter notebooks are a comprehensive way to write documentation, run snippets of code, and check output of code, all in an easy to read format. Snippetes are written in modules called ```cells```, and you can add and delete cells. The format of a notebook is often linear, from top to bottom; a developer expects you to run earlier cells before running current cells.\n",
    "\n",
    "There are two main types of cells in these notebooks: Markdown, and code. Markdown is a format to write bullets, headings, etc., similar to Google Docs. Code is by default Python 3 code (as you installed it in Conda); you can verify this by checking the top-right corner of this browser.\n",
    "\n",
    "* To create a new cells, click the plus sign on the top left. Once you click on a cell, you can edit its type: Markdown or Cell (there's a dropdown on the menu bar).\n",
    "\n",
    "* To ''execute'' or ''run'' a cell, type < Ctrl > + < Enter >.\n",
    "    \n",
    "* To edit a cell, double click on it.\n",
    "\n",
    "* To remove a cell, go to 'Edit'->'Delete Cells'.\n",
    "\n",
    "* **To save your work**, < Ctrl > + s (< Command > + s on Mac).\n",
    "\n",
    "* To move between adjacent cells, use the arrow keys.\n",
    "\n",
    "If anything goes wrong, go to 'Kernel'->'Restart'. Note that if you exit out of the ```jupyter notebook``` window that you used to launch this window in the browser, then the underlying python kernel (the thing that's listening and running your code in this notebook) will die, and you will need to exit + relaunch jupyter from the command line.\n",
    "\n",
    "### Your first program\n",
    "\n",
    "In the code cell below, type in the following and run your first snippet.\n",
    "```\n",
    "print('Hello world!')\n",
    "```"
   ]
  },
  {
   "cell_type": "code",
   "execution_count": null,
   "metadata": {},
   "outputs": [],
   "source": [
    "# This is a comment in Python, prefixed by a 'pound' sign. \n",
    "# Write your code below this line.\n",
    "print('Hello world!')\n"
   ]
  },
  {
   "cell_type": "markdown",
   "metadata": {},
   "source": [
    "### Your first Markdown\n",
    "\n",
    "Change the code cell to a markdown cell. Then create a bulleted list of your choosing. If you need help with figuring out how to make bullets, you can double click on the Markdown in introduction and see what I did. Then run your snippet like you did before."
   ]
  },
  {
   "cell_type": "markdown",
   "metadata": {},
   "source": [
    "* hello\n",
    "* two\n",
    "* three\n",
    "\n",
    "**hello**"
   ]
  },
  {
   "cell_type": "markdown",
   "metadata": {},
   "source": [
    "## 2.  Basics of programming\n",
    "\n",
    "Programming (for the purposes of this course) is all about three things:\n",
    "* Variables: a box to store some information.\n",
    "* Functions:  a block of organized, reusable code that is used to perform a single, related action.\n",
    "* Control flow: a way to choose what code to run"
   ]
  },
  {
   "cell_type": "markdown",
   "metadata": {},
   "source": [
    "### Variables\n",
    "\n",
    "In Python, variables can be anything: integers, decimal numbers, strings or characters, abstract lookup tables, lists, and even functions. We'll see how this works in a few exercises.\n",
    "\n",
    "Note how the following code contains no variables; we simply run it and it outputs a value."
   ]
  },
  {
   "cell_type": "code",
   "execution_count": null,
   "metadata": {},
   "outputs": [],
   "source": [
    "# Run this code\n",
    "2 + 3"
   ]
  },
  {
   "cell_type": "markdown",
   "metadata": {},
   "source": [
    "However, variables allow us to store state, which is especially useful when we want to reuse that state for something else. Take the below code for example:"
   ]
  },
  {
   "cell_type": "code",
   "execution_count": null,
   "metadata": {},
   "outputs": [],
   "source": [
    "x = 2\n",
    "y = 3\n",
    "z = 4\n",
    "print('The sum of x and y is', x + y)\n",
    "print('The product of x and z is', x * z)\n",
    "print('Another way to print stuff is to use the addition operator ' + 'like so')"
   ]
  },
  {
   "cell_type": "markdown",
   "metadata": {},
   "source": [
    "There are a few different types of variables that we need to remember:"
   ]
  },
  {
   "cell_type": "code",
   "execution_count": null,
   "metadata": {},
   "outputs": [],
   "source": [
    "# left hand side: variable name\n",
    "# right hand side: the value to store inside the variable\n",
    "print(x)\n",
    "x_pos = 5 # another integer\n",
    "y = 3.5675 # a float (floating point, aka not a whole number)\n",
    "c = 'c' # a character\n",
    "l = [1,2,3,4] # a list\n",
    "s = 'hello friends' # a string\n",
    "b = True # a boolean, aka True or False"
   ]
  },
  {
   "cell_type": "code",
   "execution_count": null,
   "metadata": {},
   "outputs": [],
   "source": [
    "# If a variable isn't defined yet, then Python will throw an error\n",
    "print(asdfvariable)"
   ]
  },
  {
   "cell_type": "code",
   "execution_count": null,
   "metadata": {},
   "outputs": [],
   "source": [
    "'''\n",
    "This is a multi-line comment, started and ended with three apostrophes in a row.\n",
    "**Important note:** The variables that we defined \n",
    "   in a different cell still carry over to this cell.\n",
    "'''\n",
    "# Use this cell to see how the different types interact. I've written a few examples for you.\n",
    "print(x + y) # x is an integer, y is float\n",
    "print(x * y)\n",
    "\n",
    "# We'll cover string manipulation more next week, but here's a sneak peek\n",
    "print(x_pos * c) # 5 * 'c'\n",
    "print(s + c) # 'hello friends' + 'c'"
   ]
  },
  {
   "cell_type": "code",
   "execution_count": null,
   "metadata": {},
   "outputs": [],
   "source": [
    "# Sometimes python runs into errors when it can't combine things. For example:\n",
    "print(l + s) #[1,2,3,4]"
   ]
  },
  {
   "cell_type": "markdown",
   "metadata": {},
   "source": [
    "**Common operations** you'll find are below."
   ]
  },
  {
   "cell_type": "code",
   "execution_count": null,
   "metadata": {},
   "outputs": [],
   "source": [
    "# You can convert between types. This is useful.\n",
    "print('an integer', x, 'vs a float of the same integer', float(x))\n",
    "print('These produce the same value', 1/3, 1/float(3), 'but only in Python 3')\n",
    "print()\n",
    "print('We can also convert strings to lists')\n",
    "print(s)\n",
    "print(list(s))"
   ]
  },
  {
   "cell_type": "code",
   "execution_count": null,
   "metadata": {},
   "outputs": [],
   "source": [
    "# The modulo operation finds the remainder.\n",
    "print('20 % 5 is', 20 % 5)\n",
    "print('22 % 5 is', 22 % 5)"
   ]
  },
  {
   "cell_type": "code",
   "execution_count": null,
   "metadata": {},
   "outputs": [],
   "source": [
    "# You can update and assign variables\n",
    "x = 10\n",
    "print('1.', x)\n",
    "x += 5\n",
    "print('2.', x)\n",
    "x = x * -1\n",
    "print('3.', x)\n",
    "x -= 4\n",
    "print('4.', x)\n",
    "x *= -1\n",
    "x /= 3\n",
    "print('5.', x)"
   ]
  },
  {
   "cell_type": "code",
   "execution_count": null,
   "metadata": {},
   "outputs": [],
   "source": [
    "# Booleans are fun\n",
    "b1 = True\n",
    "b2 = False\n",
    "print('not b1: ', not b1)\n",
    "print('b1 and b2: only true if both are true:', b1 and b2)\n",
    "print('b1 and not b2:', b1 and (not b2))\n",
    "print('b1 or b2: true if either b1 or b2 are true:', b1 or b2)\n",
    "print('Use parentheses if you care about order of operations:', not b2 or b1, not (b2 or b1))"
   ]
  },
  {
   "cell_type": "markdown",
   "metadata": {},
   "source": [
    "### Functions\n",
    "\n",
    "The main value of a function is reusability. It can also take in input and produce some output.\n",
    "\n",
    "Note that in the below code, we have a few functions that have varying amounts of input and output. Also note that when we run the first cell, nothing actually gets output. That's because we're simply defining the functions; the Python kernel is processing the information that the function corresponds to. In the next few cells, when we run the functions, the Python kernel looks up the names of functions that were previously defined and compiled in this first cell."
   ]
  },
  {
   "cell_type": "code",
   "execution_count": null,
   "metadata": {},
   "outputs": [],
   "source": [
    "def no_parameters_just_do_it():\n",
    "    print(\"Your life is pretty average, don\\'t worry\")\n",
    "    \n",
    "def single_parameter_no_output(x):\n",
    "    print('The value of our input is', x) # note either single/double quotes are ok\n",
    "    \n",
    "def single_input_single_output(whatever_name_you_want):\n",
    "    print('This function multiplies the input by 2', whatever_name_you_want)\n",
    "    return 2 * whatever_name_you_want\n",
    "\n",
    "# this function will work with lists and strings because it's Python\n",
    "def length_times_four(s):\n",
    "    s_len = len(s) # defines a new variable\n",
    "    return s_len*4 # returns something to the caller\n"
   ]
  },
  {
   "cell_type": "code",
   "execution_count": null,
   "metadata": {},
   "outputs": [],
   "source": [
    "no_parameters_just_do_it()"
   ]
  },
  {
   "cell_type": "code",
   "execution_count": null,
   "metadata": {},
   "outputs": [],
   "source": [
    "single_parameter_no_output(3)\n",
    "single_parameter_no_output('asdf')\n",
    "single_parameter_no_output([1,2,3,4])\n",
    "x = 5\n",
    "single_parameter_no_output(x)"
   ]
  },
  {
   "cell_type": "markdown",
   "metadata": {},
   "source": [
    "**Note**: When you try to save a non-existent output to a variable, you get the ```None``` special keyword:"
   ]
  },
  {
   "cell_type": "code",
   "execution_count": null,
   "metadata": {},
   "outputs": [],
   "source": [
    "y = no_parameters_just_do_it()\n",
    "print(\"What is my return value?\", y)"
   ]
  },
  {
   "cell_type": "code",
   "execution_count": null,
   "metadata": {
    "scrolled": true
   },
   "outputs": [],
   "source": [
    "out = single_input_single_output(123) # output not printed\n",
    "print(out) # now it prints\n",
    "out = single_input_single_output(x) # output not printed\n",
    "print(out) # now it prints\n",
    "single_input_single_output([2,3,4]) # output printed because it's the last line"
   ]
  },
  {
   "cell_type": "code",
   "execution_count": null,
   "metadata": {},
   "outputs": [],
   "source": [
    "length_times_four('This will not be printed because we didn\\'t pass the return value to print')\n",
    "\n",
    "print(length_times_four('asdf')) # this will be printed.\n",
    "y = length_times_four([2,3,4])\n",
    "print(y)"
   ]
  },
  {
   "cell_type": "markdown",
   "metadata": {},
   "source": [
    "#### Programming Exercises\n",
    "\n",
    "In the cells below: \n",
    "\n",
    "1. Fill in the ```negation``` function, which returns the negative of its input.\n",
    "\n",
    "1. Write a ```square``` function that returns the square of its input.\n"
   ]
  },
  {
   "cell_type": "code",
   "execution_count": null,
   "metadata": {},
   "outputs": [],
   "source": [
    "def negation(input_value):\n",
    "    #return 0 # delete this line and write your code\n",
    "    return input_value * -1\n",
    "\n",
    "# Test your function\n",
    "print(negation(4))\n",
    "print(negation(-2))"
   ]
  },
  {
   "cell_type": "code",
   "execution_count": null,
   "metadata": {},
   "outputs": [],
   "source": [
    "# Write your function\n",
    "def square(x):\n",
    "    return x * x\n",
    "\n",
    "# Test your function\n",
    "square(3)"
   ]
  },
  {
   "cell_type": "markdown",
   "metadata": {},
   "source": [
    "### Control flow\n",
    "\n",
    "We talked about booleans earlier (which can either be ```True``` or ```False```), right? Control flow is all about booleans.\n",
    "\n",
    "There are if-else statements that are executed only once."
   ]
  },
  {
   "cell_type": "code",
   "execution_count": null,
   "metadata": {},
   "outputs": [],
   "source": [
    "x = 3\n",
    "if x != 3:\n",
    "    print('x is 3')"
   ]
  },
  {
   "cell_type": "code",
   "execution_count": null,
   "metadata": {},
   "outputs": [],
   "source": [
    "x = 3\n",
    "if x < 0:\n",
    "    print('x is negative')\n",
    "else:\n",
    "    print('x is non-negative')\n",
    "    print('x is', x)"
   ]
  },
  {
   "cell_type": "code",
   "execution_count": null,
   "metadata": {},
   "outputs": [],
   "source": [
    "x = 0\n",
    "y = 2\n",
    "if x == 0:\n",
    "    if y == 3:\n",
    "        print('x is zero and this is y', y)\n",
    "    else:\n",
    "        print('no')\n",
    "elif x == 0:\n",
    "    print('x is negative')\n",
    "else:\n",
    "    print('x is non-negative')"
   ]
  },
  {
   "cell_type": "code",
   "execution_count": null,
   "metadata": {},
   "outputs": [],
   "source": [
    "items = [3, 4, 5, 6]\n",
    "items[0]"
   ]
  },
  {
   "cell_type": "markdown",
   "metadata": {},
   "source": [
    "And there are for/while loops that will execute the same code multiple times until a condition is satisfied."
   ]
  },
  {
   "cell_type": "code",
   "execution_count": null,
   "metadata": {},
   "outputs": [],
   "source": [
    "for i in range(3): # range(1, 5) = [1,2,3,4]\n",
    "    print(i)"
   ]
  },
  {
   "cell_type": "code",
   "execution_count": null,
   "metadata": {},
   "outputs": [],
   "source": [
    "items = [2, 3, 4]\n",
    "for item in items:\n",
    "    print(item)"
   ]
  },
  {
   "cell_type": "markdown",
   "metadata": {},
   "source": [
    "There are two ways of doing the same thing:"
   ]
  },
  {
   "cell_type": "code",
   "execution_count": null,
   "metadata": {},
   "outputs": [],
   "source": [
    "# option 1\n",
    "for i in range(len(items)):\n",
    "    print('index', i, ':', items[i])"
   ]
  },
  {
   "cell_type": "code",
   "execution_count": null,
   "metadata": {},
   "outputs": [],
   "source": [
    "# option 2\n",
    "for i, item in enumerate(items):\n",
    "    print('index', i, ':', item)"
   ]
  },
  {
   "cell_type": "code",
   "execution_count": null,
   "metadata": {},
   "outputs": [],
   "source": [
    "def countdown(n):\n",
    "    while(n > 0):\n",
    "        print(n)\n",
    "        n -=1 # decrement by 1\n",
    "    print('Blast off!')\n",
    "    print('now n is', n)\n",
    "\n",
    "countdown(3)"
   ]
  },
  {
   "cell_type": "markdown",
   "metadata": {},
   "source": [
    "```break``` is a keyword that can only be used in loops. It allows early exit from the loop.\n",
    "\n",
    "If you want to break out of a function early, use ```return``` instead."
   ]
  },
  {
   "cell_type": "code",
   "execution_count": null,
   "metadata": {},
   "outputs": [],
   "source": [
    "def avoid_zero(items):\n",
    "    saw_zero = False\n",
    "    print('Navigating', items)\n",
    "    for item in items:\n",
    "        if item == 0:\n",
    "            saw_zero = True\n",
    "            break\n",
    "        # else it doesn't do anything and continues to the next item\n",
    "    if saw_zero:\n",
    "        print('Well that was scary')\n",
    "    else:\n",
    "        print('All good in the hood')\n",
    "    print() # newline\n",
    "        \n",
    "avoid_zero([3, 4, 0, 2])\n",
    "avoid_zero([])\n",
    "avoid_zero([2,3,4])"
   ]
  },
  {
   "cell_type": "code",
   "execution_count": null,
   "metadata": {},
   "outputs": [],
   "source": [
    "'''\n",
    "Returns the first index of a pair of consecutive integers.\n",
    "'''\n",
    "def find_consecutive_pair(items):\n",
    "    for i, item in enumerate(items):\n",
    "        if i < len(items) - 1: # not the last item, which can never satisfy our condition\n",
    "            if items[i+1] == item + 1 or items[i+1] == item - 1:\n",
    "                return i\n",
    "    return -1\n",
    "\n",
    "print(find_consecutive_pair([3, 4, 1, 0]))\n",
    "print(find_consecutive_pair([123, 6, 5, 4]))\n",
    "print(find_consecutive_pair([2, 5, 3]))\n",
    "      "
   ]
  },
  {
   "cell_type": "markdown",
   "metadata": {},
   "source": [
    "### Exercises\n",
    "\n",
    "1. Write an ```is_odd``` function that takes input n and returns ```True``` only if n is an odd number.\n",
    "1. Write a ```factorial``` function that takes input n and returns n!.\n",
    "1. Write a ```multiple_of_3``` function that takes a list as input and returns the **index** of the first element in the list that is a multiple of 3. Hint: use the modulo function ```%```."
   ]
  },
  {
   "cell_type": "code",
   "execution_count": null,
   "metadata": {},
   "outputs": [],
   "source": [
    "# Write your is_odd function\n",
    "def is_odd(n):\n",
    "    return bool(n % 2)\n",
    "# Test your function\n",
    "print(is_odd(2))\n",
    "print(is_odd(-1))"
   ]
  },
  {
   "cell_type": "code",
   "execution_count": null,
   "metadata": {},
   "outputs": [],
   "source": [
    "# Write your factorial function\n",
    "def factorial(n):\n",
    "    prod = 1\n",
    "    for i in range(1,n+1):\n",
    "        prod *= i\n",
    "    return prod\n",
    "# Test your function\n",
    "print(factorial(3))\n",
    "print(factorial(-1))"
   ]
  },
  {
   "cell_type": "code",
   "execution_count": null,
   "metadata": {},
   "outputs": [],
   "source": [
    "# Write your multiple_of_3 function\n",
    "def multiple_of_3(items):\n",
    "    for i, item in enumerate(items):\n",
    "        if item % 3 == 0:\n",
    "            return i\n",
    "    return -1"
   ]
  },
  {
   "cell_type": "code",
   "execution_count": null,
   "metadata": {},
   "outputs": [],
   "source": [
    "# Test your function (test cases already written)\n",
    "list_1 = [4, 5, 6]\n",
    "out_1 = multiple_of_3(list_1)\n",
    "print('List {}: output index {} (value {}), expected {} (value {})'.format(list_1, out_1, list_1[out_1], 2, 6))\n",
    "\n",
    "list_2 = []\n",
    "print('List {}: output index {}, expected -1'.format(list_2, multiple_of_3(list_2)))\n",
    "\n",
    "list_3 = [3, 6, 9]\n",
    "out_3 = multiple_of_3(list_3)\n",
    "print('List {}: output index {} (value {}), expected {} (value {})'.format(list_3, out_3, list_3[out_3], 0, 3))\n",
    "\n",
    "list_4 = [5, 0, 7]\n",
    "out_4 = multiple_of_3(list_4)\n",
    "print('List {}: output index {} (value {}), expected {} (value {})'.format(list_4, out_4, list_4[out_4], 1, 0))\n",
    "\n",
    "list_5 = [-6, 5, 3]\n",
    "out_5 = multiple_of_3(list_5)\n",
    "print('List {}: output index {} (value {}), expected {} (value {})'.format(list_5, out_5, list_5[out_5], 0, -6))\n"
   ]
  },
  {
   "cell_type": "markdown",
   "metadata": {},
   "source": [
    "### Scope\n",
    "\n",
    "Python is a scoped language. This means that variables exist in environments.\n",
    "\n",
    "So if you define a variable within a function, that variable will not be available outside the function. See this in Example 1:"
   ]
  },
  {
   "cell_type": "code",
   "execution_count": null,
   "metadata": {},
   "outputs": [],
   "source": [
    "# Example 1\n",
    "\n",
    "def scoped(w): # w defined here\n",
    "    x = w\n",
    "    x = x + 3 # doesn't change the value of w\n",
    "    x *= 2 # same thing as x = x * 2\n",
    "    return x\n",
    "\n",
    "x = 4\n",
    "print('x before the function', x)\n",
    "z = scoped(x)\n",
    "print(\"function's output is\", z)\n",
    "print('x after the function is still the current scope\\'s x', x)\n",
    "print(\"w is not accessible outside of the function\")\n",
    "print(w)"
   ]
  },
  {
   "cell_type": "markdown",
   "metadata": {},
   "source": [
    "However, if you define a variable within a control structure, it is still considered in the same environment as what is outside of the control structure. So keeping these things separate is often a huge headache for programmers. See this in Example 2:"
   ]
  },
  {
   "cell_type": "code",
   "execution_count": null,
   "metadata": {},
   "outputs": [],
   "source": [
    "# Example 2\n",
    "for i in range(6):\n",
    "    j = 0\n",
    "    pass # a line that doesn't do anything\n",
    "\n",
    "print(i) # the most recent value of i\n",
    "print(j) # defined inside the loop"
   ]
  },
  {
   "cell_type": "markdown",
   "metadata": {},
   "source": [
    "## 3. Lists"
   ]
  },
  {
   "cell_type": "markdown",
   "metadata": {},
   "source": [
    "### Lists and state\n",
    "\n",
    "You may have noticed at this point that changes to integer variables within functions don't actually change what's stored in that variable."
   ]
  },
  {
   "cell_type": "code",
   "execution_count": null,
   "metadata": {},
   "outputs": [],
   "source": [
    "def unchanged_var(x):\n",
    "    x = 3\n",
    "x = 11\n",
    "print('value of x before', x)\n",
    "unchanged_var(x)\n",
    "print('value of x after', x)"
   ]
  },
  {
   "cell_type": "markdown",
   "metadata": {},
   "source": [
    "But lists store state and allow for some changes."
   ]
  },
  {
   "cell_type": "code",
   "execution_count": null,
   "metadata": {},
   "outputs": [],
   "source": [
    "arr = [2,3,4,5]\n",
    "print('arr', arr)\n",
    "arr[0] = 123010120\n",
    "print('arr', arr)\n",
    "arr[-2] = arr[-2]*-1 # negative indexing, aka the second element from the end\n",
    "print('arr', arr)\n",
    "print(arr[-1])"
   ]
  },
  {
   "cell_type": "markdown",
   "metadata": {},
   "source": [
    "However note that lists don't get copied when you change the values:"
   ]
  },
  {
   "cell_type": "code",
   "execution_count": null,
   "metadata": {},
   "outputs": [],
   "source": [
    "# Integers, where the values get copied.\n",
    "a = 3\n",
    "b = a\n",
    "b += 4\n",
    "print('a:', a, ', b:', b)"
   ]
  },
  {
   "cell_type": "code",
   "execution_count": null,
   "metadata": {},
   "outputs": [],
   "source": [
    "# Lists, where the values don't get copied.\n",
    "arr1 = [2,3,4]\n",
    "arr2 = arr1\n",
    "arr1[-1] = 47\n",
    "print('arr1:', arr1, 'arr2:', arr2)"
   ]
  },
  {
   "cell_type": "markdown",
   "metadata": {},
   "source": [
    "To modify a list, you can use append to add one value at a time, or the addition operator to add two lists to each other."
   ]
  },
  {
   "cell_type": "code",
   "execution_count": null,
   "metadata": {},
   "outputs": [],
   "source": [
    "arr1 = [2,3,4]\n",
    "arr2 = [6,7,8]\n",
    "arr1.append(5)\n",
    "print('arr1 with 5', arr1)\n",
    "arr3 = arr1 # [2,3,4]\n",
    "print('arr3 before', arr3)\n",
    "arr1 += arr2\n",
    "print('two arrs', arr1)\n",
    "print('arr3 now', arr3)\n",
    "arr1 += 3 # will throw an error"
   ]
  },
  {
   "cell_type": "code",
   "execution_count": null,
   "metadata": {},
   "outputs": [],
   "source": [
    "print('arr1 is initially length', len(arr1))\n",
    "print('arr1\\'s last element', arr1.pop()) # removes the last element from arr\n",
    "print('arr1 with one element removed', arr1)\n",
    "print('arr1 is now length', len(arr1))"
   ]
  },
  {
   "cell_type": "markdown",
   "metadata": {},
   "source": [
    "### List indexing\n",
    "\n",
    "Here are some cool things that you can do with lists."
   ]
  },
  {
   "cell_type": "code",
   "execution_count": null,
   "metadata": {},
   "outputs": [],
   "source": [
    "nums = [1, 2, 3, 4, 5, 6, 7, 8, 9, 10]\n",
    "print('List length:', len(nums))\n",
    "print('First element:', nums[0])\n",
    "print('Last element:', nums[-1])"
   ]
  },
  {
   "cell_type": "code",
   "execution_count": null,
   "metadata": {},
   "outputs": [],
   "source": [
    "print(nums[3:8])\n",
    "print(nums[7:-1]) # all but the last element\n",
    "print(nums[7:]) # from 7th element to the end\n",
    "print(nums[:7])"
   ]
  },
  {
   "cell_type": "code",
   "execution_count": null,
   "metadata": {},
   "outputs": [],
   "source": [
    "print(nums[::2])\n",
    "print(nums[1::2])"
   ]
  },
  {
   "cell_type": "markdown",
   "metadata": {},
   "source": [
    "### List comprehension\n",
    "You can evaluate expressions within lists."
   ]
  },
  {
   "cell_type": "code",
   "execution_count": null,
   "metadata": {},
   "outputs": [],
   "source": [
    "nums_to_6 = [i+1 for i in range(6)]\n",
    "nums_to_6 = []\n",
    "# equivalent to:\n",
    "for i in range(6):\n",
    "    nums_to_6.append(i+1)"
   ]
  },
  {
   "cell_type": "markdown",
   "metadata": {},
   "source": [
    "**Mapping**: performing a function for every element in a list"
   ]
  },
  {
   "cell_type": "code",
   "execution_count": null,
   "metadata": {},
   "outputs": [],
   "source": [
    "items = [5, 4, -2, 0, -34]\n",
    "[-1 * x for x in items]"
   ]
  },
  {
   "cell_type": "markdown",
   "metadata": {},
   "source": [
    "**Filtering**: only returning elements of a list that satisfy a condition"
   ]
  },
  {
   "cell_type": "code",
   "execution_count": null,
   "metadata": {},
   "outputs": [],
   "source": [
    "items = [5, 4, -2, 0, -34]\n",
    "[x for x in items if x < 0]"
   ]
  },
  {
   "cell_type": "markdown",
   "metadata": {},
   "source": [
    "**Combining mapping and filtering**"
   ]
  },
  {
   "cell_type": "code",
   "execution_count": null,
   "metadata": {},
   "outputs": [],
   "source": [
    "# List comprehension\n",
    "items = [5, 4, -2, 0, -34]\n",
    "[-1 * x for x in items if x < 0]"
   ]
  },
  {
   "cell_type": "code",
   "execution_count": null,
   "metadata": {},
   "outputs": [],
   "source": [
    "# single line conditional expression\n",
    "# so this is actually just an extension of map\n",
    "# and has nothing to do with filtering\n",
    "def absolute_value_list(items):\n",
    "    return [-1 * x if x < 0 else x for x in items]\n",
    "print(absolute_value_list(items))\n",
    "\n",
    "def absolute_value_for(items):\n",
    "    abs_items = []\n",
    "    for x in items:\n",
    "        if x < 0:\n",
    "            abs_items.append(-1 * x)\n",
    "        else:\n",
    "            abs_items.append(x)\n",
    "    return abs_items\n",
    "\n",
    "def absolute_single_line(item):\n",
    "    return -1 * item if item < 0 else item\n",
    "print([absolute_single_line(x) for x in items])"
   ]
  },
  {
   "cell_type": "markdown",
   "metadata": {},
   "source": [
    "## 4. Recursion\n",
    "\n",
    "A recursive function has two parts:\n",
    "1. Base case: The terminal case. If the argument reaches this value, then we exit by returning a predetermined value.\n",
    "2. Recursive case: If the argument is not a base case, reduce the argument and call the recursive function with the reduced argument."
   ]
  },
  {
   "cell_type": "code",
   "execution_count": null,
   "metadata": {},
   "outputs": [],
   "source": [
    "def last_element_easy(items):\n",
    "    if len(items):\n",
    "        return items[-1] # smart indexing\n",
    "    return None # note that this will only get called if len(items) == 0, i.e., no items\n",
    "\n",
    "last_element_easy([3,4,5,1,-3])"
   ]
  },
  {
   "cell_type": "code",
   "execution_count": null,
   "metadata": {},
   "outputs": [],
   "source": [
    "def last_element_recursive(items):\n",
    "    print('current list', items)\n",
    "    if len(items) == 0:   # base case 1\n",
    "        return None # empty list\n",
    "    elif len(items) == 1: # base case 2\n",
    "        return items[0] # the only element in the list\n",
    "    else:                 # recursive case\n",
    "        return last_element_recursive(items[1:])\n",
    "    \n",
    "print('result', last_element_recursive([3,4,5,1,-1]))"
   ]
  },
  {
   "cell_type": "markdown",
   "metadata": {},
   "source": [
    "#### Programming exercises\n",
    "\n",
    "(Exercise 1) Implement ```int_log10(n)```, which returns int (log base 10) of the input value ```n```. For all numbers <= 0, return None.\n",
    "\n",
    "Recall you can guarantee integer division by doing one of the following:\n",
    "* ```int(5.0) // 2 = 2```\n",
    "* ```int(5.0/2) = 2```\n",
    "\n",
    "Example test cases:\n",
    "```\n",
    "log(10) = 1\n",
    "log(1) = 0\n",
    "log(0) = None # you should print('We only take in values greater than 1')\n",
    "log(-1) = None\n",
    "log(0.99) = 0\n",
    "log(10.5) = 1\n",
    "log(150) = 2\n",
    "log(10000) = 4\n",
    "```\n"
   ]
  },
  {
   "cell_type": "code",
   "execution_count": null,
   "metadata": {},
   "outputs": [],
   "source": [
    "def int_log10(n):\n",
    "    # implement your code here\n",
    "    return None"
   ]
  },
  {
   "cell_type": "markdown",
   "metadata": {},
   "source": [
    "(Exercise 2) In the below cells, implement the midpoint function iteratively and recursively.\n",
    "\n",
    "Both functions takes in two arguments, ```low``` and ```high```, corresponding to the **integer** endpoints and returns the midpoint (a single value). If ```low > high```, you must return the correct midpoint regardless (i.e., ```midpoint(high, low)```. This case is shown for you in the first cell.\n",
    "\n",
    "Example test cases:\n",
    "```\n",
    "midpoint(0, 2) = 1\n",
    "midpoint(-1, 2) = 0.5\n",
    "midpoint(1, 7) = 4\n",
    "midpoint(2, 0) = 1\n",
    "```"
   ]
  },
  {
   "cell_type": "code",
   "execution_count": null,
   "metadata": {},
   "outputs": [],
   "source": [
    "def midpoint_iter(low, high):\n",
    "    if low > high:\n",
    "        # switch and call the regular way\n",
    "        return midpoint_iter(high, low)\n",
    "    \n",
    "    # your code below here, where it is now guaranteed that low <= high\n",
    "    return (low+high)/2"
   ]
  },
  {
   "cell_type": "code",
   "execution_count": null,
   "metadata": {},
   "outputs": [],
   "source": [
    "print(midpoint_iter(0,5))\n",
    "print(midpoint_iter(1,4))\n",
    "print(midpoint_iter(2,3))\n",
    "print()\n",
    "print(midpoint_iter(0,4))\n",
    "print(midpoint_iter(1,3))\n",
    "print(midpoint_iter(2,2))"
   ]
  },
  {
   "cell_type": "code",
   "execution_count": null,
   "metadata": {},
   "outputs": [],
   "source": [
    "def midpoint_recursive(low, high):\n",
    "    if low > high:\n",
    "        # switch and call the regular way\n",
    "        return midpoint_iter(high, low)\n",
    "    if high - low == 0:\n",
    "        return low\n",
    "    if high - low == 1:\n",
    "        return low + 0.5\n",
    "    return midpoint_recursive(low+1,high-1)\n",
    "\n",
    "print(midpoint_recursive(0, 2))\n",
    "print(midpoint_recursive(-1, 2))\n",
    "print(midpoint_recursive(1, 7))\n",
    "print(midpoint_recursive(2, 0))"
   ]
  },
  {
   "cell_type": "markdown",
   "metadata": {},
   "source": [
    "## 5. Common packages\n",
    "\n",
    "There are some python libraries (aka packages) that we import to be able to do all of these things. The most important one is ```os```, which allows us to manipulate and work with the local directory system on our machine.\n",
    "\n",
    "You usually have to run the below cell once for all notebooks. For future notebooks (and as is the standard), this cell will be the first cell you run."
   ]
  },
  {
   "cell_type": "code",
   "execution_count": null,
   "metadata": {},
   "outputs": [],
   "source": [
    "import os\n",
    "import time # because why not"
   ]
  },
  {
   "cell_type": "code",
   "execution_count": null,
   "metadata": {},
   "outputs": [],
   "source": [
    "# returns the current directory that you're working in\n",
    "os.getcwd()"
   ]
  },
  {
   "cell_type": "code",
   "execution_count": null,
   "metadata": {},
   "outputs": [],
   "source": [
    "# lists all files in the directory\n",
    "curr_dir = os.getcwd()\n",
    "os.listdir(curr_dir)"
   ]
  },
  {
   "cell_type": "code",
   "execution_count": null,
   "metadata": {},
   "outputs": [],
   "source": [
    "# lists the filenames\n",
    "for fname in os.listdir(curr_dir):\n",
    "    print(fname)"
   ]
  },
  {
   "cell_type": "code",
   "execution_count": null,
   "metadata": {},
   "outputs": [],
   "source": [
    "# lists the filenames with prefixes\n",
    "for fname in os.listdir(curr_dir):\n",
    "    print(os.path.join(curr_dir, fname))"
   ]
  },
  {
   "cell_type": "code",
   "execution_count": null,
   "metadata": {},
   "outputs": [],
   "source": [
    "# a function that returns True if the path is a directory\n",
    "print(os.path.isdir(os.path.join(os.getcwd(), 'example_dir')))\n",
    "print(os.listdir('example_dir'))"
   ]
  },
  {
   "cell_type": "code",
   "execution_count": null,
   "metadata": {},
   "outputs": [],
   "source": [
    "# note that if you don't provide the full path name, navigatable from the current directory.\n",
    "# fix this to print the dir1 that is inside example_dir.\n",
    "print(os.path.isdir('dir1')) # will not work"
   ]
  },
  {
   "cell_type": "code",
   "execution_count": null,
   "metadata": {},
   "outputs": [],
   "source": [
    "# change into the desired directory\n",
    "print('started in\\t', os.getcwd()) # the tab is forward slash + t\n",
    "os.chdir('example_dir')\n",
    "print('now in\\t\\t', os.getcwd())\n",
    "os.chdir('..') # shorthand for \"one level up\"\n",
    "print('end in\\t\\t', os.getcwd())"
   ]
  },
  {
   "cell_type": "markdown",
   "metadata": {},
   "source": [
    "Let's try out the ```time``` package in Python just to see what it does.\n",
    "\n",
    "Helpful Link: [Documentation for ```time``` in Python 3](https://docs.python.org/3/library/time.html)"
   ]
  },
  {
   "cell_type": "code",
   "execution_count": null,
   "metadata": {},
   "outputs": [],
   "source": [
    "time.localtime()"
   ]
  },
  {
   "cell_type": "code",
   "execution_count": null,
   "metadata": {},
   "outputs": [],
   "source": [
    "# format it nicely\n",
    "time.strftime(\"%a, %d %b %Y %H:%M:%S +0000\", time.localtime())"
   ]
  },
  {
   "cell_type": "code",
   "execution_count": null,
   "metadata": {},
   "outputs": [],
   "source": [
    "# time (in seconds) since the start of the epoch, defined as January 1, 1970, 00:00:00 (UTC)\n",
    "time.time()"
   ]
  },
  {
   "cell_type": "code",
   "execution_count": null,
   "metadata": {},
   "outputs": [],
   "source": [
    "# time in seconds converted to local time\n",
    "time.strftime(\"%a, %d %b %Y %H:%M:%S +0000\", time.localtime(time.time()))"
   ]
  },
  {
   "cell_type": "markdown",
   "metadata": {},
   "source": [
    "## 6. Python scripts\n",
    "\n",
    "We don't have to always import external libraries. In fact we can write our own python code (in a non-notebook) and import those functions to use.\n",
    "\n",
    "We import in the same way that we would our common packages, except now we just have to double check that the file we're looking at (here, ```hello_script.py```) is in the same folder as we are working in."
   ]
  },
  {
   "cell_type": "code",
   "execution_count": null,
   "metadata": {},
   "outputs": [],
   "source": [
    "# these lines have to be here\n",
    "# run this exactly once\n",
    "# for future notebooks, this will be at the top of the page\n",
    "%load_ext autoreload\n",
    "%autoreload 2"
   ]
  },
  {
   "cell_type": "code",
   "execution_count": null,
   "metadata": {},
   "outputs": [],
   "source": [
    "import hello_script\n",
    "hello_script.general_hello_world()\n",
    "hello_script.hello_list"
   ]
  },
  {
   "cell_type": "code",
   "execution_count": null,
   "metadata": {},
   "outputs": [],
   "source": [
    "from hello_script import *\n",
    "# Note if we import this way then we don't need the util. prefix\n",
    "general_hello_world()\n",
    "main()"
   ]
  },
  {
   "cell_type": "markdown",
   "metadata": {},
   "source": [
    "Note that importing and calling/accessing these functions is different from running a Python script, which needs to be done from the Python terminal (through Anaconda).\n",
    "\n",
    "Run the Python script in the terminal by doing the following:\n",
    "1. Navigate to the directory that contains this fork\n",
    "1. ```python hello_script.py```"
   ]
  },
  {
   "cell_type": "markdown",
   "metadata": {},
   "source": [
    "## 7. Homework\n",
    "* Problem 1: ```problem_01.ipynb```\n",
    "* Problem 2: ```problem_02.py```\n",
    "* Problem 3: ```problem_03.py```\n",
    "* Problem 4: ```problem_04.py```"
   ]
  }
 ],
 "metadata": {
  "kernelspec": {
   "display_name": "Python 3",
   "language": "python",
   "name": "python3"
  },
  "language_info": {
   "codemirror_mode": {
    "name": "ipython",
    "version": 3
   },
   "file_extension": ".py",
   "mimetype": "text/x-python",
   "name": "python",
   "nbconvert_exporter": "python",
   "pygments_lexer": "ipython3",
   "version": "3.6.5"
  }
 },
 "nbformat": 4,
 "nbformat_minor": 2
}

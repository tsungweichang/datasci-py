{
 "cells": [
  {
   "cell_type": "code",
   "execution_count": 5,
   "metadata": {},
   "outputs": [
    {
     "name": "stdout",
     "output_type": "stream",
     "text": [
      "The autoreload extension is already loaded. To reload it, use:\n",
      "  %reload_ext autoreload\n"
     ]
    }
   ],
   "source": [
    "# the following code guarantees you'll properly reload any modules that you custom-defined in your environment.\n",
    "# you don't need to understand it.\n",
    "# just run this once at the beginning.\n",
    "# for auto-reloading extenrnal modules\n",
    "# see http://stackoverflow.com/questions/1907993/autoreload-of-modules-in-ipython\n",
    "%load_ext autoreload\n",
    "%autoreload 2"
   ]
  },
  {
   "cell_type": "code",
   "execution_count": 16,
   "metadata": {},
   "outputs": [],
   "source": [
    "# imports the functions from util.py\n",
    "from util import *\n",
    "\n",
    "# **note** if you ever modify the util.py file, you will need to rerun this cell\n",
    "# (aka you gotta for Exercise 2)"
   ]
  },
  {
   "cell_type": "markdown",
   "metadata": {},
   "source": [
    "# Importing and basic python"
   ]
  },
  {
   "cell_type": "markdown",
   "metadata": {},
   "source": [
    "## Exercise 1"
   ]
  },
  {
   "cell_type": "code",
   "execution_count": 12,
   "metadata": {},
   "outputs": [
    {
     "name": "stdout",
     "output_type": "stream",
     "text": [
      "5\n"
     ]
    }
   ],
   "source": [
    "# Call the max_list_positive function on the below list.\n",
    "# The max_list_positive function is located in util.py.\n",
    "target_list = [4, 3, 5, 1]\n",
    "# your code below this line\n",
    "from util import max_list_positive\n",
    "print(max_list_positive(target_list))"
   ]
  },
  {
   "cell_type": "markdown",
   "metadata": {},
   "source": [
    "## Exercise 2"
   ]
  },
  {
   "cell_type": "code",
   "execution_count": 21,
   "metadata": {},
   "outputs": [
    {
     "name": "stdout",
     "output_type": "stream",
     "text": [
      "5\n"
     ]
    }
   ],
   "source": [
    "# Fill out the simple_max_list function in util.py.\n",
    "# Rerun the first cell (the one that imports util)\n",
    "# Run the simple_max_list function on the target_list in the previous cell (you don't need to rerun the previous cell)\n",
    "\n",
    "# your code below this line\n",
    "from util import simple_max_list\n",
    "print(simple_max_list(target_list))"
   ]
  },
  {
   "cell_type": "markdown",
   "metadata": {},
   "source": [
    "## Exercise 3"
   ]
  },
  {
   "cell_type": "code",
   "execution_count": 44,
   "metadata": {},
   "outputs": [
    {
     "name": "stdout",
     "output_type": "stream",
     "text": [
      "1\n",
      "1\n",
      "[4, 3, 5, 1]\n",
      "[8, 6, 10, 2]\n",
      "[1, 3, 4, 5]\n",
      "(3, 4)\n",
      "2.6\n"
     ]
    }
   ],
   "source": [
    "# Fill in the following functions that returns every other element,\n",
    "# starting from the first element.\n",
    "def every_other_element_for(items):\n",
    "    # use a for loop and a variable that stores a list\n",
    "    for item in items:\n",
    "        \n",
    "    return [] # delete this line\n",
    "\n",
    "# minimum\n",
    "# using python built-in\n",
    "print(min(target_list))\n",
    "\n",
    "# using list traversal\n",
    "def manual_min(items):\n",
    "    min_item = items[0]\n",
    "    for item in items:\n",
    "        if item < min_item:\n",
    "            min_item = item\n",
    "    return min_item\n",
    "\n",
    "print(manual_min(target_list))\n",
    "\n",
    "# go through a list backwards\n",
    "target_list.reverse()\n",
    "print(target_list)\n",
    "\n",
    "# multiply by 2 using list comprehension\n",
    "resulting_list = [x*2 for x in target_list]\n",
    "print(resulting_list)\n",
    "  \n",
    "# sorts (can use sorted())\n",
    "print(sorted(target_list))\n",
    "\n",
    "# midpoint\n",
    "def midpoint(items):\n",
    "    items = sorted(target_list)\n",
    "    middle = len(items)/2\n",
    "    if middle%2 == 0:\n",
    "        return (items[int(middle)-1], items[int(middle)])\n",
    "    else:\n",
    "        return items[int(middle)-0.5]\n",
    "print(midpoint(target_list))\n",
    "    \n",
    "\n",
    "\n",
    "# mean \n",
    "def mean(items):\n",
    "    return (sum(items)/max(items))\n",
    "print(mean(target_list))\n",
    "\n",
    "\n"
   ]
  },
  {
   "cell_type": "markdown",
   "metadata": {},
   "source": [
    "## Exercise 5"
   ]
  },
  {
   "cell_type": "code",
   "execution_count": 46,
   "metadata": {},
   "outputs": [
    {
     "name": "stdout",
     "output_type": "stream",
     "text": [
      "3.0\n"
     ]
    }
   ],
   "source": [
    "# write a function that returns the mean of this list.\n",
    "def mean_singleline(items):\n",
    "    # solve this in one line.\n",
    "    # hint: use sum(<insert list>) and len(<insert list>).\n",
    "    return sum(items)/len(items)\n",
    "\n",
    "item_list1 = [1,2,3,4,5]\n",
    "print(mean_singleline(item_list1))"
   ]
  },
  {
   "cell_type": "markdown",
   "metadata": {},
   "source": [
    "## Exercise 6"
   ]
  },
  {
   "cell_type": "code",
   "execution_count": 61,
   "metadata": {},
   "outputs": [
    {
     "name": "stdout",
     "output_type": "stream",
     "text": [
      "[0.06666666666666667, 0.14218009478672985, 0.24572345436194715, 0.4230758150496265, 0.8506806932135358]\n"
     ]
    }
   ],
   "source": [
    "# write a function that normalizes a list by the sum of the absolute values of\n",
    "# all elements in the list.\n",
    "def normalize_for(items):\n",
    "    # use a for loop\n",
    "    # return a new list\n",
    "    for index,item in enumerate(items):\n",
    "        items[index]=abs(items[index])\n",
    "        items_absval = items\n",
    "    for index,item in enumerate(items):\n",
    "        items_absval[index] = items_absval[index]/sum(items_absval)\n",
    "    return items_absval\n",
    "\n",
    "item_list2 = [1,-2,3,-4,5]\n",
    "print(normalize_for(item_list2))\n",
    "\n",
    "\n",
    "def normalize_oneline(items):\n",
    "    # use list comprehension, not a for loop\n",
    "    # hint: use an intermediate variable which uses sum(<insert list>)\n",
    "    return []"
   ]
  },
  {
   "cell_type": "markdown",
   "metadata": {},
   "source": [
    "## Exercise 7\n",
    "\n",
    "Note: this exercise is harder than the other ones because it requires you to understand list comprehension."
   ]
  },
  {
   "cell_type": "code",
   "execution_count": null,
   "metadata": {},
   "outputs": [],
   "source": [
    "# write a function that takes in two list arguments, items and indices\n",
    "# and returns a list containing only the indexed values from items.\n",
    "def indexer(items, indices):\n",
    "    # after you verify that indices is a valid list of indices\n",
    "    # for the given items list,\n",
    "    \n",
    "    # use a single line\n",
    "    # hint: use list comprehension\n",
    "    return []\n",
    "\n",
    "indexer([3,5,6,6], [0,1]) # should return [3, 5]\n",
    "indexer([3,4,5], [4]) # should error out in a way you choose"
   ]
  }
 ],
 "metadata": {
  "kernelspec": {
   "display_name": "Python 3",
   "language": "python",
   "name": "python3"
  },
  "language_info": {
   "codemirror_mode": {
    "name": "ipython",
    "version": 3
   },
   "file_extension": ".py",
   "mimetype": "text/x-python",
   "name": "python",
   "nbconvert_exporter": "python",
   "pygments_lexer": "ipython3",
   "version": "3.6.4"
  }
 },
 "nbformat": 4,
 "nbformat_minor": 2
}

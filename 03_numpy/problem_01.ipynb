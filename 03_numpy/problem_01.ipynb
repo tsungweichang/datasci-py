{
 "cells": [
  {
   "cell_type": "markdown",
   "metadata": {},
   "source": [
    "# Problem 1: College Salaries\n",
    "\n",
    "The following problem uses the Kaggle Dataset [Where it Pays to Attend College](https://www.kaggle.com/wsj/college-salaries/data). We are going to load in a CSV, create a dictionary based on the file contents, and then do some analysis.\n",
    "\n",
    "This problem builds off of your Problem 1 from Week 2 (```02_python_advanced/problem_01.ipynb```. We will be graphing data using NumPy and Matplotlib.\n",
    "\n",
    "Unzip the Kaggle dataset and move the folder into ```02_python_advanced/csvs/<your folder name>```. You can rename the folder if you like. Take a look at the CSV file by opening it up in Excel to get an idea of what the file looks like. Alternatively, you can open it up in a text editor; it's just easier to visualize in a spreadsheet program.\n",
    "\n",
    "1. Copy the ```problem_01_fn.py``` file from last week into this week's folder. Also rename it.\n",
    "\n",
    "    - In command prompt, if you are in the ```datasci-py/03_numpy``` folder, run:<br/>\n",
    "       ```cp ../02_python_advanced/problem_01_fn.py problem_01_fn.py```<br/>\n",
    "       ```cp -r ../02_python_advanced/csvs/college-salaries csvs/.```\n",
    "       \n",
    "    - If you are in the top-level ```datasci-py``` folder, run:<br/>\n",
    "        ```cp 02_python_advanced/problem_01_fn.py 03_numpy/problem_01_fn.py```<br/>\n",
    "        ```cp -r 02_python_advanced/csvs/college-salaries 03_numpy/csvs/.```\n",
    "    \n",
    "1. Now save the filepath in the block after you run the auto-reload block."
   ]
  },
  {
   "cell_type": "code",
   "execution_count": null,
   "metadata": {},
   "outputs": [],
   "source": [
    "# the following code guarantees you'll properly reload any modules that you custom-defined in your environment.\n",
    "# you don't need to understand it.\n",
    "# just run this once at the beginning.\n",
    "# for auto-reloading extenrnal modules\n",
    "# see http://stackoverflow.com/questions/1907993/autoreload-of-modules-in-ipython\n",
    "%load_ext autoreload\n",
    "%autoreload 2"
   ]
  },
  {
   "cell_type": "code",
   "execution_count": null,
   "metadata": {},
   "outputs": [],
   "source": [
    "from problem_01_fn_sol import *"
   ]
  },
  {
   "cell_type": "code",
   "execution_count": null,
   "metadata": {},
   "outputs": [],
   "source": [
    "college_dir = os.path.join('csvs', 'college-salaries') # edit this line if you saved it somewhere else\n",
    "degrees_fpath = os.path.join(college_dir, 'degrees-that-pay-back.csv')\n",
    "salaries_type_fpath = os.path.join(college_dir, 'salaries-by-college-type.csv')\n",
    "salaries_region_fpath = os.path.join(college_dir, 'salaries-by-region.csv')"
   ]
  },
  {
   "cell_type": "markdown",
   "metadata": {},
   "source": [
    "The following block runs the dictionary-loading code from last week."
   ]
  },
  {
   "cell_type": "code",
   "execution_count": null,
   "metadata": {},
   "outputs": [],
   "source": [
    "salary_headers, degree_dict = load_degrees(degrees_fpath)\n",
    "college_dict, type_to_colleges, region_to_colleges = load_colleges(salaries_type_fpath, salaries_region_fpath)"
   ]
  },
  {
   "cell_type": "markdown",
   "metadata": {},
   "source": [
    "As a refresher for what the format of these objects look like:\n",
    "\n",
    "* ```salary_headers```: a list of strings correponding to the header strings for your values (in other words, everything from \"Starting Median Salary\" onward)\n",
    "* ```degree_dict```: a dictionary which has the following format:\n",
    "    ```\n",
    "    key: major, a string\n",
    "    value: a list of floats corresponding to the numbers in each row **minus** the percent change from Starting to Mid-Career Salary\n",
    "    ```\n",
    "\n",
    "* ```college_dict```: a dictionary which has the following format:\n",
    "    ```\n",
    "    key: college, a string\n",
    "    value: a list of floats corresponding to the numbers in each row\n",
    "    ```\n",
    "* ```type_to_colleges```: a dictionary mapping a school type to a list of colleges:\n",
    "    ```\n",
    "    key: school type, a string, like 'Engineering' or 'Party'\n",
    "    value: a list of schools under that school type\n",
    "    ```\n",
    "* ```region_to_colleges```: a dictionary mapping a region to a list of colleges:\n",
    "    ```\n",
    "    key: region, a string, like 'Southern' or 'Northeastern'\n",
    "    value: a list of schools in that region\n",
    "    ```\n",
    "\n",
    "You can run the following blocks as a sanity check to see if you loaded in the dictionaries correctly."
   ]
  },
  {
   "cell_type": "code",
   "execution_count": null,
   "metadata": {},
   "outputs": [],
   "source": [
    "print(salary_headers) # ['Starting Median Salary', 'Mid-Career Median Salary', ...]\n",
    "print(len(salary_headers)) # 6\n",
    "print(degree_dict['Spanish']) # [34000.0, 53100.0, 56.2, ...]"
   ]
  },
  {
   "cell_type": "code",
   "execution_count": null,
   "metadata": {},
   "outputs": [],
   "source": [
    "print(college_dict['Polytechnic University of New York, Brooklyn'])\n",
    "print(college_dict['Cooper Union']) # should have -1 in place of N/A\n",
    "print(college_dict['Massachusetts Institute of Technology (MIT)'])\n",
    "print('School Name' not in college_dict) # should not have header information from file\n",
    "print(sorted((region_to_colleges['California']))) # ['Cal Poly San Luis Obispo', ..., 'University of Southern California (USC)']\n",
    "print(sorted(type_to_colleges['Party'])) # ['Arizona State University (ASU)', ..., 'West Virginia University (WVU)']"
   ]
  },
  {
   "cell_type": "markdown",
   "metadata": {},
   "source": [
    "## Exercise 1\n",
    "\n",
    "Implement the ```random_key()``` function, which takes in a dictionary as an argument and returns a random key.\n",
    "\n",
    "* It is best to use one of the ```np.random``` functions, like ```np.random.randint()``` or ```np.random.shuffle()```.\n",
    "* If you are passed in an empty dictionary, you should return ```None```.\n",
    "* ```d.keys()``` returns a **set**, not a list, so it does not support indexing. Instead, you should make sure to convert to list using ```list(d.keys())```."
   ]
  },
  {
   "cell_type": "code",
   "execution_count": null,
   "metadata": {},
   "outputs": [],
   "source": [
    "# argument: d, a dictionary\n",
    "# returns: a random key from the dictionary\n",
    "def random_key(d):\n",
    "    return None # replace this line"
   ]
  },
  {
   "cell_type": "code",
   "execution_count": null,
   "metadata": {},
   "outputs": [],
   "source": [
    "print('empty dict', random_key({}))\n",
    "print('random colleges:')\n",
    "for i in range(10):\n",
    "    print('college {}'.format(i), random_key(college_dict))"
   ]
  },
  {
   "cell_type": "markdown",
   "metadata": {},
   "source": [
    "## Exercise 2\n",
    "\n",
    "Implement the ```random_statistics()``` function that takes in a dictionary and its headers as arguments and returns a statistics printout of a random key. Use the ```random_key``` function you implemented above to help you out.\n",
    "\n",
    "Example output:\n",
    "\n",
    "```\n",
    ">>> random_statistics(college_dict, salary_headers)\n",
    "\tKent State University\n",
    "Starting Median Salary:\t38700.0\n",
    "Mid-Career Median Salary:\t62600.0\n",
    "Mid-Career 10th Percentile Salary:\t36100.0\n",
    "Mid-Career 25th Percentile Salary:\t45800.0\n",
    "Mid-Career 75th Percentile Salary:\t87000.0\n",
    "Mid-Career 90th Percentile Salary:\t124000.0\n",
    ">>> random_statistics(degree_dict, salary_headers)\n",
    "\tNutrition\n",
    "Starting Median Salary:\t39900.0\n",
    "Mid-Career Median Salary:\t55300.0\n",
    "Mid-Career 10th Percentile Salary:\t33900.0\n",
    "Mid-Career 25th Percentile Salary:\t44500.0\n",
    "Mid-Career 75th Percentile Salary:\t70500.0\n",
    "Mid-Career 90th Percentile Salary:\t99200.0\n",
    "```\n",
    "\n",
    "Hint: you might need to implement a for loop where you iterate over indices of ```headers```."
   ]
  },
  {
   "cell_type": "code",
   "execution_count": null,
   "metadata": {},
   "outputs": [],
   "source": [
    "# arguments:\n",
    "#     d, a dictionary\n",
    "#     headers, a list of strings corresponding to the values list of this dictionary\n",
    "# returns:\n",
    "#     None (but prints out statistics)\n",
    "def random_statistics(d, headers):\n",
    "    # implement this function\n",
    "    pass"
   ]
  },
  {
   "cell_type": "code",
   "execution_count": null,
   "metadata": {},
   "outputs": [],
   "source": [
    "random_statistics(college_dict, salary_headers)"
   ]
  },
  {
   "cell_type": "code",
   "execution_count": null,
   "metadata": {},
   "outputs": [],
   "source": [
    "random_statistics(degree_dict, salary_headers)"
   ]
  },
  {
   "cell_type": "markdown",
   "metadata": {},
   "source": [
    "## Exercise 3"
   ]
  },
  {
   "cell_type": "markdown",
   "metadata": {},
   "source": [
    "There is also another way to do this using the ```zip()``` function, which we haven't talked about yet. Recall the ```enumerate()``` function takes in a list and returns a tuple of (i, item), where i is the index, and item is the ith element in our list.\n",
    "\n",
    "```zip(list1, list2)``` takes in multiple lists as argument (so you could do ```zip(arg1, arg2, arg3, ...)```) for as many arguments as you want) and returns a tuple of ```(elt1, elt2, ...)```, where for the ith tuple, the first element in the tuple is the ith element from the first list, the second element is the ith element from the second list, and so on.\n",
    "\n",
    "An example is shown for you below."
   ]
  },
  {
   "cell_type": "code",
   "execution_count": null,
   "metadata": {},
   "outputs": [],
   "source": [
    "list1 = range(10)\n",
    "list2 = range(10, 20)\n",
    "for elt1, elt2 in zip(list1, list2):\n",
    "    print('list1: {}, list2: {}'.format(elt1, elt2))"
   ]
  },
  {
   "cell_type": "markdown",
   "metadata": {},
   "source": [
    "Note that if the argument lists are different lengths, ```zip()``` only iterates through n times, where n is the minimum length across all lists."
   ]
  },
  {
   "cell_type": "code",
   "execution_count": null,
   "metadata": {},
   "outputs": [],
   "source": [
    "list1 = range(10)\n",
    "list2 = range(5)\n",
    "list3 = range(300)\n",
    "count = 0\n",
    "for elt1, elt2, elt3 in zip(list1, list2, list3):\n",
    "    count += 1\n",
    "    print('{}: {}, {}, {}'.format(count, elt1, elt2, elt3))\n",
    "print('iterated {} times'.format(count))"
   ]
  },
  {
   "cell_type": "markdown",
   "metadata": {},
   "source": [
    "```zip()``` and ```enumerate``` are often combined as follows:<br/>\n",
    "\n",
    "```\n",
    "for i, (elt1, elt2) in enumerate(zip(elt1, elt2)):\n",
    "    # do stuff\n",
    "    pass\n",
    "```\n",
    "\n",
    "So we can rewrite the above block like so:"
   ]
  },
  {
   "cell_type": "code",
   "execution_count": null,
   "metadata": {},
   "outputs": [],
   "source": [
    "list1 = range(10)\n",
    "list2 = range(5)\n",
    "list3 = range(300)\n",
    "for i, (elt1, elt2, elt3) in enumerate(zip(list1, list2, list3)):\n",
    "    print('{}: {}, {}, {}'.format(i+1, elt1, elt2, elt3))\n",
    "print('iterated {} times'.format(i+1)) # but this isn't desirable, since you are referencing i outside of the for loop"
   ]
  },
  {
   "cell_type": "markdown",
   "metadata": {},
   "source": [
    "Now, implement ```random_statistics``` again, but this time using ```zip()``` on the values corresponding to your random key and the headers list."
   ]
  },
  {
   "cell_type": "code",
   "execution_count": null,
   "metadata": {},
   "outputs": [],
   "source": [
    "# arguments:\n",
    "#     d, a dictionary\n",
    "#     headers, a list of strings corresponding to the values list of this dictionary\n",
    "# returns:\n",
    "#     None (but prints out statistics)\n",
    "def random_statistics(d, headers):\n",
    "    pass"
   ]
  },
  {
   "cell_type": "code",
   "execution_count": null,
   "metadata": {},
   "outputs": [],
   "source": [
    "# for testing\n",
    "random_statistics(college_dict, salary_headers)\n",
    "print()\n",
    "random_statistics(degree_dict, salary_headers)"
   ]
  },
  {
   "cell_type": "markdown",
   "metadata": {},
   "source": [
    "## Exercise 4: Preparing for Graphing\n",
    "\n",
    "Before we start graphing, let's prepare our dataset by converting it into a NumPy array.\n",
    "\n",
    "### Exercise 4(a)\n",
    "\n",
    "Implement the ```dict_to_array(d)``` function that takes in a dictionary ```d``` as argument and returns two items: ```keys```, a list of keys, and ```value_arr```, a ```np.array()``` where the ith row corresponds to the values of the ith element in ```keys```.\n",
    "\n",
    "Example output:\n",
    "\n",
    "    >>>degrees, degree_arr = dict_to_array(degree_dict)\n",
    "    >>>print(degrees[:10])\n",
    "    >>>print(degree_arr[:10,:]\n",
    "    ['Accounting', 'Aerospace Engineering', 'Agriculture', 'Anthropology', 'Architecture', 'Art History', 'Biology', 'Business Management', 'Chemical Engineering', 'Chemistry']\n",
    "    [[ 46000.  77100.  42200.  56100. 108000. 152000.]\n",
    "     [ 57700. 101000.  64300.  82100. 127000. 161000.]\n",
    "     [ 42600.  71900.  36300.  52100.  96300. 150000.]\n",
    "     [ 36800.  61500.  33800.  45500.  89300. 138000.]\n",
    "     [ 41600.  76800.  50600.  62200.  97000. 136000.]\n",
    "     [ 35800.  64900.  28800.  42200.  87400. 125000.]\n",
    "     [ 38800.  64800.  36900.  47400.  94500. 135000.]\n",
    "     [ 43000.  72100.  38800.  51500. 102000. 147000.]\n",
    "     [ 63200. 107000.  71900.  87300. 143000. 194000.]\n",
    "     [ 42600.  79900.  45300.  60700. 108000. 148000.]]\n",
    "\n",
    "Notes:\n",
    "* Ideally ```keys``` should be sorted. Recall that ```d.keys()``` returns a set, so you will need to convert it to a list, and then use ```sorted(keys)``` where ```keys``` is a list."
   ]
  },
  {
   "cell_type": "code",
   "execution_count": null,
   "metadata": {},
   "outputs": [],
   "source": [
    "def dict_to_array(d):\n",
    "    return [], np.array([]) # replace this line"
   ]
  },
  {
   "cell_type": "code",
   "execution_count": null,
   "metadata": {},
   "outputs": [],
   "source": [
    "degrees, degree_arr = dict_to_array(degree_dict)\n",
    "print('degrees', len(degrees)) # should print 50\n",
    "print('arr shape', degree_arr.shape) # should print (50, 6)\n",
    "print(degrees[:10])\n",
    "print(degree_arr[:10,:])"
   ]
  },
  {
   "cell_type": "code",
   "execution_count": null,
   "metadata": {},
   "outputs": [],
   "source": [
    "colleges, college_arr = dict_to_array(college_dict)\n",
    "print('degrees', len(colleges)) # should print 321\n",
    "print('arr shape', college_arr.shape) # should print (321, 6)\n",
    "print(colleges[:10])\n",
    "print(college_arr[:10,:])"
   ]
  },
  {
   "cell_type": "markdown",
   "metadata": {},
   "source": [
    "### Exercise 4(b)\n",
    "\n",
    "Now, recall the two dictionaries ```region_to_colleges``` and ```type_to_colleges``` which take in a key like ```'California'``` or ```'Party'``` and return the colleges that are in that region or are under that category, respectively.\n",
    "\n",
    "Implement a function ```get_college_indices(colleges, key_to_colleges, key)``` that does the following:\n",
    "\n",
    "* Arguments:\n",
    "    * ```colleges```, a list of colleges, like the one you would get from ```dict_to_array(college_dict)```\n",
    "    * ```key_to_colleges```, a dictionary that looks like ```region_to_colleges``` or ```type_to_colleges```\n",
    "    * ```key```, a key in ```key_to_colleges```\n",
    "* Returns:\n",
    "    * the indices of the ```colleges``` list that correspond to the colleges in ```key_to_colleges[key]```. Does not have to be a sorted list.\n",
    "    \n",
    "For example:\n",
    "\n",
    "    >>>inds = get_college_indices(colleges, region_to_colleges, 'California')\n",
    "    >>>print([colleges[i] for i in inds])\n",
    "    ['Cal Poly San Luis Obispo', 'California Institute of Technology (CIT)', 'California State University (CSU), Chico', 'California State University (CSU), Stanislaus',..., 'University of Southern California (USC)']\n",
    "    \n",
    "Notes:\n",
    "* One implementation is to use ```colleges.index(college)``` to return the index of ```college``` in the list ```colleges```, where ```college``` is in ```college_subset``` and ```college_subset``` is the list of colleges from ```key_to_colleges[key]```. This would involve using a list comprehension that looks like ```[x.index(y) for y in items]```.\n",
    "* Another implementation is to iterate over the indices of ```colleges``` and check if ```colleges[i] in college_subset```, where ```college_subset``` is the list of colleges from ```key_to_colleges[key]```. This would involve using a list comprehension that looks like ```[i for i in range(len(x)) if x[i] in items]```"
   ]
  },
  {
   "cell_type": "code",
   "execution_count": null,
   "metadata": {},
   "outputs": [],
   "source": [
    "def get_college_indices(colleges, key_to_colleges, key):\n",
    "    return [] # a list of indices"
   ]
  },
  {
   "cell_type": "code",
   "execution_count": null,
   "metadata": {},
   "outputs": [],
   "source": [
    "inds = get_college_indices(colleges, region_to_colleges, 'California')\n",
    "print([colleges[i] for i in inds])"
   ]
  },
  {
   "cell_type": "markdown",
   "metadata": {},
   "source": [
    "## Exercise 5: Graphing\n",
    "\n",
    "Now, we are going to use your ```dict_to_array``` functions that you implemented in the previous exercises to graph some interesting information. First, run the following block to make sure that all the variables that are using will be consistent."
   ]
  },
  {
   "cell_type": "code",
   "execution_count": null,
   "metadata": {},
   "outputs": [],
   "source": [
    "salary_headers, degree_dict = load_degrees(degrees_fpath)\n",
    "college_dict, type_to_colleges, region_to_colleges = load_colleges(salaries_type_fpath, salaries_region_fpath)\n",
    "degrees, degree_arr = dict_to_array(degree_dict)\n",
    "colleges, college_arr = dict_to_array(college_dict)\n",
    "\n",
    "# note I typo'ed MID_SAL as MED_SAL so this fixes for that\n",
    "START_SAL, MID_SAL, MID_10, MID_25, MID_75, MID_90 = range(6)"
   ]
  },
  {
   "cell_type": "markdown",
   "metadata": {},
   "source": [
    "### Exercise 5(a)"
   ]
  },
  {
   "cell_type": "markdown",
   "metadata": {},
   "source": [
    "Now fill in the missing parts of the below function and plot the median mid-career salaries vs the median starting salaries of each degree.\n",
    "\n",
    "Notes: \n",
    "* You can use the constants ```START_SAL``` and ```MID_SAL``` to reference a column from your numpy array.\n",
    "* Use ```plt.scatter()```, which plots a scatter plot, not ```plt.plot()```."
   ]
  },
  {
   "cell_type": "code",
   "execution_count": null,
   "metadata": {},
   "outputs": [],
   "source": [
    "def midcareer_vs_starting_degree(degree_dict):\n",
    "    fig = plt.figure() # create a new figure\n",
    "    degrees, degree_arr = dict_to_array(degree_dict)\n",
    "    \n",
    "    # fill in this information here using an indexing call to degree_arr\n",
    "    start_salary = [] # REPLACE THIS LINE, use START_SAL\n",
    "    mid_salary = [] # REPLACE THIS LINE, use MID_SAL\n",
    "    \n",
    "    # write a single line that calls plt.scatter()\n",
    "    # YOUR LINE HERE\n",
    "    \n",
    "    # adds x and y labels and a title\n",
    "    plt.xlabel('Median starting salary ($)')\n",
    "    plt.ylabel('Median mid-career salary ($)')\n",
    "    plt.title('Mid-career salary vs. Starting salary of college degrees')\n",
    "    plt.show()\n",
    "\n",
    "midcareer_vs_starting_degree(degree_dict)"
   ]
  },
  {
   "cell_type": "markdown",
   "metadata": {},
   "source": [
    "### Exercise 5(b)\n",
    "\n",
    "Now, implement a function that plots the same type of scatter plot but for colleges themselves. In other words, graph a scatter plot titled \"Mid-career salary vs. Starting salary by college.\"\n",
    "\n",
    "Notes: \n",
    "* You can use the constants ```START_SAL``` and ```MID_SAL``` to reference a column from your numpy array.\n",
    "* Use ```plt.scatter()```, which plots a scatter plot, not ```plt.plot()```."
   ]
  },
  {
   "cell_type": "code",
   "execution_count": null,
   "metadata": {},
   "outputs": [],
   "source": [
    "def midcareer_vs_starting_college(college_dict):\n",
    "    pass"
   ]
  },
  {
   "cell_type": "markdown",
   "metadata": {},
   "source": [
    "## Exercise 6\n",
    "\n",
    "While the previous exercise allowed us to graph cool things, it didn't actually tell us anything useful about the data, because our scatter plots didn't have any labels corresponding to meaningful categories about the colleges or degrees. For this question, we are going to make use of the ```random_key``` and ```get_college_indices``` functions and the ```type_to_colleges``` and ```region_to_colleges``` dictionaries to label and show legends."
   ]
  },
  {
   "cell_type": "markdown",
   "metadata": {},
   "source": [
    "### Exercise 6(a)\n",
    "\n",
    "Fill in the following functions to plot in random colleges and degrees."
   ]
  },
  {
   "cell_type": "code",
   "execution_count": null,
   "metadata": {},
   "outputs": [],
   "source": [
    "def random_college_plot(college_dict, num_colleges):\n",
    "    colleges, college_arr = dict_to_array(college_dict)\n",
    "    for i in range(num_colleges):\n",
    "        college = random_key(college_dict)\n",
    "        # plot (using plt.scatter())\n",
    "        # also include the label of your dictionary by using the name=... parameter in scatter.\n",
    "        # YOUR CODE HERE\n",
    "        # \n",
    "   # adds x and y labels and a title\n",
    "    plt.xlabel('Median starting salary ($)')\n",
    "    plt.ylabel('Median mid-career salary ($)')\n",
    "    plt.title('Mid-career salary vs. Starting salary of random colleges')\n",
    "    plt.show()\n",
    "    \n",
    "def random_degree_plot(degree_dict, num_degrees):\n",
    "    degrees, degree_arr = dict_to_array(degree_dict)\n",
    "    for i in range(num_degrees):\n",
    "        degree = random_key(degree_dict)\n",
    "        # plot (using plt.scatter())\n",
    "        # also include the label of your dictionary by using the name=... parameter in scatter.\n",
    "        # YOUR CODE HERE\n",
    "        # \n",
    "   # adds x and y labels and a title\n",
    "    plt.xlabel('Median starting salary ($)')\n",
    "    plt.ylabel('Median mid-career salary ($)')\n",
    "    plt.title('Mid-career salary vs. Starting salary of random degrees')\n",
    "    plt.show()"
   ]
  },
  {
   "cell_type": "markdown",
   "metadata": {},
   "source": [
    "## Exercise 6(b)\n",
    "\n",
    "Fill in the following two functions to graph Mid-career salaries vs. Starting career salaries of colleges by type and by region. Make use of the ```get_college_indices``` functions and the ```type_to_colleges``` and ```region_to_colleges``` dictionaries to label and show legends.\n",
    "\n",
    "**Note** <br/>\n",
    "You may find that you cannot see all the colored points on your scatter. This is because ```plt.scatter()``` default sets the **alpha** to 1.0, which means it paints with 100% opacity (alpha=0.0 would be 100% transparency, 0% opacity). To reduce the alpha value of your scatter:\n",
    "\n",
    "    plt.scatter(xs, ys, alpha=0.5, label=label) # plots ys vs xs with 50% transparency and labeled label"
   ]
  },
  {
   "cell_type": "code",
   "execution_count": null,
   "metadata": {},
   "outputs": [],
   "source": [
    "def salaries_by_region_plot(college_dict, region_to_colleges):\n",
    "    fig = plt.figure()\n",
    "    ax = plt.gca()\n",
    "    colleges, college_arr = dict_to_array(college_dict)\n",
    "\n",
    "    ## YOUR CODE HERE\n",
    "    # USE get_college_indices() and your region_to_colleges dictionary\n",
    "    # Change your alpha value if necessary\n",
    "\n",
    "    \n",
    "    ## END YOUR CODE\n",
    "    \n",
    "    # positions legend outside plot area\n",
    "    # Shrink current axis by 20%\n",
    "    box = ax.get_position()\n",
    "    ax.set_position([box.x0, box.y0, box.width * 0.8, box.height])\n",
    "    # Put a legend to the right of the current axis\n",
    "    ax.legend(loc='center left', bbox_to_anchor=(1, 0.5))\n",
    "\n",
    "    # Adds labels\n",
    "    plt.xlabel('Median starting salary ($)')\n",
    "    plt.ylabel('Median mid-career salary ($)')\n",
    "    plt.title('Mid-career salary vs. Starting salary of colleges by region')\n",
    "    plt.show()\n",
    "\n",
    "def salaries_by_type_plot(college_dict, type_to_colleges):\n",
    "    fig = plt.figure()\n",
    "    ax = plt.gca()\n",
    "    colleges, college_arr = dict_to_array(college_dict)\n",
    "\n",
    "    ## YOUR CODE HERE\n",
    "    # USE get_college_indices() and your type_to_colleges dictionary\n",
    "    # Change your alpha value if necessary\n",
    "\n",
    "    \n",
    "    ## END YOUR CODE\n",
    "    \n",
    "    # positions legend outside plot area\n",
    "    # Shrink current axis by 20%\n",
    "    box = ax.get_position()\n",
    "    ax.set_position([box.x0, box.y0, box.width * 0.8, box.height])\n",
    "    # Put a legend to the right of the current axis\n",
    "    ax.legend(loc='center left', bbox_to_anchor=(1, 0.5))\n",
    "\n",
    "    # Adds labels\n",
    "    plt.xlabel('Median starting salary ($)')\n",
    "    plt.ylabel('Median mid-career salary ($)')\n",
    "    plt.title('Mid-career salary vs. Starting salary of colleges by region')\n",
    "    plt.show()\n",
    "    \n",
    "salaries_by_region_plot(college_dict, region_to_colleges)\n",
    "salaries_by_type_plot(college_dict, type_to_colleges)"
   ]
  },
  {
   "cell_type": "markdown",
   "metadata": {},
   "source": [
    "### Exercise 6(c)\n",
    "\n",
    "Finally, modify the previous two functions to save your figures. You can insert it as the last line in each function. Use ```fig.savefig(...)``` to save your by-region and by-degree plots as ```images/salary_by_region.pdf``` and ```images/salary_by_degree.pdf``` in the ```03_numpy``` folder. Then you can open up the images in your PDF viewer.\n",
    "\n",
    "Submit these images as part of your homework."
   ]
  }
 ],
 "metadata": {
  "kernelspec": {
   "display_name": "Python 3",
   "language": "python",
   "name": "python3"
  },
  "language_info": {
   "codemirror_mode": {
    "name": "ipython",
    "version": 3
   },
   "file_extension": ".py",
   "mimetype": "text/x-python",
   "name": "python",
   "nbconvert_exporter": "python",
   "pygments_lexer": "ipython3",
   "version": "3.6.5"
  }
 },
 "nbformat": 4,
 "nbformat_minor": 2
}

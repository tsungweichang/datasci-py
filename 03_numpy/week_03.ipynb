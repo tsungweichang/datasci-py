{
 "cells": [
  {
   "cell_type": "markdown",
   "metadata": {},
   "source": [
    "# Week 03: NumPy and SciPy\n",
    "\n",
    "This week's learning goals are as follows:\n",
    "\n",
    "1. Understand and use NumPy broadcasting and matrix/array abstractions.\n",
    "1. Use advanced NumPy functions to create and modify matrices.\n",
    "1. ```np.random()```\n",
    "1. Plot basic scatter plots using Matplotlib.\n",
    "1. Read and use SciPy documentation (for homework).\n",
    "\n",
    "This notebook uses the Kaggle Dataset [Pokemon with stats](https://www.kaggle.com/abcsds/pokemon/data). Download and move the csv into ```03_numpy/csvs```.\n",
    "\n",
    "Uses [Stanford CS231N NumPy tutorial examples.](http://cs231n.github.io/python-numpy-tutorial/#numpy) and [UCSB CHE210D NumPy tutorial](https://engineering.ucsb.edu/~shell/che210d/numpy.pdf)."
   ]
  },
  {
   "cell_type": "code",
   "execution_count": null,
   "metadata": {},
   "outputs": [],
   "source": [
    "# the following code guarantees you'll properly reload any modules that you custom-defined in your environment.\n",
    "# you don't need to understand it.\n",
    "# just run this once at the beginning.\n",
    "# for auto-reloading extenrnal modules\n",
    "# see http://stackoverflow.com/questions/1907993/autoreload-of-modules-in-ipython\n",
    "%load_ext autoreload\n",
    "%autoreload 2\n",
    "import os\n",
    "import sys\n",
    "import numpy as np\n",
    "import csv"
   ]
  },
  {
   "cell_type": "markdown",
   "metadata": {},
   "source": [
    "## 1. Basic NumPy\n",
    "\n",
    "Numpy is a library for science, math and engineering. Its main abstraction is the numpy array, which is a beefed up version of the Python list."
   ]
  },
  {
   "cell_type": "code",
   "execution_count": null,
   "metadata": {},
   "outputs": [],
   "source": [
    "a = np.array([1, 2, 3])   # Create a rank 1 array\n",
    "print('a:\\t', a)\n",
    "print('type:\\t', type(a))            # Prints \"<class 'numpy.ndarray'>\"\n",
    "print('shape:\\t', a.shape)            # Prints \"(3,)\"\n",
    "print('elements:\\t',a[0], a[1], a[2])   # Prints \"1 2 3\"\n",
    "a[0] = 5                  # Change an element of the array\n",
    "print('new a:\\t', a)                  # Prints \"[5, 2, 3]\""
   ]
  },
  {
   "cell_type": "markdown",
   "metadata": {},
   "source": [
    " With the numpy array, we can perform simple math operations without worrying about list comprehension."
   ]
  },
  {
   "cell_type": "code",
   "execution_count": null,
   "metadata": {},
   "outputs": [],
   "source": [
    "x = np.array([2,3,4,5,6,6])\n",
    "y = np.array([9,32,0,102,-1,-123.0])\n",
    "# simple operations automatically broadcast to serve every element\n",
    "print('x\\t=', x)\n",
    "print('2*x\\t=', 2*x)\n",
    "print('x+3\\t=', x + 3)\n",
    "print('x/4\\t=', x/4)"
   ]
  },
  {
   "cell_type": "code",
   "execution_count": null,
   "metadata": {},
   "outputs": [],
   "source": [
    "# you can do element-wise addition too\n",
    "x = np.array([2,3,4,5,6,6])\n",
    "y = np.array([9,32,0,102,-1,-123.0])\n",
    "print('x-y\\t=', x-y)\n",
    "print('x*y\\t=', x*y)\n",
    "print('x/y\\t=', x/y) # division by zero, note the infinity"
   ]
  },
  {
   "cell_type": "markdown",
   "metadata": {},
   "source": [
    "### Indexing and slicing\n",
    "\n",
    "Numpy arrays can be indexed and sliced the same way as Python lists."
   ]
  },
  {
   "cell_type": "code",
   "execution_count": null,
   "metadata": {},
   "outputs": [],
   "source": [
    "a = np.array([[1,2,3,4], [5,6,7,8], [9,10,11,12]])\n",
    "print('a:\\t', a.shape, '\\n', a)\n",
    "# Use slicing to pull out the subarray consisting of the first 2 rows\n",
    "# and columns 1 and 2\n",
    "b = a[:2, 1:3]\n",
    "print('b:\\t', b.shape, '\\n', b)\n",
    "\n",
    "# A slice of an array is a view into the same data, so modifying it\n",
    "# will modify the original array.\n",
    "print('top, second from left:', a[0, 1])   # Prints \"2\"\n",
    "b[0, 0] = 77     # b[0, 0] is the same piece of data as a[0, 1]\n",
    "print('top, second from left:', a[0, 1])   # Prints \"77\"\n",
    "print('a:\\n', a)\n",
    "print('b:\\n', b)"
   ]
  },
  {
   "cell_type": "code",
   "execution_count": null,
   "metadata": {},
   "outputs": [],
   "source": [
    "# Create the following rank 2 array with shape (3, 4)\n",
    "a = np.array([[1,2,3,4], [5,6,7,8], [9,10,11,12]])\n",
    "print('a:\\n', a)\n",
    "\n",
    "# Two ways of accessing the data in the middle row of the array.\n",
    "# Mixing integer indexing with slices yields an array of lower rank,\n",
    "# while using only slices yields an array of the same rank as the\n",
    "# original array:\n",
    "row_r1 = a[1, :]    # Rank 1 view of the second row of a\n",
    "row_r2 = a[1:2, :]  # Rank 2 view of the second row of a\n",
    "print('row rank 1', row_r1, row_r1.shape)  # Prints \"[5 6 7 8] (4,)\"\n",
    "print('row rank 2', row_r2, row_r2.shape)  # Prints \"[[5 6 7 8]] (1, 4)\"\n",
    "\n",
    "# We can make the same distinction when accessing columns of an array:\n",
    "col_r1 = a[:, 1]\n",
    "col_r2 = a[:, 1:2]\n",
    "print('col rank 1', col_r1, col_r1.shape) \n",
    "print('col rank 2', col_r2, col_r2.shape) "
   ]
  },
  {
   "cell_type": "markdown",
   "metadata": {},
   "source": [
    "In fact the slicing is even more flexible in some cases. For example, you can specify individual elements and return them all at once."
   ]
  },
  {
   "cell_type": "code",
   "execution_count": null,
   "metadata": {},
   "outputs": [],
   "source": [
    "a = np.array([[1,2], [3, 4], [5, 6]])\n",
    "\n",
    "# An example of integer array indexing.\n",
    "# The returned array will have shape (3,)\n",
    "print('list indexing\\t\\t', a[[0, 1, 2], [0, 1, 0]])\n",
    "\n",
    "# The above example of integer array indexing is equivalent to this:\n",
    "print('per-elt indexing\\t', np.array([a[0, 0], a[1, 1], a[2, 0]]))\n",
    "\n",
    "# When using integer array indexing, you can reuse the same\n",
    "# element from the source array:\n",
    "print('repeated indexing\\t', a[[0, 0], [1, 1]])\n",
    "\n",
    "# Equivalent to the previous integer array indexing example\n",
    "print('per-elt indexing\\t', np.array([a[0, 1], a[0, 1]]))"
   ]
  },
  {
   "cell_type": "markdown",
   "metadata": {},
   "source": [
    "#### Programming Exercises"
   ]
  },
  {
   "cell_type": "markdown",
   "metadata": {},
   "source": [
    "After you run the following cell, there will be an array ```a```.\n",
    "1. Print the shape of ```a```.\n",
    "1. Print the first row of ```a```.\n",
    "1. Print the second column of ```a```.\n",
    "1. Find the array slicing that gives you:\n",
    "\n",
    "     ```[[ 4  5]\n",
    "     [10 11]\n",
    "     [16 17]]```\n",
    "1. Find the array slicing that gives you:\n",
    "\n",
    "    ```[[ 2  4  6]\n",
    " [ 8 10 12]\n",
    " [14 16 18]]```"
   ]
  },
  {
   "cell_type": "code",
   "execution_count": null,
   "metadata": {},
   "outputs": [],
   "source": [
    "a = np.array([[1,2,3,4,5,6], [7,8,9,10,11,12], [13,14,15,16,17,18]])\n",
    "print(a)"
   ]
  },
  {
   "cell_type": "code",
   "execution_count": null,
   "metadata": {},
   "outputs": [],
   "source": [
    "# exercise 1"
   ]
  },
  {
   "cell_type": "code",
   "execution_count": null,
   "metadata": {},
   "outputs": [],
   "source": [
    "# exercise 2"
   ]
  },
  {
   "cell_type": "code",
   "execution_count": null,
   "metadata": {},
   "outputs": [],
   "source": [
    "# exercise 3"
   ]
  },
  {
   "cell_type": "code",
   "execution_count": null,
   "metadata": {},
   "outputs": [],
   "source": [
    "# exercise 4\n",
    "print('target:\\n', np.array([[ 4, 5], [10, 11], [16, 17]]))\n",
    "# your solution below this line"
   ]
  },
  {
   "cell_type": "code",
   "execution_count": null,
   "metadata": {},
   "outputs": [],
   "source": [
    "# exercise 5\n",
    "print('target:\\n', np.array([[2, 4, 6], [8, 10, 12], [14, 16, 18]]))"
   ]
  },
  {
   "cell_type": "markdown",
   "metadata": {},
   "source": [
    "### Element-wise functions\n",
    "\n",
    "There are some built-in element-wise functions that we will use a lot."
   ]
  },
  {
   "cell_type": "code",
   "execution_count": null,
   "metadata": {},
   "outputs": [],
   "source": [
    "x = np.array([[1,2],[3,4]], dtype=np.float64)\n",
    "print(np.sqrt(x)) # sqrt(x), element-wise"
   ]
  },
  {
   "cell_type": "code",
   "execution_count": null,
   "metadata": {},
   "outputs": [],
   "source": [
    "print(np.power(x, 3)) # x ^ 3, element-wise"
   ]
  },
  {
   "cell_type": "code",
   "execution_count": null,
   "metadata": {},
   "outputs": [],
   "source": [
    "print(np.log(x)) # ln(x), element-wise"
   ]
  },
  {
   "cell_type": "markdown",
   "metadata": {},
   "source": [
    "### Array-wise functions\n",
    "\n",
    "NumPy has all of the basic statistics functions built in, too. These all can perform statistics on each dimension of the input, but by default perform statistics on every element."
   ]
  },
  {
   "cell_type": "code",
   "execution_count": null,
   "metadata": {},
   "outputs": [],
   "source": [
    "a = np.array([[0, 2], [3, -1], [3, 5]])\n",
    "print(a)\n",
    "print(a.mean())"
   ]
  },
  {
   "cell_type": "code",
   "execution_count": null,
   "metadata": {},
   "outputs": [],
   "source": [
    "print(a.mean(axis=0))\n",
    "print(a.mean(axis=1))"
   ]
  },
  {
   "cell_type": "code",
   "execution_count": null,
   "metadata": {},
   "outputs": [],
   "source": [
    "print(a.std())\n",
    "print(a.var(axis=0))"
   ]
  },
  {
   "cell_type": "code",
   "execution_count": null,
   "metadata": {},
   "outputs": [],
   "source": [
    "print(np.unique(a))"
   ]
  },
  {
   "cell_type": "markdown",
   "metadata": {},
   "source": [
    "### Creating new arrays from old ones\n",
    "\n",
    "Once you create a numpy array, its shape doesn't change. However, you can use it to create new matrices with various numpy functions, or even convert back to lists.\n",
    "\n",
    "The following code **converts numpy arrays to lists and vice versa.**"
   ]
  },
  {
   "cell_type": "code",
   "execution_count": null,
   "metadata": {},
   "outputs": [],
   "source": [
    "# converting in-between list and numpy array\n",
    "python_list = [2,3,4,5]\n",
    "arr = np.array(python_list)\n",
    "print('list', python_list)\n",
    "print('np array', arr)\n",
    "print('back to list', arr.tolist())"
   ]
  },
  {
   "cell_type": "markdown",
   "metadata": {},
   "source": [
    "**Note on documentation:**\n",
    "\n",
    "If you are looking at the NumPy documentation, you might see two different versions of the same function:\n",
    "* Reshape as an object method: https://docs.scipy.org/doc/numpy/reference/generated/numpy.ndarray.reshape.html\n",
    "    * If you have an array ```a```, you call this via ```a.reshape(...)```\n",
    "* Reshape as a general numpy method: https://docs.scipy.org/doc/numpy/reference/generated/numpy.reshape.html#numpy.reshape\n",
    "    * If you have an array ```a```, you call this via ```np.reshape(a, ...)```\n",
    "    \n",
    "Is there any difference between these two? No, not really, but sometimes functions are written only in a certain way, and it's good to know that there exist these two options so that you can navigate the NumPy documentation correctly."
   ]
  },
  {
   "cell_type": "code",
   "execution_count": null,
   "metadata": {},
   "outputs": [],
   "source": [
    "a = np.array(range(10), float)\n",
    "print('a', a)\n",
    "b = a.reshape((5, 2)) # call it on a\n",
    "print('b', b)\n",
    "c = np.reshape(a, (5, 2)) # general numpy\n",
    "print('c', c)"
   ]
  },
  {
   "cell_type": "markdown",
   "metadata": {},
   "source": [
    "Anyway, back to useful array manipulations. ```flatten``` shrinks everything down to one dimension."
   ]
  },
  {
   "cell_type": "code",
   "execution_count": null,
   "metadata": {},
   "outputs": [],
   "source": [
    "## flatten array into single dimension\n",
    "a = np.array([[1, 2, 3], [4, 5, 6]], float)\n",
    "print('original', a, a.shape)\n",
    "a_flat = a.flatten()\n",
    "print('flattened', a_flat, a_flat.shape)"
   ]
  },
  {
   "cell_type": "markdown",
   "metadata": {},
   "source": [
    "You can also concatenate arrays together. Concatenate has an optional argument ```axis``` which specifies what dimension to concatenate on. There are a few options for our callback:\n",
    "* ```concatenate(list_of_lists) ``` No additional arguments. Default is axis = 0.\n",
    "* ```concatenate(list_of_lists, axis=1)``` One additional argument. Will attempt to concatenate on axis = 1, i.e., the second axis. This might not always exist, so it might throw an error."
   ]
  },
  {
   "cell_type": "code",
   "execution_count": null,
   "metadata": {},
   "outputs": [],
   "source": [
    "# concatenating on a single dimension\n",
    "a = np.array([1,2], float)\n",
    "b = np.array([3,4,5,6], float)\n",
    "c = np.array([7,8,9], float)\n",
    "print(np.concatenate((a, b, c)))"
   ]
  },
  {
   "cell_type": "code",
   "execution_count": null,
   "metadata": {},
   "outputs": [],
   "source": [
    "# concatenating on different dimensions\n",
    "a = np.array([[1, 2], [3, 4]], float)\n",
    "b = np.array([[5, 6], [7,8]], float)\n",
    "print('default along dim 1', np.concatenate((a,b)))\n",
    "print('explicitly along dim 1', np.concatenate((a,b), axis=0))\n",
    "print('explicitly along dim 2', np.concatenate((a,b), axis=1))"
   ]
  },
  {
   "cell_type": "markdown",
   "metadata": {},
   "source": [
    "### Making standard matrices\n",
    "Because NumPy is a math library, it also has many functions for creating matrices. Let's start with some rooted in linear algebra. The most useful of these is ```np.zeros(shape_of_arr)``` and ```np.ones(shape_of_arr)```."
   ]
  },
  {
   "cell_type": "code",
   "execution_count": null,
   "metadata": {},
   "outputs": [],
   "source": [
    "a = np.zeros((2,2))   # Create an array of all zeros\n",
    "print('a\\t', a.shape, '\\n', a)              \n",
    "\n",
    "b = np.ones((1,2))    # Create an array of all ones\n",
    "print('b\\t', b.shape, '\\n', b)                \n",
    "\n",
    "c = np.full((2,2), 7)  # Create a constant array\n",
    "print('c\\t', c.shape, '\\n', c)                   \n",
    "\n",
    "d = np.eye(2)         # Create a 2x2 identity matrix\n",
    "print('d\\t', d.shape, '\\n', d)                  "
   ]
  },
  {
   "cell_type": "markdown",
   "metadata": {},
   "source": [
    "Note that the ```x.shape``` function really helps with making matrices. For example, to create a ones matrix with the same shape as a:"
   ]
  },
  {
   "cell_type": "code",
   "execution_count": null,
   "metadata": {},
   "outputs": [],
   "source": [
    "a = np.array([[2,3,4,5,5,6], [2,3,4,5,5,6], [2,3,4,5,5,6]])\n",
    "print('a\\t:', a.shape,'\\n', a)\n",
    "print('zeros:\\n', np.zeros(a.shape))"
   ]
  },
  {
   "cell_type": "markdown",
   "metadata": {},
   "source": [
    "Other useful ones are ```np.arange``` (analogous to Python's range()) and ```np.linspace```.\n",
    "* ```np.arange(max_item)``` returns an array from 0 to max_item -1, inclusive. Shape is (max_item,).\n",
    "* ```np.arange(min_item, max_item)``` returns an array from min_item to max_item-1, inclusive.\n",
    "* ```np.arange(min_item, max_item, step)``` returns an array from min_item to max_item-1, stepping by ```step``` amount.\n",
    "* ```np.linspace(start, stop)``` returns num evenly spaced samples, calculated over the interval [start, stop], inclusive of stop. Default is ```num = 50```.\n",
    "* ```np.linspace(start, stop, 23)``` returns 23 evenly spaced samples over the interval.\n",
    "\n"
   ]
  },
  {
   "cell_type": "code",
   "execution_count": null,
   "metadata": {},
   "outputs": [],
   "source": [
    "print(np.arange(5))\n",
    "print(np.arange(1, 6, 2))\n",
    "print(np.arange(1,7,2)) # note that this returns the same thing"
   ]
  },
  {
   "cell_type": "code",
   "execution_count": null,
   "metadata": {},
   "outputs": [],
   "source": [
    "print(np.linspace(0,10,3))\n",
    "print(np.linspace(0, 50))"
   ]
  },
  {
   "cell_type": "markdown",
   "metadata": {},
   "source": [
    "#### Programming exercises\n",
    "\n",
    "1. Return an array whose elements go from -10 to 10 (inclusive) separated by 0.5 using ```np.arange()```.\n",
    "1. Return an array whose elements go from -10 to 10 (inclusive) separated by 0.5 using ```np.linspace()```. Note that this would not be the best use case of ```np.linspace()```, which requires you to know the number of elements.\n",
    "1. Return an array whose elements go from 20 to 50 (inclusive) with 30 elements using ```np.linspace()```. Note that this would not be the best use case of ```np.arange()```, which requires you to know the step size."
   ]
  },
  {
   "cell_type": "code",
   "execution_count": null,
   "metadata": {},
   "outputs": [],
   "source": [
    "# exercise 1\n",
    "\n",
    "# exercise 2\n",
    "\n",
    "# exercise 3"
   ]
  },
  {
   "cell_type": "markdown",
   "metadata": {},
   "source": [
    "Read the documentation for ```np.expand_dims()```: https://docs.scipy.org/doc/numpy/reference/generated/numpy.expand_dims.html.\n",
    "\n",
    "Note that in the below cell, it is impossible to use ```np.concatenate()``` to create a matrix where a, b, c are rows of a 2-d matrix. This is because a, b, c are one-dimensional, and concatenate's ```axis``` argument only works on existing axes of its arguments.\n",
    "1. Add an additional dimension to each of a, b, c using ```np.expand_dims()```.\n",
    "1. Now call concatenate on these new arrays to create the target matrix.\n",
    "1. Finally, convert your new 2-D matrix into a list of lists (hint: call ```arr.tolist()```)."
   ]
  },
  {
   "cell_type": "code",
   "execution_count": null,
   "metadata": {},
   "outputs": [],
   "source": [
    "a, b, c = np.linspace(1, 6, 6), np.linspace(7, 12, 6), np.linspace(13, 18, 6)\n",
    "target = np.array([[1.0, 2.0, 3.0, 4.0, 5.0, 6.0], [7.0, 8.0, 9.0, 10.0, 11.0, 12.0], [13.0, 14.0, 15.0, 16.0, 17.0, 18.0]])\n",
    "print('target:\\t', target.shape, '\\n', target)\n",
    "\n",
    "# exercise 1\n",
    "\n",
    "# exercise 2\n",
    "\n",
    "# exercise 3"
   ]
  },
  {
   "cell_type": "markdown",
   "metadata": {},
   "source": [
    "## 2. Advanced NumPy"
   ]
  },
  {
   "cell_type": "markdown",
   "metadata": {},
   "source": [
    "### More indexing\n",
    "\n",
    "Let's do more list indexing."
   ]
  },
  {
   "cell_type": "code",
   "execution_count": null,
   "metadata": {},
   "outputs": [],
   "source": [
    "a = np.array([[1,2,3], [4,5,6], [7,8,9], [10, 11, 12]])\n",
    "print(a)  \n",
    "b = np.array([0, 2, 0, 1]) # can also just be a list [0, 2, 0, 1], doesn't have to be an array\n",
    "\n",
    "# Select one element from each row of a using the indices in b\n",
    "print(a[np.arange(4), b])"
   ]
  },
  {
   "cell_type": "markdown",
   "metadata": {},
   "source": [
    "The best part about indexing in Numpy is that you can index elements and mutate just those elements."
   ]
  },
  {
   "cell_type": "code",
   "execution_count": null,
   "metadata": {},
   "outputs": [],
   "source": [
    "a[np.arange(4), b] += 10\n",
    "print(a) "
   ]
  },
  {
   "cell_type": "markdown",
   "metadata": {},
   "source": [
    "But wait, there's more! You can even index using **boolean arrays**. You will frequently use this to select the elements of an array that satisfy some condition."
   ]
  },
  {
   "cell_type": "code",
   "execution_count": null,
   "metadata": {},
   "outputs": [],
   "source": [
    "a = np.array([[1,2], [3, 4], [5, 6]])\n",
    "\n",
    "bool_idx = (a > 2)  # same shape as a\n",
    "print(\"a\", a)\n",
    "print(\"bool\", bool_idx) "
   ]
  },
  {
   "cell_type": "code",
   "execution_count": null,
   "metadata": {},
   "outputs": [],
   "source": [
    "print(a[bool_idx])\n",
    "\n",
    "# We can do all of the above in a single concise statement:\n",
    "print(a[a > 2]) "
   ]
  },
  {
   "cell_type": "code",
   "execution_count": null,
   "metadata": {},
   "outputs": [],
   "source": [
    "a[a > 2] += 10 # combine boolean indexing with array mutation\n",
    "print(a)"
   ]
  },
  {
   "cell_type": "markdown",
   "metadata": {},
   "source": [
    "#### Programming exercises\n",
    "\n",
    "1. Use ```np.abs()``` to give you the absolute value (element-wise) of the array a.\n",
    "1. Use boolean indexing to give you the absolute value (element-wise) of the array a.\n",
    "    1. Construct a boolean array that will tell you whether each element is less than 0.\n",
    "    1. Index all of those element using boolean indexing and update them by multiplying by -1.\n",
    "    \n",
    "You should be able to complete the second exercise in a single line."
   ]
  },
  {
   "cell_type": "code",
   "execution_count": null,
   "metadata": {},
   "outputs": [],
   "source": [
    "a = np.array([[-3, 3, -2, 2, -1, 0],[0, -3, 4, 5, -2, -5]])\n",
    "print(a)\n",
    "# exercise 1, a single line with print\n",
    "\n",
    "\n",
    "# exercise 2, a single line with print\n",
    "\n"
   ]
  },
  {
   "cell_type": "markdown",
   "metadata": {},
   "source": [
    "### Array math, aka Linear Algebra continued\n",
    "\n",
    "Because NumPy works with matrices, it implements a lot of concepts from linear algebra."
   ]
  },
  {
   "cell_type": "code",
   "execution_count": null,
   "metadata": {},
   "outputs": [],
   "source": [
    "# Element-wise multiplication\n",
    "x = np.array([[1,2],[3,4]], dtype=np.float64)\n",
    "y = np.array([[5,6],[7,8]], dtype=np.float64)\n",
    "print(x * y)\n",
    "print(np.multiply(x, y))"
   ]
  },
  {
   "cell_type": "code",
   "execution_count": null,
   "metadata": {},
   "outputs": [],
   "source": [
    "# Inner product of vectors\n",
    "v = np.array([9,10])\n",
    "w = np.array([11, 12])\n",
    "print(v.dot(w))\n",
    "print(np.dot(v, w))"
   ]
  },
  {
   "cell_type": "code",
   "execution_count": null,
   "metadata": {},
   "outputs": [],
   "source": [
    "# Matrix / vector product\n",
    "x = np.array([[1,2],[3,4]])\n",
    "print(x.dot(v))\n",
    "print(np.dot(x, v))"
   ]
  },
  {
   "cell_type": "code",
   "execution_count": null,
   "metadata": {},
   "outputs": [],
   "source": [
    "# Matrix / matrix product\n",
    "y = np.array([[5,6],[7,8]])\n",
    "print(x.dot(y))\n",
    "print(np.dot(x, y))"
   ]
  },
  {
   "cell_type": "code",
   "execution_count": null,
   "metadata": {},
   "outputs": [],
   "source": [
    "#### Tranposes\n",
    "print('x:\\n', x)\n",
    "print('transpose(x):\\n',x.T)"
   ]
  },
  {
   "cell_type": "markdown",
   "metadata": {},
   "source": [
    "### Broadcasting\n",
    "\n",
    "Broadcasting is a powerful mechanism that allows numpy to work with arrays of different shapes when performing arithmetic operations. Frequently we have a smaller array and a larger array, and we want to use the smaller array multiple times to perform some operation on the larger array.\n",
    "\n",
    "For example, suppose that we want to add a constant vector to each row of a matrix. We could do it like this:"
   ]
  },
  {
   "cell_type": "code",
   "execution_count": null,
   "metadata": {},
   "outputs": [],
   "source": [
    "## Approach 1, not making use of broadcasting\n",
    "x = np.array([[1,2,3], [4,5,6], [7,8,9], [10, 11, 12]])\n",
    "v = np.array([1, 0, 1])\n",
    "y = np.empty_like(x)   # Create an empty matrix with the same shape as x\n",
    "\n",
    "# Add the vector v to each row of the matrix x with an explicit loop\n",
    "for i in range(4):\n",
    "    y[i, :] = x[i, :] + v\n",
    "\n",
    "print(y)"
   ]
  },
  {
   "cell_type": "markdown",
   "metadata": {},
   "source": [
    "This works; however when the matrix x is very large, computing an explicit loop in Python could be slow. Note that adding the vector v to each row of the matrix x is equivalent to forming a matrix vv by stacking multiple copies of v vertically, then performing elementwise summation of x and vv. We could implement this approach like this:"
   ]
  },
  {
   "cell_type": "code",
   "execution_count": null,
   "metadata": {},
   "outputs": [],
   "source": [
    "## Approach 2, hard to read\n",
    "import numpy as np\n",
    "\n",
    "x = np.array([[1,2,3], [4,5,6], [7,8,9], [10, 11, 12]])\n",
    "v = np.array([1, 0, 1])\n",
    "vv = np.tile(v, (4, 1))   # Stack 4 copies of v on top of each other\n",
    "print('vv', vv)                 \n",
    "y = x + vv  # Add x and vv elementwise\n",
    "print(y)  "
   ]
  },
  {
   "cell_type": "markdown",
   "metadata": {},
   "source": [
    "Numpy broadcasting allows us to perform this computation without actually creating multiple copies of v. Consider this version, using broadcasting:"
   ]
  },
  {
   "cell_type": "code",
   "execution_count": null,
   "metadata": {},
   "outputs": [],
   "source": [
    "x = np.array([[1,2,3], [4,5,6], [7,8,9], [10, 11, 12]])\n",
    "v = np.array([1, 0, 1])\n",
    "y = x + v  # Add v to each row of x using broadcasting\n",
    "print(y)"
   ]
  },
  {
   "cell_type": "markdown",
   "metadata": {},
   "source": [
    "The line y = x + v works even though x has shape (4, 3) and v has shape (3,) due to broadcasting; this line works as if v actually had shape (4, 3), where each row was a copy of v, and the sum was performed elementwise.\n",
    "\n",
    "Broadcasting two arrays together follows these rules:\n",
    "\n",
    "1. If the arrays do not have the same rank, prepend the shape of the lower rank array with 1s until both shapes have the same length.\n",
    "1. The two arrays are said to be compatible in a dimension if they have the same size in the dimension, or if one of the arrays has size 1 in that dimension.\n",
    "1. The arrays can be broadcast together if they are compatible in all dimensions.\n",
    "1. After broadcasting, each array behaves as if it had shape equal to the elementwise maximum of shapes of the two input arrays.\n",
    "1. In any dimension where one array had size 1 and the other array had size greater than 1, the first array behaves as if it were copied along that dimension\n",
    "\n",
    "Some examples of broadcasting (again, taken from the CS231N stanford website)"
   ]
  },
  {
   "cell_type": "code",
   "execution_count": null,
   "metadata": {},
   "outputs": [],
   "source": [
    "# Compute outer product of vectors\n",
    "v = np.array([1,2,3])  # v has shape (3,)\n",
    "w = np.array([4,5])    # w has shape (2,)\n",
    "# To compute an outer product, we first reshape v to be a column\n",
    "# vector of shape (3, 1); we can then broadcast it against w to yield\n",
    "# an output of shape (3, 2), which is the outer product of v and w:\n",
    "# [[ 4  5]\n",
    "#  [ 8 10]\n",
    "#  [12 15]]\n",
    "print(np.reshape(v, (3, 1)) * w)"
   ]
  },
  {
   "cell_type": "code",
   "execution_count": null,
   "metadata": {},
   "outputs": [],
   "source": [
    "# Add a vector to each row of a matrix\n",
    "x = np.array([[1,2,3], [4,5,6]])\n",
    "# x has shape (2, 3) and v has shape (3,) so they broadcast to (2, 3),\n",
    "# giving the following matrix:\n",
    "# [[2 4 6]\n",
    "#  [5 7 9]]\n",
    "print(x + v)"
   ]
  },
  {
   "cell_type": "code",
   "execution_count": null,
   "metadata": {},
   "outputs": [],
   "source": [
    "# Add a vector to each column of a matrix\n",
    "print('x', x)\n",
    "print('w', w)\n",
    "print((x.T + w).T)"
   ]
  },
  {
   "cell_type": "code",
   "execution_count": null,
   "metadata": {},
   "outputs": [],
   "source": [
    "# Another solution is to reshape w to be a column vector of shape (2, 1);\n",
    "# we can then broadcast it directly against x to produce the same\n",
    "# output.\n",
    "print(x + np.reshape(w, (2, 1)))"
   ]
  },
  {
   "cell_type": "code",
   "execution_count": null,
   "metadata": {},
   "outputs": [],
   "source": [
    "# Multiply a matrix by a constant:\n",
    "# x has shape (2, 3). Numpy treats scalars as arrays of shape ();\n",
    "# these can be broadcast together to shape (2, 3)\n",
    "print(x * 2)"
   ]
  },
  {
   "cell_type": "markdown",
   "metadata": {},
   "source": [
    "#### Programming Exercises\n",
    "\n",
    "1. In the below cell, add x and y together to produce target. You may need to transpose; remember that only the last dimension can be broadcast.\n",
    "1. Implement linear combination using broadcasting and ```np.sum(arr, axis=dim)```:\n",
    "\n",
    "    ```\n",
    "    [[3 0]    [-1    [-3\n",
    "     [1 2]] *  1 ] =  1]\n",
    "     ```"
   ]
  },
  {
   "cell_type": "code",
   "execution_count": null,
   "metadata": {},
   "outputs": [],
   "source": [
    "# Exercise 1\n",
    "x = np.array([[3,4,5],[5,4,3]])\n",
    "y = np.array([-1,1])\n",
    "target = np.array([[2, 3, 4], [6, 5, 4]])\n",
    "print('target:\\n',target)\n"
   ]
  },
  {
   "cell_type": "code",
   "execution_count": null,
   "metadata": {},
   "outputs": [],
   "source": [
    "H = np.array([[3,0], [1,2]])\n",
    "x = np.array([-1,1])\n",
    "target = H.dot(x)\n",
    "print('target:\\n', target)"
   ]
  },
  {
   "cell_type": "markdown",
   "metadata": {},
   "source": [
    "## 3. np.random()\n",
    "\n",
    "Finally, random numbers!!!! NumPy has a whole bunch of implementations of probability distributions that might be useful to you.\n",
    "\n",
    "* ```np.random.random(shape)``` Creates an array filled with random values uniformly selected between [0, 1).\n",
    "* ```np.random.randint(stop, size=None)``` or ```np.random.randint(start, stop, size=None)```. Returns a random integer up to stop (exclusive) or from start to stop-1 (inclusive). If size=None, return a single integer. If size=(3,1), return an array (3,1) of random integers.\n",
    "* ```np.random.choice(arr, size=None)``` Returns a random selection from the array ```arr```. If size=(3,1), return an array of shape (3, 1) of random choices from ```arr```, with replacement.\n",
    "* ```np.random.shuffle(arr)``` Shuffles an array in-place. Note that this doesn't return anything; it modifies the original array."
   ]
  },
  {
   "cell_type": "code",
   "execution_count": null,
   "metadata": {},
   "outputs": [],
   "source": [
    "e = np.random.random((2,2))  # Create an array filled with random values\n",
    "print(e)                     # Might print \"[[ 0.91940167  0.08143941]\n",
    "                             #               [ 0.68744134  0.87236687]]\""
   ]
  },
  {
   "cell_type": "code",
   "execution_count": null,
   "metadata": {},
   "outputs": [],
   "source": [
    "np.random.randint(5, 10 ,size=(3,1))"
   ]
  },
  {
   "cell_type": "code",
   "execution_count": null,
   "metadata": {},
   "outputs": [],
   "source": [
    "np.random.choice([2,34,1,-2,30,4])"
   ]
  },
  {
   "cell_type": "code",
   "execution_count": null,
   "metadata": {},
   "outputs": [],
   "source": [
    "arr = np.arange(10)\n",
    "np.random.shuffle(arr)\n",
    "print(arr)"
   ]
  },
  {
   "cell_type": "markdown",
   "metadata": {},
   "source": [
    "You can also look for common distributions, like Poisson or Normal."
   ]
  },
  {
   "cell_type": "code",
   "execution_count": null,
   "metadata": {},
   "outputs": [],
   "source": [
    "print(np.random.poisson(6.0))\n",
    "print(np.random.normal(1.5, 4.0)) # mean, stdev\n",
    "print(np.random.normal()) # zero mean, unit var"
   ]
  },
  {
   "cell_type": "markdown",
   "metadata": {},
   "source": [
    "#### Programming exercises\n",
    "1. Write a program that generates a Bernoulli random variable which returns 1 with probability p and 0 with probability 1 - p. Hint: use ```np.random.random()```, which returns a single float uniformly between 0 and 1.\n",
    "\n",
    "1. Write a problem that generates a Bernoulli RV array of size ```size```. Hint: use np.random.random() to generate an array that is the right size, and then use boolean indexing."
   ]
  },
  {
   "cell_type": "code",
   "execution_count": null,
   "metadata": {},
   "outputs": [],
   "source": [
    "# exercise 1\n",
    "def bernoulli(p):\n",
    "    # with probability p (0 <= p <= 1), return 1\n",
    "    # otherwise, with probability 1 - p, return 0\n",
    "    pass"
   ]
  },
  {
   "cell_type": "code",
   "execution_count": null,
   "metadata": {},
   "outputs": [],
   "source": [
    "# exercise 2\n",
    "def bernoulli_arr(p, size):\n",
    "    pass"
   ]
  },
  {
   "cell_type": "markdown",
   "metadata": {},
   "source": [
    "## 4. Basics of Matplotlib\n",
    "\n",
    "In this section we'll talk about how to use NumPy combined with our file-reading techniques from last time to find statistics about data. Then, we'll also learn some basic graphing to visualize data. This will be useful for your homework, and we will continue discussing Matplotlib next week.\n",
    "\n",
    "Matplotlib is a graphing software for Python that heavily relies on the Numpy array abstraction."
   ]
  },
  {
   "cell_type": "code",
   "execution_count": null,
   "metadata": {},
   "outputs": [],
   "source": [
    "import matplotlib.pyplot as plt"
   ]
  },
  {
   "cell_type": "markdown",
   "metadata": {},
   "source": [
    "Plotting is pretty straight forward:\n",
    "1. Prepare your data\n",
    "1. For every line/data series, call the corresponding plotting function. This week we are only using the ```plt.plot(..)``` and ```plt.scatter(...)``` functions. You can call this as many times as you want; Matplotlib will keep plotting onto the same figure.\n",
    "1. Add your labels.\n",
    "1. ```plt.show()``` displays the figure."
   ]
  },
  {
   "cell_type": "code",
   "execution_count": null,
   "metadata": {},
   "outputs": [],
   "source": [
    "# Compute the x and y coordinates for points on sine and cosine curves\n",
    "x = np.arange(0, 3 * np.pi, 0.1)\n",
    "y_sin = np.sin(x)\n",
    "y_cos = np.cos(x)\n",
    "\n",
    "# Plot the points using matplotlib\n",
    "plt.plot(x, y_sin)\n",
    "plt.plot(x, y_cos)\n",
    "plt.xlabel('x axis label')\n",
    "plt.ylabel('y axis label')\n",
    "plt.title('Sine and Cosine')\n",
    "plt.legend(['Sine', 'Cosine']) # note the labels are in the order we plotted\n",
    "plt.show()"
   ]
  },
  {
   "cell_type": "markdown",
   "metadata": {},
   "source": [
    "If you don't want line plots and instead you want scatter plots, that's easy too. I've also passed in a parameter ```c``` that can specify our colors, and a ```label``` parameter that labels the series directly.\n",
    "\n",
    "The full color list with names is here: https://matplotlib.org/2.0.0/examples/color/named_colors.html"
   ]
  },
  {
   "cell_type": "code",
   "execution_count": null,
   "metadata": {},
   "outputs": [],
   "source": [
    "# scatter plot version\n",
    "plt.scatter(x, y_sin, c='k', label='Sine')\n",
    "plt.scatter(x, y_cos, c='b', label='Cosine')\n",
    "plt.xlabel('x axis label')\n",
    "plt.ylabel('y axis label')\n",
    "plt.title('Sine and Cosine')\n",
    "plt.legend() # note the empty call, since our series are now named\n",
    "plt.show()"
   ]
  },
  {
   "cell_type": "markdown",
   "metadata": {},
   "source": [
    "You can also save these plots. You do this as follows:\n",
    "\n",
    "1. ```fig = plt.figure()```\n",
    "1. Do your stuff\n",
    "1. ```fig.savefig('out.png')```"
   ]
  },
  {
   "cell_type": "code",
   "execution_count": null,
   "metadata": {},
   "outputs": [],
   "source": [
    "fig = plt.figure()\n",
    "plt.scatter(x, y_sin, c='k')\n",
    "plt.scatter(x, y_cos, c='b')\n",
    "plt.show()\n",
    "fig.savefig('out.png')\n",
    "# Figure saved to os.getcwd()\n",
    "print(os.getcwd())"
   ]
  },
  {
   "cell_type": "markdown",
   "metadata": {},
   "source": [
    "## 5. Homework\n",
    "\n",
    "* ```problem_01.ipynb``` Graphing with NumPy and Matplotlib\n",
    "* ```problem_02.ipynb``` Using SciPy"
   ]
  }
 ],
 "metadata": {
  "kernelspec": {
   "display_name": "Python 3",
   "language": "python",
   "name": "python3"
  },
  "language_info": {
   "codemirror_mode": {
    "name": "ipython",
    "version": 3
   },
   "file_extension": ".py",
   "mimetype": "text/x-python",
   "name": "python",
   "nbconvert_exporter": "python",
   "pygments_lexer": "ipython3",
   "version": "3.6.5"
  }
 },
 "nbformat": 4,
 "nbformat_minor": 2
}

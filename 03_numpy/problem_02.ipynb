{
 "cells": [
  {
   "cell_type": "markdown",
   "metadata": {},
   "source": [
    "# Problem 2: SciPy\n",
    "\n",
    "This problem is designed to teach you how to use SciPy documentation. While most of the functionality you might run into is covered by NumPy, sometimes you have to go to SciPy for more advanced functions. I use SciPy most commonly for images, but SciPy actually has a lot more to offer for various engineering applications:\n",
    "\n",
    "* Special functions (scipy.special)\n",
    "* Integration (scipy.integrate)\n",
    "* Optimization (scipy.optimize)\n",
    "* Interpolation (scipy.interpolate)\n",
    "* Fourier Transforms (scipy.fftpack)\n",
    "* Signal Processing (scipy.signal)\n",
    "* Linear Algebra (scipy.linalg)\n",
    "* Sparse Eigenvalue Problems with ARPACK\n",
    "* Compressed Sparse Graph Routines (scipy.sparse.csgraph)\n",
    "* Spatial data structures and algorithms (scipy.spatial)\n",
    "* Statistics (scipy.stats)\n",
    "* Multidimensional image processing (scipy.ndimage)\n",
    "* File IO (scipy.io)\n",
    "\n",
    "For this exercise, we will focus on ```scipy.ndimage```, and we will work through how to navigate the SciPy documentation. I usually just end up searching via Google and clicking on a SciPy documentation link, or looking at StackOverflow or Cross Validated (stats.statsexchange)."
   ]
  },
  {
   "cell_type": "code",
   "execution_count": 2,
   "metadata": {},
   "outputs": [
    {
     "name": "stdout",
     "output_type": "stream",
     "text": [
      "The autoreload extension is already loaded. To reload it, use:\n",
      "  %reload_ext autoreload\n"
     ]
    }
   ],
   "source": [
    "# the following code guarantees you'll properly reload any modules that you custom-defined in your environment.\n",
    "# you don't need to understand it.\n",
    "# just run this once at the beginning.\n",
    "# for auto-reloading extenrnal modules\n",
    "# see http://stackoverflow.com/questions/1907993/autoreload-of-modules-in-ipython\n",
    "%load_ext autoreload\n",
    "%autoreload 2\n",
    "\n",
    "import numpy as np\n",
    "import matplotlib.pyplot as plt"
   ]
  },
  {
   "cell_type": "markdown",
   "metadata": {},
   "source": [
    "You will be following along with the open-source **Sci-Py lecture notes**:\n",
    "\n",
    "[SciPy lectures on Image Processing](http://www.scipy-lectures.org/advanced/image_processing/)\n",
    "\n",
    "***BIG NOTE***: There are **Example python programs** if you scroll all the way down to Section 2.6.8. **This will be really useful to you.**\n",
    "\n",
    "It might also be useful for you to look through the SciPy documentation. I usually do this by searching via Google and then clicking on SciPy documentation. For example, here is the ```imread``` documentation: https://docs.scipy.org/doc/scipy/reference/generated/scipy.misc.imread.html "
   ]
  },
  {
   "cell_type": "markdown",
   "metadata": {},
   "source": [
    "## Exercise 1\n",
    "\n",
    "Put an image of your choice into ```03_numpy/images/.```. Then load it in as a numpy array using ```scipy.misc.imread```, and show it using ```matplotlib``` and ```imshow``` (Section 2.6.1 of the SciPy lecture notes on Image Processing).\n",
    "\n",
    "Note that the tutorial uses a stock image called ```face``` located in ```scipy.misc.face```. You should replace all occurrences of this with an ```imread``` function that reads in your JPEG or PNG."
   ]
  },
  {
   "cell_type": "code",
   "execution_count": null,
   "metadata": {},
   "outputs": [],
   "source": []
  },
  {
   "cell_type": "markdown",
   "metadata": {},
   "source": [
    "## Exercise 2\n",
    "\n",
    "Follow along with Section 2.6.3 of the SciPy lecture notes on Image Processing."
   ]
  },
  {
   "cell_type": "code",
   "execution_count": null,
   "metadata": {},
   "outputs": [],
   "source": []
  },
  {
   "cell_type": "markdown",
   "metadata": {},
   "source": [
    "Recreate the circular crop image with your own custom image.\n",
    "\n",
    "1. Plot the circular crop image in this notebook by using ```imshow```.\n",
    "1. Save the circular crop image in ```03_numpy/images/.```."
   ]
  },
  {
   "cell_type": "code",
   "execution_count": null,
   "metadata": {},
   "outputs": [],
   "source": []
  },
  {
   "cell_type": "markdown",
   "metadata": {},
   "source": [
    "## Exercise 3\n",
    "\n",
    "Rotate your image by (a) 45 degrees counterclockwise and (b) 180 degrees and plote ach of them in this notebook using ```imshow```. You do not need to save these images. You can use Section 2.6.3 in the SciPy lecture notes on Image Processing as a reference."
   ]
  },
  {
   "cell_type": "code",
   "execution_count": null,
   "metadata": {},
   "outputs": [],
   "source": []
  },
  {
   "cell_type": "markdown",
   "metadata": {},
   "source": [
    "## Exercise 4\n",
    "\n",
    "Blur your custom image with a Gaussian filter with sigma=25. Save this image in ```03_numpy/images/...``` This corresponds to Section 2.6.4.1 in the SciPy lecture notes on Image Processing."
   ]
  },
  {
   "cell_type": "code",
   "execution_count": null,
   "metadata": {},
   "outputs": [],
   "source": []
  },
  {
   "cell_type": "markdown",
   "metadata": {},
   "source": [
    "## Exercise 5\n",
    "\n",
    "Use a Sobel filter to transform your custom image with edge detection. Save this image in ```03_numpy/images/...```.\n",
    "\n",
    "Note: scroll down to Section 2.6.8 and open up the example, \"Finding edges with Sobel filters.\""
   ]
  },
  {
   "cell_type": "code",
   "execution_count": null,
   "metadata": {},
   "outputs": [],
   "source": []
  }
 ],
 "metadata": {
  "kernelspec": {
   "display_name": "Python 3",
   "language": "python",
   "name": "python3"
  },
  "language_info": {
   "codemirror_mode": {
    "name": "ipython",
    "version": 3
   },
   "file_extension": ".py",
   "mimetype": "text/x-python",
   "name": "python",
   "nbconvert_exporter": "python",
   "pygments_lexer": "ipython3",
   "version": "3.6.5"
  }
 },
 "nbformat": 4,
 "nbformat_minor": 2
}
